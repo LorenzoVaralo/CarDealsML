{
 "cells": [
  {
   "cell_type": "code",
   "execution_count": 1,
   "metadata": {},
   "outputs": [],
   "source": [
    "from sklearn.preprocessing import MinMaxScaler, StandardScaler\n",
    "from sklearn.model_selection import cross_validate\n",
    "from sklearn.feature_extraction.text import *\n",
    "import matplotlib.pyplot as plt\n",
    "import seaborn as sns\n",
    "import pandas as pd\n",
    "import numpy as np\n",
    "import unicodedata\n",
    "import urlextract\n",
    "import spacy\n",
    "import regex\n",
    "import nltk\n",
    "import re"
   ]
  },
  {
   "cell_type": "code",
   "execution_count": 2,
   "metadata": {},
   "outputs": [
    {
     "name": "stdout",
     "output_type": "stream",
     "text": [
      "\u001b[38;5;3m⚠ Skipping model package dependencies and setting `--no-deps`. You\n",
      "don't seem to have the spaCy package itself installed (maybe because you've\n",
      "built from source?), so installing the model dependencies would cause spaCy to\n",
      "be downloaded, which probably isn't what you want. If the model package has\n",
      "other dependencies, you'll have to install them manually.\u001b[0m\n",
      "Collecting pt_core_news_sm==2.3.0\n",
      "  Using cached pt_core_news_sm-2.3.0-py3-none-any.whl\n",
      "\u001b[38;5;2m✔ Download and installation successful\u001b[0m\n",
      "You can now load the model via spacy.load('pt_core_news_sm')\n",
      "\u001b[38;5;2m✔ Linking successful\u001b[0m\n",
      "/home/lorenzovaralo/anaconda3/envs/ML/lib/python3.7/site-packages/pt_core_news_sm\n",
      "-->\n",
      "/home/lorenzovaralo/anaconda3/envs/ML/lib/python3.7/site-packages/spacy/data/pt\n",
      "You can now load the model via spacy.load('pt')\n"
     ]
    }
   ],
   "source": [
    "!python -m spacy download pt"
   ]
  },
  {
   "cell_type": "code",
   "execution_count": 3,
   "metadata": {},
   "outputs": [
    {
     "name": "stderr",
     "output_type": "stream",
     "text": [
      "[nltk_data] Downloading package punkt to\n",
      "[nltk_data]     /home/lorenzovaralo/nltk_data...\n",
      "[nltk_data]   Package punkt is already up-to-date!\n",
      "[nltk_data] Downloading package stopwords to\n",
      "[nltk_data]     /home/lorenzovaralo/nltk_data...\n",
      "[nltk_data]   Package stopwords is already up-to-date!\n"
     ]
    }
   ],
   "source": [
    "nltk.download('punkt')\n",
    "nltk.download('stopwords')\n",
    "sw = nltk.corpus.stopwords.words('portuguese')\n",
    "sw.remove('sem')\n",
    "sw.remove('nem')"
   ]
  },
  {
   "cell_type": "code",
   "execution_count": 4,
   "metadata": {},
   "outputs": [],
   "source": [
    "df = pd.read_csv('Dataframe.csv')"
   ]
  },
  {
   "cell_type": "code",
   "execution_count": 5,
   "metadata": {},
   "outputs": [
    {
     "data": {
      "text/plain": [
       "0        \"CARRO EM EXCELENTE ESTADO TUDO FUNCIONANDO.&l...\n",
       "1        \"JEEP COMPASS LONGITUDE TD350 DIESEL!&lt;br&gt...\n",
       "2        \"FIAT TORO VOLCANO DIESEL 4X4 !&lt;br&gt;COMPL...\n",
       "3                         \"Carro em ótimo estado, 2 dono.\"\n",
       "4        \"Whatsapp - (51) 99359.1000&lt;br&gt;&lt;br&gt...\n",
       "                               ...                        \n",
       "23751    \"Vendo Voyage 93 bem conservado.. &lt;br&gt;Ma...\n",
       "23752    \"Montana LS2 Versão completa com &lt;br&gt;Ar-...\n",
       "23753    \"Vendo Fluence Dyn. Plus, completo, motor 2.0 ...\n",
       "23754    \"81 mil km trocado pastilha revisado bomba lim...\n",
       "23755    \"? 4x4 &lt;br&gt;? rodas 20 com pneus novos &l...\n",
       "Name: addesc, Length: 23756, dtype: object"
      ]
     },
     "execution_count": 5,
     "metadata": {},
     "output_type": "execute_result"
    }
   ],
   "source": [
    "desc = df.addesc\n",
    "desc"
   ]
  },
  {
   "cell_type": "code",
   "execution_count": 6,
   "metadata": {},
   "outputs": [
    {
     "name": "stderr",
     "output_type": "stream",
     "text": [
      "[nltk_data] Downloading package rslp to\n",
      "[nltk_data]     /home/lorenzovaralo/nltk_data...\n",
      "[nltk_data]   Package rslp is already up-to-date!\n"
     ]
    },
    {
     "data": {
      "text/plain": [
       "True"
      ]
     },
     "execution_count": 6,
     "metadata": {},
     "output_type": "execute_result"
    }
   ],
   "source": [
    "nltk.download('rslp')"
   ]
  },
  {
   "cell_type": "code",
   "execution_count": 7,
   "metadata": {},
   "outputs": [],
   "source": [
    "from nltk.stem import RSLPStemmer\n",
    "stemmer = RSLPStemmer()\n",
    "pattern = regex.compile(r'[^\\p{L}]+', re.UNICODE)\n",
    "\n",
    "def normalize_chars(texto):\n",
    "    texto = texto.lower()\n",
    "    texto = texto.replace('&lt;', ' ').replace('br&gt;', ' ')\n",
    "    tokens = nltk.tokenize.word_tokenize(texto, language='portuguese', )\n",
    "    texto =  ' '.join([stemmer.stem(x) for x in tokens if x not in sw])\n",
    "    #texto = ''.join(char for char in unicodedata.normalize('NFD', texto) if unicodedata.category(char) != 'Mn')\n",
    "    texto = re.sub('4\\s?x\\s?4', ' QUATROPORQUATRO ', texto)\n",
    "    texto = re.sub('[3-9]\\d\\d\\d.?\\d\\d\\d\\d', ' NUMTELEFONE ', texto)\n",
    "    texto = re.sub('w(ha|a).+?\\s', ' WHATS ', texto)\n",
    "    texto = re.sub('www\\..+?(\\.com\\.br|\\.com)', ' URL ', texto)\n",
    "    texto = pattern.sub(' ', texto)\n",
    "    return re.sub('\\s+', ' ', texto).strip()"
   ]
  },
  {
   "cell_type": "code",
   "execution_count": 8,
   "metadata": {},
   "outputs": [
    {
     "data": {
      "text/plain": [
       "0        carr excel est tud funcion carr complet inform...\n",
       "1        jeep compas longitud td diesel complet multimi...\n",
       "2        fiat tor volc diesel QUATROPORQUATRO complet s...\n",
       "3                                        carr ótim est don\n",
       "4        WHATS NUMTELEFONE gravataí NUMTELEFONE opç zer...\n",
       "                               ...                        \n",
       "23751    vend voyag bem conserv fot inform cham WHATS N...\n",
       "23752    mont ls vers complet ar condicion direç hidráu...\n",
       "23753    vend fluenc dyn plu complet motor gnv carr top...\n",
       "23754    mil km troc pastilh revis bomb limp flu arrefe...\n",
       "23755    QUATROPORQUATRO rod pneu nov banc cour nov fei...\n",
       "Name: addesc, Length: 23756, dtype: object"
      ]
     },
     "execution_count": 8,
     "metadata": {},
     "output_type": "execute_result"
    }
   ],
   "source": [
    "desc = desc.apply(normalize_chars)\n",
    "desc"
   ]
  },
  {
   "cell_type": "code",
   "execution_count": 9,
   "metadata": {},
   "outputs": [
    {
     "data": {
      "text/plain": [
       "'carr excel est tud funcion carr complet inform WHATS xa xa public revend'"
      ]
     },
     "execution_count": 9,
     "metadata": {},
     "output_type": "execute_result"
    }
   ],
   "source": [
    "desc.iloc[0]"
   ]
  },
  {
   "cell_type": "code",
   "execution_count": 10,
   "metadata": {},
   "outputs": [],
   "source": [
    "vectorizer = TfidfVectorizer(max_features=1000, strip_accents='unicode', dtype=np.float32)\n",
    "Xa = vectorizer.fit_transform(desc).toarray()"
   ]
  },
  {
   "cell_type": "code",
   "execution_count": 11,
   "metadata": {},
   "outputs": [],
   "source": [
    "vocab = vectorizer.get_feature_names()"
   ]
  },
  {
   "cell_type": "code",
   "execution_count": 12,
   "metadata": {},
   "outputs": [
    {
     "data": {
      "text/plain": [
       "0        carr excel est tud funcion carr complet inform...\n",
       "1        jeep compas longitud td diesel complet multimi...\n",
       "2        fiat tor volc diesel QUATROPORQUATRO complet s...\n",
       "3                                        carr ótim est don\n",
       "4        WHATS NUMTELEFONE gravataí NUMTELEFONE opç zer...\n",
       "                               ...                        \n",
       "23751    vend voyag bem conserv fot inform cham WHATS N...\n",
       "23752    mont ls vers complet ar condicion direç hidráu...\n",
       "23753    vend fluenc dyn plu complet motor gnv carr top...\n",
       "23754    mil km troc pastilh revis bomb limp flu arrefe...\n",
       "23755    QUATROPORQUATRO rod pneu nov banc cour nov fei...\n",
       "Name: addesc, Length: 23756, dtype: object"
      ]
     },
     "execution_count": 12,
     "metadata": {},
     "output_type": "execute_result"
    }
   ],
   "source": [
    "desc"
   ]
  },
  {
   "cell_type": "code",
   "execution_count": 14,
   "metadata": {},
   "outputs": [],
   "source": [
    "df = df[['gearbox','regdate','mileage','motorpower','fuel','car_steering','doors', 'price', 'valorFipe']]"
   ]
  },
  {
   "cell_type": "code",
   "execution_count": 15,
   "metadata": {},
   "outputs": [],
   "source": [
    "df['pricewrtfipe'] = (df.loc[:,'price']/df.loc[:,'valorFipe'])\n",
    "df.drop(['price','valorFipe'], axis='columns', inplace=True)"
   ]
  },
  {
   "cell_type": "code",
   "execution_count": 16,
   "metadata": {},
   "outputs": [
    {
     "data": {
      "text/plain": [
       "<AxesSubplot:>"
      ]
     },
     "execution_count": 16,
     "metadata": {},
     "output_type": "execute_result"
    },
    {
     "data": {
      "image/png": "[encoded data removed]",
      "text/plain": [
       "<Figure size 432x288 with 1 Axes>"
      ]
     },
     "metadata": {
      "needs_background": "light"
     },
     "output_type": "display_data"
    }
   ],
   "source": [
    "df.pricewrtfipe.hist(bins=50)"
   ]
  },
  {
   "cell_type": "code",
   "execution_count": 17,
   "metadata": {},
   "outputs": [
    {
     "data": {
      "text/plain": [
       "0.33518418818612455"
      ]
     },
     "execution_count": 17,
     "metadata": {},
     "output_type": "execute_result"
    }
   ],
   "source": [
    "df.pricewrtfipe.std()"
   ]
  },
  {
   "cell_type": "code",
   "execution_count": 18,
   "metadata": {},
   "outputs": [],
   "source": [
    "def normalize_data2(df, gausify=True, std_scale=True):\n",
    "    data = df.copy()\n",
    "    m = data.__len__()\n",
    "    if gausify:\n",
    "        data['regdate'] = data.regdate.apply(lambda x: np.log1p(data.regdate.max() - x))\n",
    "        data['mileage'] = data.mileage.apply(np.sqrt)\n",
    "    \n",
    "    if std_scale:\n",
    "        scaler = StandardScaler()\n",
    "    else:\n",
    "        scaler = MinMaxScaler()\n",
    "    \n",
    "    scaled_data = scaler.fit_transform(data[['regdate','mileage','pricewrtfipe']].values.reshape((m,3)))\n",
    "    data[['regdate','mileage','pricewrtfipe']] = scaled_data\n",
    "\n",
    "    return data"
   ]
  },
  {
   "cell_type": "code",
   "execution_count": 19,
   "metadata": {},
   "outputs": [],
   "source": [
    "df = pd.get_dummies(df)\n",
    "df = normalize_data2(df)"
   ]
  },
  {
   "cell_type": "code",
   "execution_count": 20,
   "metadata": {},
   "outputs": [
    {
     "data": {
      "text/plain": [
       "<AxesSubplot:>"
      ]
     },
     "execution_count": 20,
     "metadata": {},
     "output_type": "execute_result"
    },
    {
     "data": {
      "image/png": "[encoded data removed]",
      "text/plain": [
       "<Figure size 432x288 with 1 Axes>"
      ]
     },
     "metadata": {
      "needs_background": "light"
     },
     "output_type": "display_data"
    }
   ],
   "source": [
    "df.pricewrtfipe.hist(bins=50)"
   ]
  },
  {
   "cell_type": "code",
   "execution_count": 21,
   "metadata": {},
   "outputs": [],
   "source": [
    "#words_df = words_df.loc[(ml.pricewrtfipe > -3.1)&(ml.pricewrtfipe < 3.1)]\n",
    "#ml = ml.loc[(ml.pricewrtfipe > -3.1)&(ml.pricewrtfipe < 3.1)]\n",
    "#ml.pricewrtfipe = StandardScaler().fit_transform(ml.pricewrtfipe.values.reshape(ml.__len__(), 1))"
   ]
  },
  {
   "cell_type": "code",
   "execution_count": 22,
   "metadata": {},
   "outputs": [
    {
     "data": {
      "text/plain": [
       "-4.55828897667281e-16"
      ]
     },
     "execution_count": 22,
     "metadata": {},
     "output_type": "execute_result"
    }
   ],
   "source": [
    "df.pricewrtfipe.mean()"
   ]
  },
  {
   "cell_type": "code",
   "execution_count": 23,
   "metadata": {},
   "outputs": [
    {
     "data": {
      "text/plain": [
       "<AxesSubplot:>"
      ]
     },
     "execution_count": 23,
     "metadata": {},
     "output_type": "execute_result"
    },
    {
     "data": {
      "image/png": "[encoded data removed]",
      "text/plain": [
       "<Figure size 432x288 with 1 Axes>"
      ]
     },
     "metadata": {
      "needs_background": "light"
     },
     "output_type": "display_data"
    }
   ],
   "source": [
    "df.pricewrtfipe.hist(bins=50)"
   ]
  },
  {
   "cell_type": "code",
   "execution_count": 24,
   "metadata": {},
   "outputs": [],
   "source": [
    "df_ww = pd.concat((df['pricewrtfipe'], df.drop('pricewrtfipe', axis='columns'), pd.DataFrame(Xa, columns=vocab)), axis=1)\n",
    "del df\n",
    "del Xa\n",
    "del vocab\n",
    "del desc"
   ]
  },
  {
   "cell_type": "code",
   "execution_count": 25,
   "metadata": {},
   "outputs": [],
   "source": [
    "df_ww.to_csv('datanlp3.csv')"
   ]
  },
  {
   "cell_type": "code",
   "execution_count": 26,
   "metadata": {},
   "outputs": [
    {
     "data": {
      "text/html": [
       "<div>\n",
       "<style scoped>\n",
       "    .dataframe tbody tr th:only-of-type {\n",
       "        vertical-align: middle;\n",
       "    }\n",
       "\n",
       "    .dataframe tbody tr th {\n",
       "        vertical-align: top;\n",
       "    }\n",
       "\n",
       "    .dataframe thead th {\n",
       "        text-align: right;\n",
       "    }\n",
       "</style>\n",
       "<table border=\"1\" class=\"dataframe\">\n",
       "  <thead>\n",
       "    <tr style=\"text-align: right;\">\n",
       "      <th></th>\n",
       "      <th>pricewrtfipe</th>\n",
       "      <th>regdate</th>\n",
       "      <th>mileage</th>\n",
       "      <th>doors</th>\n",
       "      <th>gearbox_Automático</th>\n",
       "      <th>gearbox_Manual</th>\n",
       "      <th>motorpower_1.0</th>\n",
       "      <th>motorpower_1.2</th>\n",
       "      <th>motorpower_1.3</th>\n",
       "      <th>motorpower_1.4</th>\n",
       "      <th>...</th>\n",
       "      <th>xf</th>\n",
       "      <th>xj</th>\n",
       "      <th>xkr</th>\n",
       "      <th>xl</th>\n",
       "      <th>xr</th>\n",
       "      <th>xs</th>\n",
       "      <th>xxx</th>\n",
       "      <th>zaf</th>\n",
       "      <th>zer</th>\n",
       "      <th>zon</th>\n",
       "    </tr>\n",
       "  </thead>\n",
       "  <tbody>\n",
       "    <tr>\n",
       "      <th>0</th>\n",
       "      <td>-0.100900</td>\n",
       "      <td>0.565747</td>\n",
       "      <td>0.352588</td>\n",
       "      <td>1</td>\n",
       "      <td>0</td>\n",
       "      <td>1</td>\n",
       "      <td>1</td>\n",
       "      <td>0</td>\n",
       "      <td>0</td>\n",
       "      <td>0</td>\n",
       "      <td>...</td>\n",
       "      <td>0.0</td>\n",
       "      <td>0.0</td>\n",
       "      <td>0.0</td>\n",
       "      <td>0.0</td>\n",
       "      <td>0.0</td>\n",
       "      <td>0.0</td>\n",
       "      <td>0.0</td>\n",
       "      <td>0.0</td>\n",
       "      <td>0.000000</td>\n",
       "      <td>0.0</td>\n",
       "    </tr>\n",
       "    <tr>\n",
       "      <th>1</th>\n",
       "      <td>-0.159984</td>\n",
       "      <td>-2.345612</td>\n",
       "      <td>-2.026409</td>\n",
       "      <td>1</td>\n",
       "      <td>1</td>\n",
       "      <td>0</td>\n",
       "      <td>0</td>\n",
       "      <td>0</td>\n",
       "      <td>0</td>\n",
       "      <td>0</td>\n",
       "      <td>...</td>\n",
       "      <td>0.0</td>\n",
       "      <td>0.0</td>\n",
       "      <td>0.0</td>\n",
       "      <td>0.0</td>\n",
       "      <td>0.0</td>\n",
       "      <td>0.0</td>\n",
       "      <td>0.0</td>\n",
       "      <td>0.0</td>\n",
       "      <td>0.000000</td>\n",
       "      <td>0.0</td>\n",
       "    </tr>\n",
       "    <tr>\n",
       "      <th>2</th>\n",
       "      <td>-0.108632</td>\n",
       "      <td>-0.560521</td>\n",
       "      <td>-0.114044</td>\n",
       "      <td>1</td>\n",
       "      <td>1</td>\n",
       "      <td>0</td>\n",
       "      <td>0</td>\n",
       "      <td>0</td>\n",
       "      <td>0</td>\n",
       "      <td>0</td>\n",
       "      <td>...</td>\n",
       "      <td>0.0</td>\n",
       "      <td>0.0</td>\n",
       "      <td>0.0</td>\n",
       "      <td>0.0</td>\n",
       "      <td>0.0</td>\n",
       "      <td>0.0</td>\n",
       "      <td>0.0</td>\n",
       "      <td>0.0</td>\n",
       "      <td>0.000000</td>\n",
       "      <td>0.0</td>\n",
       "    </tr>\n",
       "    <tr>\n",
       "      <th>3</th>\n",
       "      <td>-0.258163</td>\n",
       "      <td>0.565747</td>\n",
       "      <td>0.453117</td>\n",
       "      <td>1</td>\n",
       "      <td>1</td>\n",
       "      <td>0</td>\n",
       "      <td>0</td>\n",
       "      <td>0</td>\n",
       "      <td>0</td>\n",
       "      <td>0</td>\n",
       "      <td>...</td>\n",
       "      <td>0.0</td>\n",
       "      <td>0.0</td>\n",
       "      <td>0.0</td>\n",
       "      <td>0.0</td>\n",
       "      <td>0.0</td>\n",
       "      <td>0.0</td>\n",
       "      <td>0.0</td>\n",
       "      <td>0.0</td>\n",
       "      <td>0.000000</td>\n",
       "      <td>0.0</td>\n",
       "    </tr>\n",
       "    <tr>\n",
       "      <th>4</th>\n",
       "      <td>-0.921772</td>\n",
       "      <td>0.695805</td>\n",
       "      <td>2.519195</td>\n",
       "      <td>1</td>\n",
       "      <td>0</td>\n",
       "      <td>1</td>\n",
       "      <td>0</td>\n",
       "      <td>0</td>\n",
       "      <td>0</td>\n",
       "      <td>0</td>\n",
       "      <td>...</td>\n",
       "      <td>0.0</td>\n",
       "      <td>0.0</td>\n",
       "      <td>0.0</td>\n",
       "      <td>0.0</td>\n",
       "      <td>0.0</td>\n",
       "      <td>0.0</td>\n",
       "      <td>0.0</td>\n",
       "      <td>0.0</td>\n",
       "      <td>0.169866</td>\n",
       "      <td>0.0</td>\n",
       "    </tr>\n",
       "    <tr>\n",
       "      <th>...</th>\n",
       "      <td>...</td>\n",
       "      <td>...</td>\n",
       "      <td>...</td>\n",
       "      <td>...</td>\n",
       "      <td>...</td>\n",
       "      <td>...</td>\n",
       "      <td>...</td>\n",
       "      <td>...</td>\n",
       "      <td>...</td>\n",
       "      <td>...</td>\n",
       "      <td>...</td>\n",
       "      <td>...</td>\n",
       "      <td>...</td>\n",
       "      <td>...</td>\n",
       "      <td>...</td>\n",
       "      <td>...</td>\n",
       "      <td>...</td>\n",
       "      <td>...</td>\n",
       "      <td>...</td>\n",
       "      <td>...</td>\n",
       "      <td>...</td>\n",
       "    </tr>\n",
       "    <tr>\n",
       "      <th>23751</th>\n",
       "      <td>-1.091563</td>\n",
       "      <td>2.107870</td>\n",
       "      <td>1.056981</td>\n",
       "      <td>0</td>\n",
       "      <td>0</td>\n",
       "      <td>1</td>\n",
       "      <td>0</td>\n",
       "      <td>0</td>\n",
       "      <td>0</td>\n",
       "      <td>0</td>\n",
       "      <td>...</td>\n",
       "      <td>0.0</td>\n",
       "      <td>0.0</td>\n",
       "      <td>0.0</td>\n",
       "      <td>0.0</td>\n",
       "      <td>0.0</td>\n",
       "      <td>0.0</td>\n",
       "      <td>0.0</td>\n",
       "      <td>0.0</td>\n",
       "      <td>0.000000</td>\n",
       "      <td>0.0</td>\n",
       "    </tr>\n",
       "    <tr>\n",
       "      <th>23752</th>\n",
       "      <td>0.053888</td>\n",
       "      <td>-0.560521</td>\n",
       "      <td>-0.028144</td>\n",
       "      <td>0</td>\n",
       "      <td>0</td>\n",
       "      <td>1</td>\n",
       "      <td>0</td>\n",
       "      <td>0</td>\n",
       "      <td>0</td>\n",
       "      <td>1</td>\n",
       "      <td>...</td>\n",
       "      <td>0.0</td>\n",
       "      <td>0.0</td>\n",
       "      <td>0.0</td>\n",
       "      <td>0.0</td>\n",
       "      <td>0.0</td>\n",
       "      <td>0.0</td>\n",
       "      <td>0.0</td>\n",
       "      <td>0.0</td>\n",
       "      <td>0.159703</td>\n",
       "      <td>0.0</td>\n",
       "    </tr>\n",
       "    <tr>\n",
       "      <th>23753</th>\n",
       "      <td>-0.506957</td>\n",
       "      <td>-0.310047</td>\n",
       "      <td>-2.026409</td>\n",
       "      <td>1</td>\n",
       "      <td>1</td>\n",
       "      <td>0</td>\n",
       "      <td>0</td>\n",
       "      <td>0</td>\n",
       "      <td>0</td>\n",
       "      <td>0</td>\n",
       "      <td>...</td>\n",
       "      <td>0.0</td>\n",
       "      <td>0.0</td>\n",
       "      <td>0.0</td>\n",
       "      <td>0.0</td>\n",
       "      <td>0.0</td>\n",
       "      <td>0.0</td>\n",
       "      <td>0.0</td>\n",
       "      <td>0.0</td>\n",
       "      <td>0.000000</td>\n",
       "      <td>0.0</td>\n",
       "    </tr>\n",
       "    <tr>\n",
       "      <th>23754</th>\n",
       "      <td>-0.384117</td>\n",
       "      <td>0.269500</td>\n",
       "      <td>0.239411</td>\n",
       "      <td>1</td>\n",
       "      <td>0</td>\n",
       "      <td>1</td>\n",
       "      <td>0</td>\n",
       "      <td>0</td>\n",
       "      <td>0</td>\n",
       "      <td>0</td>\n",
       "      <td>...</td>\n",
       "      <td>0.0</td>\n",
       "      <td>0.0</td>\n",
       "      <td>0.0</td>\n",
       "      <td>0.0</td>\n",
       "      <td>0.0</td>\n",
       "      <td>0.0</td>\n",
       "      <td>0.0</td>\n",
       "      <td>0.0</td>\n",
       "      <td>0.326355</td>\n",
       "      <td>0.0</td>\n",
       "    </tr>\n",
       "    <tr>\n",
       "      <th>23755</th>\n",
       "      <td>0.465725</td>\n",
       "      <td>-0.560521</td>\n",
       "      <td>0.259338</td>\n",
       "      <td>1</td>\n",
       "      <td>0</td>\n",
       "      <td>1</td>\n",
       "      <td>0</td>\n",
       "      <td>0</td>\n",
       "      <td>0</td>\n",
       "      <td>0</td>\n",
       "      <td>...</td>\n",
       "      <td>0.0</td>\n",
       "      <td>0.0</td>\n",
       "      <td>0.0</td>\n",
       "      <td>0.0</td>\n",
       "      <td>0.0</td>\n",
       "      <td>0.0</td>\n",
       "      <td>0.0</td>\n",
       "      <td>0.0</td>\n",
       "      <td>0.000000</td>\n",
       "      <td>0.0</td>\n",
       "    </tr>\n",
       "  </tbody>\n",
       "</table>\n",
       "<p>23756 rows × 1026 columns</p>\n",
       "</div>"
      ],
      "text/plain": [
       "       pricewrtfipe   regdate   mileage  doors  gearbox_Automático  \\\n",
       "0         -0.100900  0.565747  0.352588      1                   0   \n",
       "1         -0.159984 -2.345612 -2.026409      1                   1   \n",
       "2         -0.108632 -0.560521 -0.114044      1                   1   \n",
       "3         -0.258163  0.565747  0.453117      1                   1   \n",
       "4         -0.921772  0.695805  2.519195      1                   0   \n",
       "...             ...       ...       ...    ...                 ...   \n",
       "23751     -1.091563  2.107870  1.056981      0                   0   \n",
       "23752      0.053888 -0.560521 -0.028144      0                   0   \n",
       "23753     -0.506957 -0.310047 -2.026409      1                   1   \n",
       "23754     -0.384117  0.269500  0.239411      1                   0   \n",
       "23755      0.465725 -0.560521  0.259338      1                   0   \n",
       "\n",
       "       gearbox_Manual  motorpower_1.0  motorpower_1.2  motorpower_1.3  \\\n",
       "0                   1               1               0               0   \n",
       "1                   0               0               0               0   \n",
       "2                   0               0               0               0   \n",
       "3                   0               0               0               0   \n",
       "4                   1               0               0               0   \n",
       "...               ...             ...             ...             ...   \n",
       "23751               1               0               0               0   \n",
       "23752               1               0               0               0   \n",
       "23753               0               0               0               0   \n",
       "23754               1               0               0               0   \n",
       "23755               1               0               0               0   \n",
       "\n",
       "       motorpower_1.4  ...   xf   xj  xkr   xl   xr   xs  xxx  zaf       zer  \\\n",
       "0                   0  ...  0.0  0.0  0.0  0.0  0.0  0.0  0.0  0.0  0.000000   \n",
       "1                   0  ...  0.0  0.0  0.0  0.0  0.0  0.0  0.0  0.0  0.000000   \n",
       "2                   0  ...  0.0  0.0  0.0  0.0  0.0  0.0  0.0  0.0  0.000000   \n",
       "3                   0  ...  0.0  0.0  0.0  0.0  0.0  0.0  0.0  0.0  0.000000   \n",
       "4                   0  ...  0.0  0.0  0.0  0.0  0.0  0.0  0.0  0.0  0.169866   \n",
       "...               ...  ...  ...  ...  ...  ...  ...  ...  ...  ...       ...   \n",
       "23751               0  ...  0.0  0.0  0.0  0.0  0.0  0.0  0.0  0.0  0.000000   \n",
       "23752               1  ...  0.0  0.0  0.0  0.0  0.0  0.0  0.0  0.0  0.159703   \n",
       "23753               0  ...  0.0  0.0  0.0  0.0  0.0  0.0  0.0  0.0  0.000000   \n",
       "23754               0  ...  0.0  0.0  0.0  0.0  0.0  0.0  0.0  0.0  0.326355   \n",
       "23755               0  ...  0.0  0.0  0.0  0.0  0.0  0.0  0.0  0.0  0.000000   \n",
       "\n",
       "       zon  \n",
       "0      0.0  \n",
       "1      0.0  \n",
       "2      0.0  \n",
       "3      0.0  \n",
       "4      0.0  \n",
       "...    ...  \n",
       "23751  0.0  \n",
       "23752  0.0  \n",
       "23753  0.0  \n",
       "23754  0.0  \n",
       "23755  0.0  \n",
       "\n",
       "[23756 rows x 1026 columns]"
      ]
     },
     "execution_count": 26,
     "metadata": {},
     "output_type": "execute_result"
    }
   ],
   "source": [
    "df_ww"
   ]
  },
  {
   "cell_type": "code",
   "execution_count": 27,
   "metadata": {},
   "outputs": [
    {
     "name": "stdout",
     "output_type": "stream",
     "text": [
      "<class 'pandas.core.frame.DataFrame'>\n",
      "RangeIndex: 23756 entries, 0 to 23755\n",
      "Columns: 1026 entries, pricewrtfipe to zon\n",
      "dtypes: float32(1000), float64(3), int64(1), uint8(22)\n",
      "memory usage: 91.8 MB\n"
     ]
    }
   ],
   "source": [
    "df_ww.info()"
   ]
  },
  {
   "cell_type": "code",
   "execution_count": 29,
   "metadata": {},
   "outputs": [
    {
     "name": "stdout",
     "output_type": "stream",
     "text": [
      "Variable                Type               Data/Info\n",
      "----------------------------------------------------\n",
      "CountVectorizer         type               <class 'sklearn.feature_e<...>on.text.CountVectorizer'>\n",
      "ENGLISH_STOP_WORDS      frozenset          frozenset({'a', 'nobody',<...>, 'on', 'over', 'often'})\n",
      "HashingVectorizer       type               <class 'sklearn.feature_e<...>.text.HashingVectorizer'>\n",
      "MinMaxScaler            type               <class 'sklearn.preproces<...>sing._data.MinMaxScaler'>\n",
      "RSLPStemmer             ABCMeta            <class 'nltk.stem.rslp.RSLPStemmer'>\n",
      "StandardScaler          type               <class 'sklearn.preproces<...>ng._data.StandardScaler'>\n",
      "TfidfTransformer        type               <class 'sklearn.feature_e<...>n.text.TfidfTransformer'>\n",
      "TfidfVectorizer         type               <class 'sklearn.feature_e<...>on.text.TfidfVectorizer'>\n",
      "builtins                module             <module 'builtins' (built-in)>\n",
      "cross_validate          function           <function cross_validate at 0x7f3d9b0a7200>\n",
      "desc                    Series             0        carr excel est t<...>gth: 23756, dtype: object\n",
      "df                      DataFrame                  regdate   mileage<...>[23756 rows x 26 columns]\n",
      "df_ww                   DataFrame                 pricewrtfipe   reg<...>3756 rows x 1026 columns]\n",
      "nltk                    module             <module 'nltk' from '/hom<...>ckages/nltk/__init__.py'>\n",
      "normalize_chars         function           <function normalize_chars at 0x7f3e007e44d0>\n",
      "normalize_data2         function           <function normalize_data2 at 0x7f3e007a3170>\n",
      "np                      module             <module 'numpy' from '/ho<...>kages/numpy/__init__.py'>\n",
      "os                      module             <module 'os' from '/home/<...>/ML/lib/python3.7/os.py'>\n",
      "pattern                 Pattern            regex.Regex('[^\\\\p{L}]+', flags=regex.V0)\n",
      "pd                      module             <module 'pandas' from '/h<...>ages/pandas/__init__.py'>\n",
      "plt                     module             <module 'matplotlib.pyplo<...>es/matplotlib/pyplot.py'>\n",
      "re                      module             <module 're' from '/home/<...>/ML/lib/python3.7/re.py'>\n",
      "regex                   module             <module 'regex' from '/ho<...>kages/regex/__init__.py'>\n",
      "sns                     module             <module 'seaborn' from '/<...>ges/seaborn/__init__.py'>\n",
      "spacy                   module             <module 'spacy' from '/ho<...>kages/spacy/__init__.py'>\n",
      "stemmer                 RSLPStemmer        <nltk.stem.rslp.RSLPStemm<...>object at 0x7f3e0080ad10>\n",
      "strip_accents_ascii     function           <function strip_accents_ascii at 0x7f3d9a976cb0>\n",
      "strip_accents_unicode   function           <function strip_accents_u<...>nicode at 0x7f3d9a976b90>\n",
      "strip_tags              function           <function strip_tags at 0x7f3d9a976d40>\n",
      "sw                      list               n=202\n",
      "sys                     module             <module 'sys' (built-in)>\n",
      "unicodedata             module             <module 'unicodedata' fro<...>37m-x86_64-linux-gnu.so'>\n",
      "urlextract              module             <module 'urlextract' from<...>/urlextract/__init__.py'>\n",
      "vectorizer              TfidfVectorizer    TfidfVectorizer(dtype=<cl<...> strip_accents='unicode')\n",
      "words_df                DataFrame                       ab  abaix  a<...>3756 rows x 1000 columns]\n"
     ]
    }
   ],
   "source": [
    "%whos"
   ]
  },
  {
   "cell_type": "code",
   "execution_count": null,
   "metadata": {},
   "outputs": [],
   "source": []
  }
 ],
 "metadata": {
  "interpreter": {
   "hash": "12989127fc9eea451cc056eaccf32cd26bbc7865e73ddcf9409d9c2184a0fb81"
  },
  "kernelspec": {
   "display_name": "Python 3.7.10 ('ML')",
   "language": "python",
   "name": "python3"
  },
  "language_info": {
   "codemirror_mode": {
    "name": "ipython",
    "version": 3
   },
   "file_extension": ".py",
   "mimetype": "text/x-python",
   "name": "python",
   "nbconvert_exporter": "python",
   "pygments_lexer": "ipython3",
   "version": "3.7.12"
  },
  "orig_nbformat": 4
 },
 "nbformat": 4,
 "nbformat_minor": 2
}
