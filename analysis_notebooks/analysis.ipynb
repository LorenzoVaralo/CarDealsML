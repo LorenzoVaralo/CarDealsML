{
 "cells": [
  {
   "cell_type": "code",
   "execution_count": 1,
   "metadata": {},
   "outputs": [
    {
     "name": "stderr",
     "output_type": "stream",
     "text": [
      "[nltk_data] Downloading package punkt to\n",
      "[nltk_data]     /home/lorenzovaralo/nltk_data...\n",
      "[nltk_data]   Package punkt is already up-to-date!\n"
     ]
    },
    {
     "data": {
      "text/plain": [
       "True"
      ]
     },
     "execution_count": 1,
     "metadata": {},
     "output_type": "execute_result"
    }
   ],
   "source": [
    "import numpy as np\n",
    "import pandas as pd\n",
    "import matplotlib.pyplot as plt\n",
    "import sqlite3\n",
    "import nltk\n",
    "from unicodedata import normalize\n",
    "import json\n",
    "import re\n",
    "import regex\n",
    "import requests\n",
    "import ast\n",
    "\n",
    "pd.set_option('display.max_rows', 30)\n",
    "pd.set_option('display.max_columns', 50)\n",
    "pd.set_option('display.width', 1000)\n",
    "nltk.download('punkt')"
   ]
  },
  {
   "cell_type": "code",
   "execution_count": 2,
   "metadata": {},
   "outputs": [],
   "source": [
    "con = sqlite3.connect('database')\n",
    "curr = con.cursor()"
   ]
  },
  {
   "cell_type": "code",
   "execution_count": 3,
   "metadata": {},
   "outputs": [],
   "source": [
    "df = pd.read_sql('SELECT * FROM CarInfoRaw;', con, index_col='Id')"
   ]
  },
  {
   "cell_type": "code",
   "execution_count": 4,
   "metadata": {},
   "outputs": [],
   "source": [
    "fipe = pd.read_sql('SELECT * FROM fipe;', con)"
   ]
  },
  {
   "cell_type": "code",
   "execution_count": 5,
   "metadata": {},
   "outputs": [
    {
     "data": {
      "text/plain": [
       "financial       8226\n",
       "dono            5138\n",
       "exchange        3689\n",
       "cartype         2632\n",
       "end_tag         2615\n",
       "                ... \n",
       "subCategory        0\n",
       "mainCategory       0\n",
       "price              0\n",
       "adDate             0\n",
       "pro_vendor         0\n",
       "Length: 33, dtype: int64"
      ]
     },
     "execution_count": 5,
     "metadata": {},
     "output_type": "execute_result"
    }
   ],
   "source": [
    "df.isna().sum().sort_values(ascending=False)"
   ]
  },
  {
   "cell_type": "code",
   "execution_count": 6,
   "metadata": {},
   "outputs": [
    {
     "data": {
      "text/plain": [
       "Index(['mainCategory', 'subCategory', 'mainCategoryID', 'subCategoryID', 'estado', 'category'], dtype='object')"
      ]
     },
     "execution_count": 6,
     "metadata": {},
     "output_type": "execute_result"
    }
   ],
   "source": [
    "redundant_data = df.nunique().loc[df.nunique()==1].index\n",
    "redundant_data"
   ]
  },
  {
   "cell_type": "code",
   "execution_count": 7,
   "metadata": {},
   "outputs": [
    {
     "data": {
      "text/plain": [
       "Index(['listId', 'sellerName', 'adDate', 'price', 'ddd', 'brand', 'model', 'versao', 'gearbox', 'titulo', 'region', 'vehicle_model', 'cartype', 'regdate', 'mileage', 'motorpower', 'fuel', 'car_steering', 'carcolor', 'doors', 'end_tag', 'dono', 'exchange', 'financial', 'extra', 'addesc', 'pro_vendor'], dtype='object')"
      ]
     },
     "execution_count": 7,
     "metadata": {},
     "output_type": "execute_result"
    }
   ],
   "source": [
    "df = df.drop(redundant_data, axis='columns')\n",
    "df.columns"
   ]
  },
  {
   "cell_type": "code",
   "execution_count": 8,
   "metadata": {},
   "outputs": [
    {
     "data": {
      "text/plain": [
       "dono         5138\n",
       "exchange     3689\n",
       "financial    8226\n",
       "dtype: int64"
      ]
     },
     "execution_count": 8,
     "metadata": {},
     "output_type": "execute_result"
    }
   ],
   "source": [
    "#Colunas com mais de 20% Nulas\n",
    "null_cols = df.isna().sum()[df.isna().sum() > df.__len__()*0.2]\n",
    "null_cols"
   ]
  },
  {
   "cell_type": "code",
   "execution_count": 9,
   "metadata": {},
   "outputs": [
    {
     "data": {
      "text/plain": [
       "Index(['listId', 'sellerName', 'adDate', 'price', 'ddd', 'brand', 'model', 'versao', 'gearbox', 'titulo', 'region', 'vehicle_model', 'cartype', 'regdate', 'mileage', 'motorpower', 'fuel', 'car_steering', 'carcolor', 'doors', 'end_tag', 'extra', 'addesc', 'pro_vendor'], dtype='object')"
      ]
     },
     "execution_count": 9,
     "metadata": {},
     "output_type": "execute_result"
    }
   ],
   "source": [
    "df = df.drop(null_cols.index, axis='columns')\n",
    "df.columns"
   ]
  },
  {
   "cell_type": "code",
   "execution_count": 10,
   "metadata": {},
   "outputs": [
    {
     "name": "stdout",
     "output_type": "stream",
     "text": [
      "Marca None: 74\n",
      "Modelo None: 161\n",
      "Versao None: 960\n",
      "VehicleModel None: 74\n"
     ]
    }
   ],
   "source": [
    "print('Marca None:', df.brand.isna().sum())\n",
    "print('Modelo None:', df.model.isna().sum())\n",
    "print('Versao None:', df.versao.isna().sum())\n",
    "print('VehicleModel None:', (df.vehicle_model == ' ').sum())"
   ]
  },
  {
   "cell_type": "code",
   "execution_count": 11,
   "metadata": {},
   "outputs": [
    {
     "data": {
      "text/plain": [
       "array([' ', ' ', ' ', ' ', ' ', ' ', ' ', ' ', ' ', ' ', ' ', ' ', ' ',\n",
       "       ' ', ' ', ' ', ' ', ' ', ' ', ' ', ' ', ' ', ' ', ' ', ' ', ' ',\n",
       "       ' ', ' ', ' ', ' ', ' ', ' ', ' ', ' ', ' ', ' ', ' ', ' ', ' ',\n",
       "       ' ', ' ', ' ', ' ', ' ', ' ', ' ', ' ', ' ', ' ', ' ', ' ', ' ',\n",
       "       ' ', ' ', ' ', ' ', ' ', ' ', ' ', ' ', ' ', ' ', ' ', ' ', ' ',\n",
       "       ' ', ' ', ' ', ' ', ' ', ' ', ' ', ' ', ' '], dtype=object)"
      ]
     },
     "execution_count": 11,
     "metadata": {},
     "output_type": "execute_result"
    }
   ],
   "source": [
    "df['vehicle_model'].values[df.brand.isna()]"
   ]
  },
  {
   "cell_type": "code",
   "execution_count": 12,
   "metadata": {},
   "outputs": [
    {
     "data": {
      "text/plain": [
       "array(['HONDA CIVIC', 'VW - VOLKSWAGEN GOLF', 'CITROEN C4',\n",
       "       'FORD TERRITORY', 'TOYOTA COROLLA', 'JEEP COMPASS', 'PEUGEOT 2008',\n",
       "       'PEUGEOT 2008', 'FORD KA', 'CADILLAC ', 'HYUNDAI ',\n",
       "       'VW - VOLKSWAGEN ', 'FIAT ', 'VW - VOLKSWAGEN VIRTUS',\n",
       "       'GM - CHEVROLET BLAZER', 'MITSUBISHI OUTLANDER',\n",
       "       'VW - VOLKSWAGEN POLO', 'FORD FIESTA', 'TOYOTA YARIS',\n",
       "       'TOYOTA COROLLA', 'CHERY ', 'GM - CHEVROLET CLASSIC', 'FIAT TORO',\n",
       "       'FORD PAMPA', 'FORD CLUB', 'RENAULT DUSTER', 'FIAT SIENA',\n",
       "       'VW - VOLKSWAGEN POLO', 'JEEP COMPASS', 'GM - CHEVROLET SS10',\n",
       "       'FORD CORCEL', 'GM - CHEVROLET CAMARO', 'CITROEN AIRCROSS',\n",
       "       'JEEP COMPASS', 'GM - CHEVROLET ONIX', 'TOYOTA YARIS', 'LIFAN X60',\n",
       "       'JEEP COMMANDER', 'VW - VOLKSWAGEN POLO', 'GM - CHEVROLET S10',\n",
       "       'GM - CHEVROLET TRAILBLAZER', 'FORD FIESTA', ' ', 'FIAT TORO',\n",
       "       'HYUNDAI IX35', 'VW - VOLKSWAGEN UP!', 'RENAULT DUSTER',\n",
       "       'LAND ROVER ', 'FORD FIESTA', 'VW - VOLKSWAGEN VIRTUS',\n",
       "       'TOYOTA HILUX', 'HONDA ', ' ', 'GM - CHEVROLET ONIX',\n",
       "       'TOYOTA COROLLA', 'GM - CHEVROLET S10', 'TOYOTA HILUX',\n",
       "       'GM - CHEVROLET ONIX', 'HYUNDAI HR', ' ', 'FIAT ', ' ',\n",
       "       'FIAT PANORAMA', 'JEEP COMPASS', 'MERCEDES-BENZ SPRINTER',\n",
       "       'HYUNDAI IX35', 'FIAT TORO', 'RENAULT CAPTUR', 'TOYOTA HILUX',\n",
       "       'GM - CHEVROLET SPIN', 'VW - VOLKSWAGEN GOL', 'TOYOTA COROLLA',\n",
       "       'GM - CHEVROLET BLAZER', 'TOYOTA HILUX', 'CHANA ', 'FORD ECOSPORT',\n",
       "       'GM - CHEVROLET S10', 'TOYOTA COROLLA', 'RENAULT ', ' ',\n",
       "       'TOYOTA COROLLA', 'FORD KA', 'GM - CHEVROLET CRUZE',\n",
       "       'GM - CHEVROLET VECTRA', 'GM - CHEVROLET TRACKER',\n",
       "       'GM - CHEVROLET CAMARO', 'TOYOTA YARIS', 'MERCEDES-BENZ C-180',\n",
       "       ' ', 'TOYOTA COROLLA', 'GM - CHEVROLET ', 'FIAT ARGO', 'FIAT TORO',\n",
       "       'BMW 535IA', 'LAND ROVER ', 'FORD F-250', 'MITSUBISHI ',\n",
       "       'VW - VOLKSWAGEN VIRTUS', 'GM - CHEVROLET CRUZE', 'NISSAN VERSA',\n",
       "       'GM - CHEVROLET SPIN', 'HONDA CIVIC', 'RENAULT DUSTER',\n",
       "       'FORD FOCUS', 'FORD CORCEL', ' ', 'JEEP RENEGADE',\n",
       "       'KIA MOTORS PICANTO', 'HONDA CIVIC', 'HYUNDAI HB20',\n",
       "       'VW - VOLKSWAGEN TIGUAN', 'VW - VOLKSWAGEN ',\n",
       "       'VW - VOLKSWAGEN FOX', 'RENAULT ', 'VW - VOLKSWAGEN EOS', ' ',\n",
       "       'FIAT GRAND SIENA', 'GM - CHEVROLET S10', 'FORD KA',\n",
       "       'VW - VOLKSWAGEN FOX', 'GM - CHEVROLET ONIX', 'TOYOTA HILUX',\n",
       "       'JEEP RENEGADE', 'LAND ROVER RANGE ROVER', 'GM - CHEVROLET MARAJO',\n",
       "       'HYUNDAI CRETA', 'VW - VOLKSWAGEN UP!', 'TOYOTA YARIS',\n",
       "       'GM - CHEVROLET ONIX', 'HYUNDAI TUCSON', 'VW - VOLKSWAGEN POLO',\n",
       "       'HYUNDAI ', 'TOYOTA COROLLA', 'HYUNDAI IX35',\n",
       "       'GM - CHEVROLET CRUZE', 'GM - CHEVROLET ONIX',\n",
       "       'GM - CHEVROLET BLAZER', 'PEUGEOT 307', 'FORD KA', 'TOYOTA ',\n",
       "       'DODGE JOURNEY', 'CHERY ', 'JEEP ', 'FIAT SIENA', 'TOYOTA COROLLA',\n",
       "       'VENTURA ', 'VW - VOLKSWAGEN VOYAGE', 'HONDA FIT',\n",
       "       'VW - VOLKSWAGEN AMAROK', 'HYUNDAI HB20', 'FORD KA', 'HONDA CIVIC',\n",
       "       'HYUNDAI CRETA', 'JEEP RENEGADE', 'GM - CHEVROLET PRISMA',\n",
       "       'HYUNDAI HB20S', 'GM - CHEVROLET CRUZE', ' ', 'TOYOTA YARIS',\n",
       "       'TOYOTA COROLLA', 'TOYOTA HILUX', 'VW - VOLKSWAGEN FUSCA',\n",
       "       'HYUNDAI HB20S', 'FORD ECOSPORT', ' ', 'FORD RANGER',\n",
       "       'GM - CHEVROLET ONIX', 'HYUNDAI SANTA FE', ' ', 'FORD F-75',\n",
       "       'TOYOTA COROLLA', 'FIAT TORO', 'LEXUS UX-250H', 'FORD CORCEL',\n",
       "       'GM - CHEVROLET PRISMA', ' ', 'VW - VOLKSWAGEN FOX', ' ',\n",
       "       'HYUNDAI CRETA', 'TOYOTA COROLLA', 'GM - CHEVROLET S10',\n",
       "       'GM - CHEVROLET TRACKER', 'FORD F-100', 'GM - CHEVROLET TRACKER',\n",
       "       'RENAULT LOGAN', 'GM - CHEVROLET CRUZE', 'FORD ', 'HYUNDAI ',\n",
       "       'HYUNDAI CRETA', 'GM - CHEVROLET ', 'JEEP ', 'HYUNDAI HB20',\n",
       "       'VW - VOLKSWAGEN FOX', 'FIAT TORO', 'FORD WILLYS',\n",
       "       'RENAULT CAPTUR', 'SUZUKI VITARA', 'GM - CHEVROLET TRACKER',\n",
       "       'TOYOTA ', 'VW - VOLKSWAGEN FUSCA', 'TOYOTA COROLLA',\n",
       "       'HYUNDAI IX35', 'RENAULT DUSTER', 'GM - CHEVROLET S10',\n",
       "       'GM - CHEVROLET ONIX', 'HONDA CR-V', ' ', 'VW - VOLKSWAGEN FOX',\n",
       "       'NISSAN KICKS', 'GM - CHEVROLET S10', 'RENAULT DUSTER', 'CHERY ',\n",
       "       'MERCEDES-BENZ ', 'HYUNDAI HB20', 'CHERY ', 'FORD TERRITORY',\n",
       "       'VW - VOLKSWAGEN AMAROK', 'FIAT CRONOS', 'RENAULT LOGAN',\n",
       "       'PEUGEOT 3008', 'VW - VOLKSWAGEN VIRTUS', 'GM - CHEVROLET COBALT',\n",
       "       'VW - VOLKSWAGEN AMAROK', 'HONDA HR-V', 'NISSAN KICKS',\n",
       "       'GM - CHEVROLET S10', 'FORD FIESTA', 'VW - VOLKSWAGEN GOL',\n",
       "       'HYUNDAI IX35', 'GM - CHEVROLET S10', 'GM - CHEVROLET PRISMA',\n",
       "       'GM - CHEVROLET ONIX', 'GM - CHEVROLET S10',\n",
       "       'VW - VOLKSWAGEN PARATI', ' ', 'VW - VOLKSWAGEN GOL',\n",
       "       'HYUNDAI HB20', ' ', 'VW - VOLKSWAGEN SAVEIRO', 'TOYOTA HILUX',\n",
       "       'VW - VOLKSWAGEN AMAROK', ' ', 'FORD FUSION', 'CHERY ',\n",
       "       'SUZUKI SX4', 'TOYOTA HILUX', 'FIAT ', 'HYUNDAI HB20',\n",
       "       'GM - CHEVROLET ', ' ', 'RENAULT SANDERO',\n",
       "       'GM - CHEVROLET CLASSIC', 'CITROEN C4 CACTUS', 'HONDA HR-V',\n",
       "       'FIAT TORO', 'VW - VOLKSWAGEN ', 'TOYOTA YARIS',\n",
       "       'GM - CHEVROLET ONIX', 'GM - CHEVROLET AGILE', ' ',\n",
       "       'TOYOTA COROLLA', 'FIAT ', 'NISSAN KICKS', 'GM - CHEVROLET CRUZE',\n",
       "       'GM - CHEVROLET CHEVETTE', 'GM - CHEVROLET CORSA', 'FORD KA',\n",
       "       'VW - VOLKSWAGEN SAVEIRO', ' ', 'HYUNDAI CRETA', 'PEUGEOT 206',\n",
       "       'RENAULT STEPWAY', 'FORD FIESTA', 'HONDA FIT', ' ', 'FORD F-100',\n",
       "       'VOLVO XC-60', 'GM - CHEVROLET CORSA', 'FORD TERRITORY',\n",
       "       'VW - VOLKSWAGEN GOL', 'TOYOTA HILUX', ' ', 'HYUNDAI HR',\n",
       "       'HYUNDAI HR', 'HYUNDAI HR', 'RENAULT CLIO', 'VW - VOLKSWAGEN ',\n",
       "       'CHERY ', 'CHERY ', 'VOLVO XC-60', 'FIAT TORO', 'BUGGY BUGGY',\n",
       "       'LAND ROVER RANGE ROVER', 'HYUNDAI CRETA', 'PEUGEOT 207',\n",
       "       'GM - CHEVROLET CRUZE', 'MERCEDES-BENZ SPRINTER', 'BMW ',\n",
       "       'GM - CHEVROLET S10', 'CHERY ', ' ', 'CITROEN C4',\n",
       "       'GM - CHEVROLET EQUINOX', 'HYUNDAI HR', 'VW - VOLKSWAGEN FUSCA',\n",
       "       'TOYOTA HILUX', 'VW - VOLKSWAGEN NIVUS', 'HYUNDAI HB20',\n",
       "       'KIA MOTORS SPORTAGE', 'CHERY ', 'LEXUS UX-250H',\n",
       "       'GM - CHEVROLET KADETT', 'HYUNDAI HB20', 'GM - CHEVROLET ONIX',\n",
       "       'HYUNDAI IX35', 'GM - CHEVROLET S10', 'HONDA HR-V', ' ',\n",
       "       'TOYOTA COROLLA', 'MITSUBISHI ECLIPSE', ' ', 'JEEP RENEGADE',\n",
       "       'TOYOTA YARIS', 'FIAT PUNTO', 'VW - VOLKSWAGEN AMAROK', 'BMW 320I',\n",
       "       'FIAT ARGO', 'TOYOTA COROLLA', 'VW - VOLKSWAGEN GOL',\n",
       "       'HYUNDAI CRETA', 'GM - CHEVROLET SPIN', 'VW - VOLKSWAGEN T-CROSS',\n",
       "       'VW - VOLKSWAGEN ', 'VW - VOLKSWAGEN FUSCA', 'MERCEDES-BENZ GLA',\n",
       "       'GM - CHEVROLET ONIX', 'GM - CHEVROLET ONIX', 'FORD KA',\n",
       "       'FORD FOCUS', ' ', 'GM - CHEVROLET CRUZE', 'TOYOTA HILUX',\n",
       "       'GM - CHEVROLET ', 'FORD F-1000', 'TOYOTA COROLLA',\n",
       "       'VW - VOLKSWAGEN GOL', 'HYUNDAI IX35', 'GM - CHEVROLET JOY',\n",
       "       'FORD FIESTA', 'FORD RANGER', 'PEUGEOT 2008', 'HYUNDAI HB20S',\n",
       "       'VW - VOLKSWAGEN GOL', 'VW - VOLKSWAGEN AMAROK',\n",
       "       'GM - CHEVROLET ONIX', 'FIAT PALIO', 'VW - VOLKSWAGEN GOL',\n",
       "       'TOYOTA COROLLA', 'HYUNDAI HB20', 'HYUNDAI CRETA', 'TOYOTA YARIS',\n",
       "       ' ', 'HYUNDAI HB20', 'FORD FOCUS', ' ', 'HYUNDAI IX35',\n",
       "       'VW - VOLKSWAGEN TIGUAN', 'TOYOTA HILUX', 'JEEP RENEGADE',\n",
       "       'FIAT TORO', 'TOYOTA HILUX', 'TOYOTA YARIS',\n",
       "       'GM - CHEVROLET PRISMA', 'LEXUS UX-250H', 'GM - CHEVROLET EQUINOX',\n",
       "       'FORD KA', 'VW - VOLKSWAGEN GOL', 'FORD FUSION', 'HONDA HR-V',\n",
       "       'GM - CHEVROLET CRUZE', 'LAND ROVER RANGE ROVER',\n",
       "       'VW - VOLKSWAGEN AMAROK', 'FIAT STRADA', 'VW - VOLKSWAGEN SAVEIRO',\n",
       "       'GM - CHEVROLET ONIX', 'GM - CHEVROLET ', 'FORD ', ' ',\n",
       "       'TOYOTA COROLLA', 'LEXUS UX-250H', 'FORD FIESTA',\n",
       "       'HYUNDAI ELANTRA', 'FORD KA', 'HYUNDAI HB20', 'MINI COOPER',\n",
       "       'FORD FOCUS', 'VW - VOLKSWAGEN ', 'FIAT STRADA', 'FORD BELINA',\n",
       "       'HYUNDAI HB20S', 'TROLLER T-4', 'TOYOTA HILUX', 'FIAT ELBA',\n",
       "       'CHERY QQ', 'FIAT SIENA', 'SUZUKI JIMNY', 'HYUNDAI IX35',\n",
       "       'VW - VOLKSWAGEN KOMBI', 'SHINERAY ', 'FIAT PUNTO', 'HONDA CITY',\n",
       "       'FIAT UNO', 'TOYOTA COROLLA', 'FORD ECOSPORT', 'HONDA HR-V',\n",
       "       'PEUGEOT 308', ' ', 'FORD KA+', 'TOYOTA YARIS', ' ',\n",
       "       'TOYOTA COROLLA', 'HYUNDAI ELANTRA', 'CHERY ', 'RENAULT FLUENCE',\n",
       "       'FORD KA', 'VW - VOLKSWAGEN PARATI', ' ', 'GM - CHEVROLET OPALA',\n",
       "       'GM - CHEVROLET ONIX', 'GM - CHEVROLET ', 'VW - VOLKSWAGEN FUSCA',\n",
       "       'ALFA ROMEO 164', 'RENAULT KWID', 'FORD CLUB', 'FORD F-350', ' ',\n",
       "       'HYUNDAI ', 'RENAULT SANDERO', 'HYUNDAI ', 'FIAT MOBI',\n",
       "       'HYUNDAI IX35', 'VW - VOLKSWAGEN POLO', 'HYUNDAI CRETA',\n",
       "       'GM - CHEVROLET S10', 'FIAT MOBI', ' ', 'VW - VOLKSWAGEN POLO',\n",
       "       'FORD FOCUS', 'GM - CHEVROLET ONIX', 'TOYOTA COROLLA',\n",
       "       'FIAT PALIO', 'CHANGAN ', 'VW - VOLKSWAGEN GOL',\n",
       "       'NISSAN GRAND LIVINA', 'GM - CHEVROLET BLAZER', 'BMW 320I',\n",
       "       'LAND ROVER DISCOVERY', 'VW - VOLKSWAGEN GOL',\n",
       "       'VW - VOLKSWAGEN AMAROK', ' ', 'FORD KA', 'RENAULT CAPTUR',\n",
       "       'VW - VOLKSWAGEN T-CROSS', 'FIAT ', 'RENAULT KWID', 'FIAT PALIO',\n",
       "       'JAC T5', 'PEUGEOT 206', 'RENAULT SCENIC', 'HONDA FIT',\n",
       "       'VW - VOLKSWAGEN VOYAGE', 'GM - CHEVROLET ONIX', 'TOYOTA HILUX',\n",
       "       'GM - CHEVROLET ONIX', 'BMW 530I', 'VW - VOLKSWAGEN SAVEIRO',\n",
       "       'HONDA WR-V', 'HYUNDAI SANTA FE', ' ', 'RENAULT MEGANE',\n",
       "       'TOYOTA HILUX', 'TOYOTA HILUX', 'FIAT TORO', 'TOYOTA YARIS',\n",
       "       'FORD TRANSIT', 'FORD FIESTA', 'VW - VOLKSWAGEN JETTA', 'FIAT UNO',\n",
       "       ' ', 'TOYOTA HILUX', 'VOLVO XC-60', 'AUDI E-TRON', 'LAND ROVER ',\n",
       "       'HONDA CIVIC', ' ', 'TOYOTA YARIS', 'TOYOTA COROLLA',\n",
       "       'VW - VOLKSWAGEN T-CROSS', 'FIAT FREEMONT', 'GM - CHEVROLET SPIN',\n",
       "       'VW - VOLKSWAGEN ', 'JEEP COMPASS', 'FORD RANGER',\n",
       "       'VW - VOLKSWAGEN T-CROSS', 'VW - VOLKSWAGEN GOL',\n",
       "       'VW - VOLKSWAGEN FUSCA', 'FORD F-75', 'HONDA ', 'NISSAN KICKS',\n",
       "       'GM - CHEVROLET CORSA', 'RENAULT DUSTER', 'MITSUBISHI ',\n",
       "       'GM - CHEVROLET S10', 'TOYOTA YARIS', 'VW - VOLKSWAGEN POLO',\n",
       "       'GM - CHEVROLET VECTRA', 'FIAT PALIO', 'VW - VOLKSWAGEN GOL',\n",
       "       'AUDI RS3', 'HYUNDAI GRAND SANTA FE', 'LAND ROVER RANGE ROVER',\n",
       "       'PEUGEOT 2008', 'TOYOTA YARIS', 'NISSAN VERSA',\n",
       "       'GM - CHEVROLET COBALT', 'GM - CHEVROLET S10', 'TOYOTA COROLLA',\n",
       "       'FIAT PALIO', 'TOYOTA COROLLA', 'PEUGEOT 208', ' ',\n",
       "       'RENAULT SCENIC', 'FORD RANGER', 'PEUGEOT 208', 'FORD ECOSPORT',\n",
       "       'MITSUBISHI PAJERO', 'FIAT PALIO', 'VW - VOLKSWAGEN GOL',\n",
       "       'GM - CHEVROLET ONIX', 'VW - VOLKSWAGEN ', 'HYUNDAI HB20',\n",
       "       'VW - VOLKSWAGEN GOL', 'VW - VOLKSWAGEN GOLF', ' ',\n",
       "       'TOYOTA COROLLA', 'GM - CHEVROLET CORSA', 'HYUNDAI CRETA',\n",
       "       'VW - VOLKSWAGEN POLO', 'GM - CHEVROLET SPIN', 'MITSUBISHI L200',\n",
       "       'TOYOTA HILUX', 'FIAT UNO', 'TOYOTA HILUX', 'VW - VOLKSWAGEN GOL',\n",
       "       'GM - CHEVROLET CRUZE', 'RENAULT LOGAN', 'DODGE DAKOTA',\n",
       "       'FORD FUSION', ' ', 'HYUNDAI HB20S', 'TOYOTA COROLLA',\n",
       "       'JEEP COMPASS', 'TOYOTA COROLLA', 'FORD FIESTA', 'CHERY ',\n",
       "       'CITROEN JUMPY', 'TOYOTA COROLLA', 'FIAT SIENA', 'FIAT ARGO',\n",
       "       'FORD EDGE', 'VW - VOLKSWAGEN GOL', 'NISSAN VERSA', 'HONDA HR-V',\n",
       "       'CITROEN C4', 'VW - VOLKSWAGEN FOX', 'GM - CHEVROLET EQUINOX',\n",
       "       'GM - CHEVROLET ONIX', 'HYUNDAI HB20', 'HYUNDAI ',\n",
       "       'GM - CHEVROLET ONIX', 'VW - VOLKSWAGEN VOYAGE',\n",
       "       'VW - VOLKSWAGEN VIRTUS', 'GM - CHEVROLET CRUZE',\n",
       "       'VW - VOLKSWAGEN FOX', 'HYUNDAI ', 'HYUNDAI HR', 'FIAT FIORINO',\n",
       "       'VW - VOLKSWAGEN T-CROSS', 'RENAULT STEPWAY',\n",
       "       'GM - CHEVROLET TRACKER', 'NISSAN KICKS', 'GM - CHEVROLET TRACKER',\n",
       "       'GM - CHEVROLET BLAZER', 'VW - VOLKSWAGEN ',\n",
       "       'GM - CHEVROLET CHEVETTE', ' ', 'PEUGEOT 307', 'JEEP RENEGADE',\n",
       "       'GM - CHEVROLET SS10', 'FIAT ', 'LAND ROVER RANGE ROVER',\n",
       "       'TOYOTA COROLLA', 'KIA MOTORS SPORTAGE', 'TOYOTA YARIS',\n",
       "       'TOYOTA ETIOS', 'VW - VOLKSWAGEN JETTA', 'VW - VOLKSWAGEN ',\n",
       "       'HYUNDAI HB20', 'VOLVO XC-60', 'VENTURA ',\n",
       "       'VW - VOLKSWAGEN PARATI', 'HYUNDAI HB20', 'HONDA CIVIC',\n",
       "       'MITSUBISHI ASX', 'CHERY TIGGO 8', ' ', 'VW - VOLKSWAGEN VIRTUS',\n",
       "       'TOYOTA HILUX', 'TOYOTA COROLLA', 'GM - CHEVROLET CLASSIC',\n",
       "       'TOYOTA COROLLA', 'TOYOTA COROLLA', 'GM - CHEVROLET ', ' ',\n",
       "       'FIAT UNO', 'TOYOTA HILUX', 'HONDA HR-V', 'VW - VOLKSWAGEN GOL',\n",
       "       'AUDI Q3', 'FORD GALAXIE', 'CITROEN C4', ' ', 'RENAULT LOGAN',\n",
       "       'CHERY ', 'RENAULT LOGAN', 'GM - CHEVROLET S10',\n",
       "       'GM - CHEVROLET PRISMA', 'VW - VOLKSWAGEN GOL',\n",
       "       'VW - VOLKSWAGEN SAVEIRO', 'GM - CHEVROLET TRACKER', 'FORD FOCUS',\n",
       "       'GM - CHEVROLET ', ' ', 'VW - VOLKSWAGEN GOL', 'FIAT DUCATO',\n",
       "       'RAM 2500', 'FORD FOCUS', 'MERCEDES-BENZ 500-SEL', 'LIFAN X60',\n",
       "       'VW - VOLKSWAGEN SAVEIRO', 'KIA MOTORS SPORTAGE',\n",
       "       'VW - VOLKSWAGEN GOL', 'FORD FOCUS', 'TOYOTA YARIS',\n",
       "       'GM - CHEVROLET TRACKER', 'TOYOTA COROLLA', 'RENAULT CAPTUR',\n",
       "       'FORD ', 'JEEP ', 'JEEP COMPASS', 'VW - VOLKSWAGEN VOYAGE', ' ',\n",
       "       'FORD ECOSPORT', 'TOYOTA HILUX', 'GM - CHEVROLET ONIX',\n",
       "       'HONDA WR-V', 'MERCEDES-BENZ VITO', 'HYUNDAI IX35', 'FORD RANGER',\n",
       "       'TOYOTA HILUX', 'JEEP RENEGADE', 'GM - CHEVROLET S10',\n",
       "       'VW - VOLKSWAGEN ', 'VW - VOLKSWAGEN SAVEIRO', 'HONDA FIT',\n",
       "       'MERCEDES-BENZ GLA-200', 'HONDA CIVIC', 'VW - VOLKSWAGEN ',\n",
       "       'VW - VOLKSWAGEN GOL', ' ', 'FIAT TORO', 'TOYOTA COROLLA',\n",
       "       'VW - VOLKSWAGEN JETTA', ' ', 'PEUGEOT 207',\n",
       "       'GM - CHEVROLET CRUZE', 'VW - VOLKSWAGEN GOLF', 'FORD ECOSPORT',\n",
       "       'CHERY ', 'RENAULT STEPWAY', 'GM - CHEVROLET S10', ' ',\n",
       "       'GM - CHEVROLET MONZA', 'TOYOTA COROLLA', 'GM - CHEVROLET ONIX',\n",
       "       'HYUNDAI CRETA', 'RENAULT MEGANE', 'GM - CHEVROLET TRACKER',\n",
       "       'GM - CHEVROLET S10', 'TOYOTA COROLLA', 'FORD KA', 'AUDI A5',\n",
       "       'HONDA HR-V', 'TOYOTA COROLLA', 'GM - CHEVROLET ONIX',\n",
       "       'VW - VOLKSWAGEN GOL', 'FIAT TORO', 'HONDA HR-V',\n",
       "       'VW - VOLKSWAGEN POLO', 'TOYOTA HILUX', 'KIA MOTORS SPORTAGE', ' ',\n",
       "       'GM - CHEVROLET OPALA', 'TOYOTA HILUX', 'GM - CHEVROLET ONIX',\n",
       "       'GM - CHEVROLET PRISMA', 'GM - CHEVROLET CAPTIVA', 'TOYOTA YARIS',\n",
       "       'VW - VOLKSWAGEN FOX', 'HONDA CITY', 'GM - CHEVROLET TRACKER',\n",
       "       'FORD ECOSPORT', 'FORD ECOSPORT', 'GM - CHEVROLET CRUZE',\n",
       "       'GM - CHEVROLET S10', 'GM - CHEVROLET TRACKER',\n",
       "       'GM - CHEVROLET CRUZE', 'GM - CHEVROLET CRUZE',\n",
       "       'GM - CHEVROLET ONIX', 'GM - CHEVROLET ONIX',\n",
       "       'GM - CHEVROLET CRUZE', 'GM - CHEVROLET ONIX', 'FORD ECOSPORT',\n",
       "       'GM - CHEVROLET TRACKER', 'GM - CHEVROLET CRUZE',\n",
       "       'GM - CHEVROLET ONIX', 'GM - CHEVROLET TRAILBLAZER',\n",
       "       'GM - CHEVROLET S10', 'GM - CHEVROLET SPIN',\n",
       "       'GM - CHEVROLET TRACKER', 'GM - CHEVROLET TRACKER',\n",
       "       'GM - CHEVROLET TRACKER', 'GM - CHEVROLET ONIX',\n",
       "       'GM - CHEVROLET S10', 'GM - CHEVROLET SPIN',\n",
       "       'GM - CHEVROLET TRACKER', 'GM - CHEVROLET ONIX',\n",
       "       'GM - CHEVROLET ONIX', 'GM - CHEVROLET TRACKER',\n",
       "       'GM - CHEVROLET ONIX', 'GM - CHEVROLET TRACKER',\n",
       "       'GM - CHEVROLET ONIX', 'FIAT TORO', 'GM - CHEVROLET ONIX', ' ',\n",
       "       'RENAULT LOGAN', 'TOYOTA COROLLA', ' ', 'GM - CHEVROLET SILVERADO',\n",
       "       'GM - CHEVROLET CRUZE', 'TOYOTA COROLLA', 'CITROEN C3',\n",
       "       'FORD CORCEL', 'TOYOTA HILUX', 'TOYOTA HILUX', 'LADA ',\n",
       "       'RENAULT DUSTER', 'FIAT UNO', 'GM - CHEVROLET CLASSIC', ' ',\n",
       "       'VW - VOLKSWAGEN GOL', ' ', 'TOYOTA HILUX', 'FORD FOCUS',\n",
       "       'VW - VOLKSWAGEN GOL', 'JEEP RENEGADE', 'TOYOTA ',\n",
       "       'HYUNDAI ELANTRA', 'VW - VOLKSWAGEN GOL', 'MERCEDES-BENZ 300-D',\n",
       "       'GM - CHEVROLET PRISMA', 'VW - VOLKSWAGEN POLO', 'RENAULT FLUENCE',\n",
       "       'VW - VOLKSWAGEN ', 'HYUNDAI CRETA', 'TOYOTA COROLLA',\n",
       "       'PEUGEOT 2008', 'VW - VOLKSWAGEN AMAROK', ' ', 'TOYOTA YARIS',\n",
       "       'TOYOTA COROLLA', 'HYUNDAI HB20', 'GM - CHEVROLET MONTANA',\n",
       "       'TOYOTA HILUX', 'JEEP WRANGLER', 'TOYOTA YARIS', 'AUDI A3',\n",
       "       'FIAT STRADA', 'GM - CHEVROLET AGILE', 'VW - VOLKSWAGEN GOL',\n",
       "       'TOYOTA RAV4', 'VW - VOLKSWAGEN GOLF', 'HONDA CIVIC',\n",
       "       'RENAULT MASTER', 'HYUNDAI HB20S', 'TOYOTA COROLLA', ' ',\n",
       "       'JEEP RENEGADE', ' ', 'TOYOTA RAV4', 'GM - CHEVROLET S10',\n",
       "       'HYUNDAI CRETA', 'GM - CHEVROLET ONIX', 'TOYOTA COROLLA',\n",
       "       'FORD KA', 'TOYOTA COROLLA', 'JEEP COMPASS', ' ', 'HYUNDAI HB20',\n",
       "       'FORD KA', ' ', 'FIAT UNO', 'VW - VOLKSWAGEN ', 'FORD KA',\n",
       "       'NISSAN FRONTIER', 'VW - VOLKSWAGEN T-CROSS', 'TOYOTA HILUX',\n",
       "       'PORSCHE MACAN', 'BMW 320I', 'JEEP COMPASS', 'TOYOTA HILUX',\n",
       "       'TOYOTA YARIS', 'GM - CHEVROLET ONIX', 'FIAT MOBI', 'PEUGEOT 5008',\n",
       "       'GM - CHEVROLET CRUZE', 'HYUNDAI ', ' ', 'FORD KA',\n",
       "       'VW - VOLKSWAGEN PARATI', ' ', 'GM - CHEVROLET D-10',\n",
       "       'GM - CHEVROLET S10', 'VW - VOLKSWAGEN BORA', 'SUBARU FORESTER',\n",
       "       'HYUNDAI CRETA', 'HYUNDAI CRETA', 'FORD F-150', 'PEUGEOT ',\n",
       "       'TOYOTA HILUX', 'GM - CHEVROLET TRACKER', 'TOYOTA COROLLA',\n",
       "       'CITROEN C3', 'VW - VOLKSWAGEN ', 'GM - CHEVROLET ASTRA', ' ',\n",
       "       'TOYOTA COROLLA', 'JEEP COMPASS', 'FORD ECOSPORT',\n",
       "       'GM - CHEVROLET BLAZER', 'NISSAN SENTRA', 'VW - VOLKSWAGEN ',\n",
       "       'TOYOTA ETIOS', ' ', 'FORD KA', 'FORD KA', 'JEEP ', 'FORD JEEP',\n",
       "       'WILLYS OVERLAND JEEP', 'BMW X6', 'VW - VOLKSWAGEN GOL',\n",
       "       'VW - VOLKSWAGEN SANTANA', 'GM - CHEVROLET ONIX',\n",
       "       'NISSAN FRONTIER', 'VW - VOLKSWAGEN UP!', 'GM - CHEVROLET S10',\n",
       "       'TOYOTA HILUX', 'VW - VOLKSWAGEN PARATI', 'RENAULT CLIO',\n",
       "       'TOYOTA COROLLA', ' ', 'VW - VOLKSWAGEN PARATI',\n",
       "       'KIA MOTORS SPORTAGE', 'GM - CHEVROLET ONIX', 'CHERY ',\n",
       "       'FIAT PALIO', 'GM - CHEVROLET ONIX', 'VW - VOLKSWAGEN T-CROSS',\n",
       "       'VW - VOLKSWAGEN PARATI', 'JEEP COMPASS', 'FORD KA', 'FIAT STRADA',\n",
       "       'RENAULT LOGAN', 'VW - VOLKSWAGEN VOYAGE', 'FORD F-75',\n",
       "       'HYUNDAI CRETA', 'VW - VOLKSWAGEN VOYAGE',\n",
       "       'VW - VOLKSWAGEN T-CROSS', 'GM - CHEVROLET TRACKER', 'FIAT ', ' ',\n",
       "       'VW - VOLKSWAGEN GOL', ' ', 'FIAT PUNTO', 'VW - VOLKSWAGEN FUSCA',\n",
       "       'GM - CHEVROLET ONIX', 'VW - VOLKSWAGEN UP!', 'BMW 320I',\n",
       "       'GM - CHEVROLET ONIX', 'HYUNDAI CRETA', 'HYUNDAI IX35',\n",
       "       'RENAULT CLIO', 'GM - CHEVROLET ASTRA', 'PEUGEOT 208',\n",
       "       'TOYOTA COROLLA', ' ', 'RENAULT CLIO', ' ',\n",
       "       'VW - VOLKSWAGEN JETTA', 'FIAT STRADA', 'TROLLER T-4', 'HYUNDAI ',\n",
       "       ' ', 'VOLVO XC-60', 'VW - VOLKSWAGEN ', ' ', 'FIAT UNO', 'CHERY ',\n",
       "       'BMW X3', 'TOYOTA YARIS', 'VW - VOLKSWAGEN GOL',\n",
       "       'GM - CHEVROLET ONIX', 'HONDA CIVIC', 'GM - CHEVROLET BLAZER',\n",
       "       'PEUGEOT 206', 'VW - VOLKSWAGEN SPACEFOX', 'TOYOTA COROLLA',\n",
       "       'FORD RANGER', ' ', 'MERCEDES-BENZ ', 'HYUNDAI IX35',\n",
       "       'GM - CHEVROLET ', 'FORD FOCUS', 'VW - VOLKSWAGEN VOYAGE',\n",
       "       'FIAT UNO', ' ', ' ', 'GM - CHEVROLET TRACKER',\n",
       "       'VW - VOLKSWAGEN GOL', 'FIAT STRADA', 'TOYOTA COROLLA',\n",
       "       'HONDA CIVIC', 'HYUNDAI IX35', 'VW - VOLKSWAGEN VIRTUS',\n",
       "       'HYUNDAI HB20S', 'GM - CHEVROLET MONTANA', 'LIFAN X60', 'FORD KA',\n",
       "       'GM - CHEVROLET S10', 'GM - CHEVROLET S10'], dtype=object)"
      ]
     },
     "execution_count": 12,
     "metadata": {},
     "output_type": "execute_result"
    }
   ],
   "source": [
    "df['vehicle_model'].values[df.versao.isna()]"
   ]
  },
  {
   "cell_type": "code",
   "execution_count": 13,
   "metadata": {},
   "outputs": [],
   "source": [
    "#Drop rows onde versão não existe\n",
    "df = df.loc[df['versao'].notna()]"
   ]
  },
  {
   "cell_type": "code",
   "execution_count": 14,
   "metadata": {},
   "outputs": [
    {
     "data": {
      "text/plain": [
       "array(['FOCUS SEDAN 2.0 16V/2.0 16V FLEX 4P AUT.',\n",
       "       'HB20S C.STYLE/C.PLUS1.6 FLEX 16V AUT. 4P',\n",
       "       'FIT LX 1.4/ 1.4 FLEX 8V/16V 5P AUT.', ...,\n",
       "       'CHEVETTE L / SL / SL/E / DL / SE 1.6',\n",
       "       'IX35 2.0 16V 170CV 2WD/4WD AUT.',\n",
       "       'CLASSIC LIFE/LS 1.0 VHC FLEXP. 4P'], dtype=object)"
      ]
     },
     "execution_count": 14,
     "metadata": {},
     "output_type": "execute_result"
    }
   ],
   "source": [
    "df.versao.values[df.versao.str.contains('/', na=False)]"
   ]
  },
  {
   "cell_type": "code",
   "execution_count": 15,
   "metadata": {},
   "outputs": [
    {
     "data": {
      "text/plain": [
       "20"
      ]
     },
     "execution_count": 15,
     "metadata": {},
     "output_type": "execute_result"
    }
   ],
   "source": [
    "fipe['Modelo'].apply(lambda x: 'ECOSPORT XL 1.6/ 1.6 FLEX 8V 5P'.replace('/', '\\\\/') in x.upper()).sum()"
   ]
  },
  {
   "cell_type": "markdown",
   "metadata": {},
   "source": [
    "notfound = []\n",
    "for b, i in df[['brand', 'versao']].loc[df.versao.drop_duplicates().index].values:\n",
    "    found = fipe['Modelo'].apply(lambda x: str(i).replace('/', '\\\\/') in x.upper()).sum()\n",
    "    if found == 0:\n",
    "        notfound.append([b, i])"
   ]
  },
  {
   "cell_type": "markdown",
   "metadata": {},
   "source": [
    "notfound"
   ]
  },
  {
   "cell_type": "markdown",
   "metadata": {},
   "source": [
    "somas = []\n",
    "for i in notfound:\n",
    "    somas.append([i[1], sum(df.versao == i[1])])\n",
    "somas = np.array(somas)\n",
    "somas[np.argsort(somas[:,1])][::-1]"
   ]
  },
  {
   "cell_type": "markdown",
   "metadata": {},
   "source": [
    "#Versões mais frequêntes que não foram encontradas no database Fipe:\n",
    "\n",
    "convert_list = {'KA 1.0 SE 12V FLEX 4P MANUAL':'KA 1.5 SEDAN SE 12V FLEX 4P MEC.',\n",
    "'COROLLA ALTIS 2.0 FLEX 16V AUT.':'COROLLA ALTIS\\/A.PREMIU. 2.0 FLEX 16V AUT',\n",
    "'UNO ATTRACTIVE 1.0 EVO FIRE FLEX 8V 5P':'UNO ATTRACTIVE 1.0 FIRE FLEX 8V 5P',\n",
    "'320IA MODERN/SPORT TB 2.0/A.FLEX 16V 4P':'320IA MODERN\\/SPORT TB 2.0\\/A.FLEX\\/GP 4P',\n",
    "'DUSTER DYNAMIQUE 1.6 HI-FLEX 16V MEC.':'DUSTER DYNAMIQUE 1.6 FLEX 16V MEC.',\n",
    "'DUSTER OROCH DYNA. 2.0 HI-FLEX 16V AUT.':'DUSTER OROCH DYNA. 2.0 FLEX 16V AUT.',\n",
    "'VOYAGE COMF/HIGHLI. 1.6 MI T.FLEX 8V 4P':'VOYAGE COMF\\/HIGHLI. 1.6 T.FLEX 8V 4P',\n",
    "'DUSTER DYNAMIQUE 2.0  HI-FLEX 16V AUT.':'DUSTER DYNAMIQUE 2.0 FLEX 16V AUT.',\n",
    "'PALIO ATTRA./ITALIA 1.4 EVO F.FLEX 8V 5P':'PALIO ATTRA.\\/ITÁLIA 1.4 EVO F.FLEX 8V 5P',\n",
    "'FREEMONT 2.4 16V 5P AUT.':'FREEMONT EMOT.\\/PRECISION 2.4 16V 5P AUT',\n",
    "'RANGE ROVER EVOQUE SI4 HSE DYNAMIC 2.0 AUT.':'RANGE R.EVOQUE SI4 HSE DYN. 2.0\\/FLEX AUT',\n",
    "'320IA 2.0 TURBO/ACTIVEFLEX 16V 184CV  4P':'320iA 2.0 Turbo\\/ActiveFlex 16V\\/GP 4p',\n",
    "'KWID 1.0 ZEN':'KWID Zen 1.0 Flex 12V 5p Mec.',\n",
    "'RANGE ROVER EVOQUE DYNAMIC 2.0 AUT 5P':'Range R.EVOQUE Dynamic Tech 2.0 Aut 5p',\n",
    "'2.0 MPFI GLS 16V 143CV 2WD FLEX 4P AUT':'Tucson 2.0 16V Flex Aut.',\n",
    "'2.0 XEI 16V FLEX 4P AUTOMATICO':'Corolla XEi 2.0 Flex 16V Aut.',\n",
    "'SANTA FE GLS 3.3 V6 4X4 TIPTRONIC':'Santa Fe\\/GLS 3.3 V6 4X4 Tiptronic',\n",
    "'SANDERO SPORT RS 2.0 HI-POWER 16V 5P':'SANDERO SPORT RS 2.0 Flex 16V 5p',\n",
    "'PALIO ELX 1.4 MPI FIRE FLEX 8V 4P':'Palio Weekend ELX 1.4 mpi Fire Flex 8V',\n",
    "'320IA 2.0 TB M SPORT ACTIVEFLEX 16V 4P':'320iA 2.0 TB M Sport A.Flex\\/M.Sport 4p',\n",
    "'DUSTER EXPRESSION1.6 FLEX 16V AUT.':'DUSTER Expression 1.6 Flex 16V Aut.',\n",
    "'TIGGO 8 TXS 1.6 TURBO TGDI AUT':'Tiggo 8 TXS 1.6 16V TGDi Aut.',\n",
    "'SORENTO 3.5 V6 24V 278CV 4X4 AUT.':'Sorento 3.5 V6 24V 4x4 Aut.',\n",
    "'STRADA FREEDOM 1.3 FLEX 8V CS PLUS':'Strada Freedom 1.3 Flex 8V CS Plus',\n",
    "'KA+ SEDAN 1.0 TIVCT FLEX 4P':'Ka+ Sedan 1.0 SE\\/SE PLUS TiVCT Flex 4p',\n",
    "'KA 1.5 16V FLEX 5P':'Ka SEL 1.5 16V Flex 5p',}"
   ]
  },
  {
   "cell_type": "markdown",
   "metadata": {},
   "source": [
    "versoes = []\n",
    "ocorrencias = []\n",
    "for i in notfound:\n",
    "    versoes.append(i[1])\n",
    "    ocorrencias.append(int(sum(df['versao'].replace(convert_list) == i[1])))\n",
    "versoes = np.asarray(versoes)\n",
    "ocorrencias = np.asarray(ocorrencias)"
   ]
  },
  {
   "cell_type": "markdown",
   "metadata": {},
   "source": [
    "ocorr_argsorted = np.argsort(ocorrencias)[::-1]\n",
    "\n",
    "np.c_[versoes[ocorr_argsorted], ocorrencias[ocorr_argsorted]]"
   ]
  },
  {
   "cell_type": "code",
   "execution_count": 16,
   "metadata": {},
   "outputs": [
    {
     "data": {
      "text/html": [
       "<div>\n",
       "<style scoped>\n",
       "    .dataframe tbody tr th:only-of-type {\n",
       "        vertical-align: middle;\n",
       "    }\n",
       "\n",
       "    .dataframe tbody tr th {\n",
       "        vertical-align: top;\n",
       "    }\n",
       "\n",
       "    .dataframe thead th {\n",
       "        text-align: right;\n",
       "    }\n",
       "</style>\n",
       "<table border=\"1\" class=\"dataframe\">\n",
       "  <thead>\n",
       "    <tr style=\"text-align: right;\">\n",
       "      <th></th>\n",
       "      <th>model</th>\n",
       "      <th>regdate</th>\n",
       "      <th>price</th>\n",
       "      <th>doors</th>\n",
       "    </tr>\n",
       "    <tr>\n",
       "      <th>Id</th>\n",
       "      <th></th>\n",
       "      <th></th>\n",
       "      <th></th>\n",
       "      <th></th>\n",
       "    </tr>\n",
       "  </thead>\n",
       "  <tbody>\n",
       "    <tr>\n",
       "      <th>1486</th>\n",
       "      <td>KA</td>\n",
       "      <td>2018</td>\n",
       "      <td>52900</td>\n",
       "      <td>4 portas</td>\n",
       "    </tr>\n",
       "    <tr>\n",
       "      <th>2186</th>\n",
       "      <td>KA</td>\n",
       "      <td>2018</td>\n",
       "      <td>53500</td>\n",
       "      <td>4 portas</td>\n",
       "    </tr>\n",
       "    <tr>\n",
       "      <th>4029</th>\n",
       "      <td>KA</td>\n",
       "      <td>2018</td>\n",
       "      <td>51000</td>\n",
       "      <td>4 portas</td>\n",
       "    </tr>\n",
       "    <tr>\n",
       "      <th>6827</th>\n",
       "      <td>KA</td>\n",
       "      <td>2015</td>\n",
       "      <td>45900</td>\n",
       "      <td>4 portas</td>\n",
       "    </tr>\n",
       "    <tr>\n",
       "      <th>8702</th>\n",
       "      <td>KA</td>\n",
       "      <td>2015</td>\n",
       "      <td>42990</td>\n",
       "      <td>4 portas</td>\n",
       "    </tr>\n",
       "    <tr>\n",
       "      <th>9772</th>\n",
       "      <td>KA</td>\n",
       "      <td>2015</td>\n",
       "      <td>44900</td>\n",
       "      <td>4 portas</td>\n",
       "    </tr>\n",
       "    <tr>\n",
       "      <th>11672</th>\n",
       "      <td>KA</td>\n",
       "      <td>2016</td>\n",
       "      <td>36000</td>\n",
       "      <td>4 portas</td>\n",
       "    </tr>\n",
       "    <tr>\n",
       "      <th>12232</th>\n",
       "      <td>KA</td>\n",
       "      <td>2018</td>\n",
       "      <td>52900</td>\n",
       "      <td>4 portas</td>\n",
       "    </tr>\n",
       "    <tr>\n",
       "      <th>13447</th>\n",
       "      <td>KA</td>\n",
       "      <td>2018</td>\n",
       "      <td>53900</td>\n",
       "      <td>4 portas</td>\n",
       "    </tr>\n",
       "    <tr>\n",
       "      <th>13927</th>\n",
       "      <td>KA</td>\n",
       "      <td>2015</td>\n",
       "      <td>43000</td>\n",
       "      <td>4 portas</td>\n",
       "    </tr>\n",
       "  </tbody>\n",
       "</table>\n",
       "</div>"
      ],
      "text/plain": [
       "      model regdate  price     doors\n",
       "Id                                  \n",
       "1486     KA    2018  52900  4 portas\n",
       "2186     KA    2018  53500  4 portas\n",
       "4029     KA    2018  51000  4 portas\n",
       "6827     KA    2015  45900  4 portas\n",
       "8702     KA    2015  42990  4 portas\n",
       "9772     KA    2015  44900  4 portas\n",
       "11672    KA    2016  36000  4 portas\n",
       "12232    KA    2018  52900  4 portas\n",
       "13447    KA    2018  53900  4 portas\n",
       "13927    KA    2015  43000  4 portas"
      ]
     },
     "execution_count": 16,
     "metadata": {},
     "output_type": "execute_result"
    }
   ],
   "source": [
    "df[['model','regdate','price','doors']].loc[df.versao == 'KA 1.5 16V FLEX 5P']"
   ]
  },
  {
   "cell_type": "code",
   "execution_count": 17,
   "metadata": {},
   "outputs": [],
   "source": [
    "df.mileage = df.mileage.astype(int)\n",
    "df = df.loc[df.mileage < 350000]"
   ]
  },
  {
   "cell_type": "code",
   "execution_count": 18,
   "metadata": {},
   "outputs": [],
   "source": [
    "df = df.loc[df.price != '']"
   ]
  },
  {
   "cell_type": "code",
   "execution_count": 19,
   "metadata": {},
   "outputs": [],
   "source": [
    "df.price = df.price.astype(int)"
   ]
  },
  {
   "cell_type": "code",
   "execution_count": 20,
   "metadata": {},
   "outputs": [],
   "source": [
    "df = df.loc[df.price >= 1500]"
   ]
  },
  {
   "cell_type": "code",
   "execution_count": 21,
   "metadata": {},
   "outputs": [],
   "source": [
    "df = df.loc[df.price < 500000]"
   ]
  },
  {
   "cell_type": "code",
   "execution_count": 22,
   "metadata": {},
   "outputs": [
    {
     "data": {
      "text/plain": [
       "<AxesSubplot:xlabel='mileage'>"
      ]
     },
     "execution_count": 22,
     "metadata": {},
     "output_type": "execute_result"
    },
    {
     "data": {
      "image/png": "[encoded data removed]",
      "text/plain": [
       "<Figure size 1080x648 with 1 Axes>"
      ]
     },
     "metadata": {},
     "output_type": "display_data"
    }
   ],
   "source": [
    "import seaborn as sns\n",
    "sns.set(rc={'figure.figsize':(15,9)})\n",
    "#Plot de distribuição de Log(1 + Quilometragem)\n",
    "\n",
    "sns.distplot(df['mileage'], hist=True, bins=100)"
   ]
  },
  {
   "cell_type": "code",
   "execution_count": 23,
   "metadata": {},
   "outputs": [
    {
     "data": {
      "text/plain": [
       "<AxesSubplot:xlabel='price'>"
      ]
     },
     "execution_count": 23,
     "metadata": {},
     "output_type": "execute_result"
    },
    {
     "data": {
      "image/png": "[encoded data removed]",
      "text/plain": [
       "<Figure size 1080x648 with 1 Axes>"
      ]
     },
     "metadata": {},
     "output_type": "display_data"
    }
   ],
   "source": [
    "sns.distplot(np.minimum(df['price'], 500000), hist=True , bins=100)"
   ]
  },
  {
   "cell_type": "code",
   "execution_count": 24,
   "metadata": {},
   "outputs": [
    {
     "data": {
      "text/plain": [
       "listId              0\n",
       "sellerName          0\n",
       "adDate              0\n",
       "price               0\n",
       "ddd                 0\n",
       "brand               0\n",
       "model               0\n",
       "versao              0\n",
       "gearbox            92\n",
       "titulo              0\n",
       "region              0\n",
       "vehicle_model       0\n",
       "cartype          1938\n",
       "regdate             0\n",
       "mileage             0\n",
       "motorpower       1808\n",
       "fuel              190\n",
       "car_steering     1889\n",
       "carcolor         1411\n",
       "doors             610\n",
       "end_tag          2068\n",
       "extra            1168\n",
       "addesc              0\n",
       "pro_vendor          0\n",
       "dtype: int64"
      ]
     },
     "execution_count": 24,
     "metadata": {},
     "output_type": "execute_result"
    }
   ],
   "source": [
    "df.isna().sum()"
   ]
  },
  {
   "cell_type": "code",
   "execution_count": 25,
   "metadata": {},
   "outputs": [
    {
     "data": {
      "text/plain": [
       "'1.3'"
      ]
     },
     "execution_count": 25,
     "metadata": {},
     "output_type": "execute_result"
    }
   ],
   "source": [
    "df.groupby('versao').motorpower.agg(pd.Series.mode).get('RENEGADE LONG. T270 1.3 TB 4X2 FLEX AUT.', default=None)"
   ]
  },
  {
   "cell_type": "code",
   "execution_count": 26,
   "metadata": {},
   "outputs": [
    {
     "data": {
      "text/html": [
       "<div>\n",
       "<style scoped>\n",
       "    .dataframe tbody tr th:only-of-type {\n",
       "        vertical-align: middle;\n",
       "    }\n",
       "\n",
       "    .dataframe tbody tr th {\n",
       "        vertical-align: top;\n",
       "    }\n",
       "\n",
       "    .dataframe thead th {\n",
       "        text-align: right;\n",
       "    }\n",
       "</style>\n",
       "<table border=\"1\" class=\"dataframe\">\n",
       "  <thead>\n",
       "    <tr style=\"text-align: right;\">\n",
       "      <th></th>\n",
       "      <th>versao</th>\n",
       "      <th>regdate</th>\n",
       "      <th>motorpower</th>\n",
       "    </tr>\n",
       "    <tr>\n",
       "      <th>Id</th>\n",
       "      <th></th>\n",
       "      <th></th>\n",
       "      <th></th>\n",
       "    </tr>\n",
       "  </thead>\n",
       "  <tbody>\n",
       "    <tr>\n",
       "      <th>1</th>\n",
       "      <td>207 SW XR 1.4 FLEX 8V 5P</td>\n",
       "      <td>2012</td>\n",
       "      <td>1.0</td>\n",
       "    </tr>\n",
       "    <tr>\n",
       "      <th>2913</th>\n",
       "      <td>207 SW XR 1.4 FLEX 8V 5P</td>\n",
       "      <td>2011</td>\n",
       "      <td>1.4</td>\n",
       "    </tr>\n",
       "    <tr>\n",
       "      <th>10422</th>\n",
       "      <td>207 SW XR 1.4 FLEX 8V 5P</td>\n",
       "      <td>2012</td>\n",
       "      <td>1.4</td>\n",
       "    </tr>\n",
       "    <tr>\n",
       "      <th>13879</th>\n",
       "      <td>207 SW XR 1.4 FLEX 8V 5P</td>\n",
       "      <td>2013</td>\n",
       "      <td>1.4</td>\n",
       "    </tr>\n",
       "  </tbody>\n",
       "</table>\n",
       "</div>"
      ],
      "text/plain": [
       "                         versao regdate motorpower\n",
       "Id                                                \n",
       "1      207 SW XR 1.4 FLEX 8V 5P    2012        1.0\n",
       "2913   207 SW XR 1.4 FLEX 8V 5P    2011        1.4\n",
       "10422  207 SW XR 1.4 FLEX 8V 5P    2012        1.4\n",
       "13879  207 SW XR 1.4 FLEX 8V 5P    2013        1.4"
      ]
     },
     "execution_count": 26,
     "metadata": {},
     "output_type": "execute_result"
    }
   ],
   "source": [
    "df[['versao','regdate','motorpower']].loc[df.versao=='207 SW XR 1.4 FLEX 8V 5P']"
   ]
  },
  {
   "cell_type": "code",
   "execution_count": 27,
   "metadata": {},
   "outputs": [],
   "source": [
    "freq_mp_by_version = df.groupby('versao').motorpower.agg(pd.Series.mode)\n",
    "\n",
    "df.motorpower.loc[df.motorpower.isna()] = df.loc[df.motorpower.isna()].apply(lambda x: freq_mp_by_version[x.versao], axis=1)"
   ]
  },
  {
   "cell_type": "code",
   "execution_count": 28,
   "metadata": {},
   "outputs": [],
   "source": [
    "df.motorpower = df.motorpower.apply(lambda x: x if isinstance(x, str) else x.any())"
   ]
  },
  {
   "cell_type": "code",
   "execution_count": 29,
   "metadata": {},
   "outputs": [
    {
     "name": "stderr",
     "output_type": "stream",
     "text": [
      "/home/lorenzovaralo/anaconda3/envs/ML/lib/python3.7/site-packages/pandas/core/algorithms.py:944: UserWarning: Unable to sort modes: '<' not supported between instances of 'str' and 'bool'\n",
      "  warn(f\"Unable to sort modes: {err}\")\n"
     ]
    }
   ],
   "source": [
    "df.loc[df.motorpower.isna(), 'motorpower'] = df.brand.loc[df.motorpower.isna()].map(df.groupby('brand').motorpower.agg(pd.Series.mode))"
   ]
  },
  {
   "cell_type": "code",
   "execution_count": 30,
   "metadata": {},
   "outputs": [],
   "source": [
    "BrandsByPriceMEAN = df.groupby('brand').price.median().sort_values().index"
   ]
  },
  {
   "cell_type": "code",
   "execution_count": 31,
   "metadata": {},
   "outputs": [
    {
     "data": {
      "text/plain": [
       "<AxesSubplot:xlabel='price', ylabel='brand'>"
      ]
     },
     "execution_count": 31,
     "metadata": {},
     "output_type": "execute_result"
    },
    {
     "data": {
      "image/png": "[encoded data removed]",
      "text/plain": [
       "<Figure size 1080x648 with 1 Axes>"
      ]
     },
     "metadata": {},
     "output_type": "display_data"
    }
   ],
   "source": [
    "sns.boxplot(x='price', y='brand', data=df, order = BrandsByPriceMEAN)"
   ]
  },
  {
   "cell_type": "code",
   "execution_count": 32,
   "metadata": {},
   "outputs": [
    {
     "data": {
      "text/plain": [
       "Id\n",
       "23                      Mazda MX3 1.6 16v \n",
       "7341    Mazda 626 GLX 2.0 1995 Automático \n",
       "Name: titulo, dtype: object"
      ]
     },
     "execution_count": 32,
     "metadata": {},
     "output_type": "execute_result"
    }
   ],
   "source": [
    "df.titulo.loc[df.brand == 'MAZDA']"
   ]
  },
  {
   "cell_type": "code",
   "execution_count": null,
   "metadata": {},
   "outputs": [],
   "source": []
  },
  {
   "cell_type": "code",
   "execution_count": 33,
   "metadata": {},
   "outputs": [],
   "source": [
    "df = df.loc[df.price.loc[df.price != ''].index]\n",
    "df.price = np.minimum(df.price.astype(int), 500000)"
   ]
  },
  {
   "cell_type": "code",
   "execution_count": 34,
   "metadata": {},
   "outputs": [
    {
     "data": {
      "text/html": [
       "<div>\n",
       "<style scoped>\n",
       "    .dataframe tbody tr th:only-of-type {\n",
       "        vertical-align: middle;\n",
       "    }\n",
       "\n",
       "    .dataframe tbody tr th {\n",
       "        vertical-align: top;\n",
       "    }\n",
       "\n",
       "    .dataframe thead th {\n",
       "        text-align: right;\n",
       "    }\n",
       "</style>\n",
       "<table border=\"1\" class=\"dataframe\">\n",
       "  <thead>\n",
       "    <tr style=\"text-align: right;\">\n",
       "      <th></th>\n",
       "      <th>listId</th>\n",
       "      <th>price</th>\n",
       "      <th>mileage</th>\n",
       "      <th>pro_vendor</th>\n",
       "    </tr>\n",
       "  </thead>\n",
       "  <tbody>\n",
       "    <tr>\n",
       "      <th>count</th>\n",
       "      <td>1.338200e+04</td>\n",
       "      <td>13382.000000</td>\n",
       "      <td>13382.000000</td>\n",
       "      <td>13382.000000</td>\n",
       "    </tr>\n",
       "    <tr>\n",
       "      <th>mean</th>\n",
       "      <td>1.006990e+09</td>\n",
       "      <td>79262.399043</td>\n",
       "      <td>78843.241444</td>\n",
       "      <td>0.632491</td>\n",
       "    </tr>\n",
       "    <tr>\n",
       "      <th>std</th>\n",
       "      <td>3.125735e+07</td>\n",
       "      <td>62130.332583</td>\n",
       "      <td>57974.323326</td>\n",
       "      <td>0.482145</td>\n",
       "    </tr>\n",
       "    <tr>\n",
       "      <th>min</th>\n",
       "      <td>5.126301e+08</td>\n",
       "      <td>1500.000000</td>\n",
       "      <td>0.000000</td>\n",
       "      <td>0.000000</td>\n",
       "    </tr>\n",
       "    <tr>\n",
       "      <th>25%</th>\n",
       "      <td>1.002125e+09</td>\n",
       "      <td>38900.000000</td>\n",
       "      <td>36000.000000</td>\n",
       "      <td>0.000000</td>\n",
       "    </tr>\n",
       "    <tr>\n",
       "      <th>50%</th>\n",
       "      <td>1.019959e+09</td>\n",
       "      <td>61900.000000</td>\n",
       "      <td>75000.000000</td>\n",
       "      <td>1.000000</td>\n",
       "    </tr>\n",
       "    <tr>\n",
       "      <th>75%</th>\n",
       "      <td>1.023539e+09</td>\n",
       "      <td>99900.000000</td>\n",
       "      <td>111111.000000</td>\n",
       "      <td>1.000000</td>\n",
       "    </tr>\n",
       "    <tr>\n",
       "      <th>max</th>\n",
       "      <td>1.028629e+09</td>\n",
       "      <td>499900.000000</td>\n",
       "      <td>347000.000000</td>\n",
       "      <td>1.000000</td>\n",
       "    </tr>\n",
       "  </tbody>\n",
       "</table>\n",
       "</div>"
      ],
      "text/plain": [
       "             listId          price        mileage    pro_vendor\n",
       "count  1.338200e+04   13382.000000   13382.000000  13382.000000\n",
       "mean   1.006990e+09   79262.399043   78843.241444      0.632491\n",
       "std    3.125735e+07   62130.332583   57974.323326      0.482145\n",
       "min    5.126301e+08    1500.000000       0.000000      0.000000\n",
       "25%    1.002125e+09   38900.000000   36000.000000      0.000000\n",
       "50%    1.019959e+09   61900.000000   75000.000000      1.000000\n",
       "75%    1.023539e+09   99900.000000  111111.000000      1.000000\n",
       "max    1.028629e+09  499900.000000  347000.000000      1.000000"
      ]
     },
     "execution_count": 34,
     "metadata": {},
     "output_type": "execute_result"
    }
   ],
   "source": [
    "df.describe()"
   ]
  },
  {
   "cell_type": "code",
   "execution_count": 35,
   "metadata": {},
   "outputs": [],
   "source": [
    "df = df.loc[df.price > 2000]"
   ]
  },
  {
   "cell_type": "code",
   "execution_count": 36,
   "metadata": {},
   "outputs": [],
   "source": [
    "fipe.Modelo = fipe.Modelo.str.upper()"
   ]
  },
  {
   "cell_type": "code",
   "execution_count": 37,
   "metadata": {},
   "outputs": [],
   "source": [
    "df.versao = df.versao.str.replace('.', '', regex=False)\n",
    "fipe.Modelo = fipe.Modelo.str.replace('.','', regex=False)"
   ]
  },
  {
   "cell_type": "code",
   "execution_count": 38,
   "metadata": {},
   "outputs": [],
   "source": [
    "convert_list3 = {'KA 10 SE 12V FLEX 4P MANUAL': 'KA 15 SEDAN SE 12V FLEX 4P MEC',\n",
    " 'COROLLA ALTIS 20 FLEX 16V AUT': 'COROLLA ALTIS/APREMIU 20 FLEX 16V AUT',\n",
    " 'UNO ATTRACTIVE 10 EVO FIRE FLEX 8V 5P': 'UNO ATTRACTIVE 10 FIRE FLEX 8V 5P',\n",
    " '320IA MODERN/SPORT TB 20/AFLEX 16V 4P': '320IA MODERN/SPORT TB 20/AFLEX/GP 4P',\n",
    " 'VOYAGE COMF/HIGHLI 16 MI TFLEX 8V 4P': 'VOYAGE COMF/HIGHLI 16 TFLEX 8V 4P',\n",
    " 'DUSTER DYNAMIQUE 20  HI-FLEX 16V AUT': 'DUSTER DYNAMIQUE 20 FLEX 16V AUT',\n",
    " 'PALIO ATTRA/ITALIA 14 EVO FFLEX 8V 5P': 'PALIO ATTRA/ITÁLIA 14 EVO FFLEX 8V 5P',\n",
    " 'FREEMONT 24 16V 5P AUT': 'FREEMONT EMOT/PRECISION 24 16V 5P AUT',\n",
    " 'RANGE ROVER EVOQUE SI4 HSE DYNAMIC 20 AUT': 'RANGE REVOQUE SI4 HSE DYN 20/FLEX AUT',\n",
    " '320IA 20 TURBO/ACTIVEFLEX 16V 184CV  4P': '320IA 20 TURBO/ACTIVEFLEX 16V/GP  4P',\n",
    " 'KWID 10 ZEN': 'KWID ZEN 10 FLEX 12V 5P MEC',\n",
    " 'RANGE ROVER EVOQUE DYNAMIC 20 AUT 5P': 'RANGE REVOQUE DYNAMIC TECH 20 AUT 5P',\n",
    " '20 MPFI GLS 16V 143CV 2WD FLEX 4P AUT': 'TUCSON 20 16V FLEX AUT',\n",
    " '20 XEI 16V FLEX 4P AUTOMATICO': 'COROLLA XEI 20 FLEX 16V AUT',\n",
    " 'SANTA FE GLS 33 V6 4X4 TIPTRONIC': 'SANTA FE/GLS 33 V6 4X4 TIPTRONIC',\n",
    " 'SANDERO SPORT RS 20 HI-POWER 16V 5P': 'SANDERO SPORT RS 20 FLEX 16V 5P',\n",
    " 'PALIO ELX 14 MPI FIRE FLEX 8V 4P': 'PALIO WEEKEND ELX 14 MPI FIRE FLEX 8V',\n",
    " '320IA 20 TB M SPORT ACTIVEFLEX 16V 4P': '320IA 20 TB M SPORT AFLEX/MSPORT 4P',\n",
    " 'DUSTER EXPRESSION16 FLEX 16V AUT': 'DUSTER EXPRESSION 16 FLEX 16V AUT',\n",
    " 'TIGGO 8 TXS 16 TURBO TGDI AUT': 'TIGGO 8 TXS 16 16V TGDI AUT',\n",
    " 'SORENTO 35 V6 24V 278CV 4X4 AUT': 'SORENTO 35 V6 24V 4X4 AUT',\n",
    " 'KA+ SEDAN 10 TIVCT FLEX 4P': 'KA+ SEDAN 10 SE/SE PLUS TIVCT FLEX 4P',\n",
    " 'KA 15 16V FLEX 5P': 'KA SEL 15 16V FLEX 5P',\n",
    " 'DUSTER DYNAMIQUE 16 HI-FLEX 16V MEC': 'DUSTER DYNAMIQUE 16 FLEX 16V MEC',\n",
    " 'HATCH PREM 10 12V TB FLEX 5P AUT': 'ONIX HATCH PREM 10 12V TB FLEX 5P AUT',\n",
    " 'HATCH LT 10 12V FLEX 5P MEC': 'ONIX HATCH LT 10 12V FLEX 5P MEC',\n",
    " 'DUSTER OROCH DYNA 20 HI-FLEX 16V AUT': 'DUSTER OROCH DYNA 20 FLEX 16V AUT',\n",
    " 'ULTRA 20 16V 4X4 DIESEL AUT': 'TORO ULTRA 20 16V 4X4 DIESEL AUT',\n",
    " 'HATCH LTZ 10 12V TB FLEX 5P AUT': 'ONIX HATCH LTZ 10 12V TB FLEX 5P AUT',\n",
    " 'DISCOVERY SPORT SE 20 4X4 AUT':'DISCOVERY SPORT HSE 20 4X4 AUT/ FLEX',\n",
    " 'ARGO DRIVE 10 FIREFLY':'ARGO DRIVE 10 6V FLEX',\n",
    " 'FIESTA PERSONNALITE 10 8V 66CV 5P':'FIESTA PERSONNALITÉ 10 8V 66CV 5P',\n",
    " 'SCENIC RT/AUTH/AUTH/KIDS HI-FLEX 16 16V':'SCÉNIC RT/AUTH/AUTH/KIDS HI-FLEX 16 16V',\n",
    " '2008 GRIFE 16 TURBO FLEX 16V 5P AUT':'2008 GRIFFE 16 TURBO FLEX 16V 5P AUT',\n",
    " 'TORO ENDURENCE 18 16V FLEX AUT':'TORO ENDURANCE 18 16V FLEX AUT',\n",
    " 'STRADA FREEDOM 13 FLEX 8V CS PLUS':'STRADA FREEDOM 13 FLEX 8V  CS PLUS',\n",
    " 'RANGE ROVER EVOQUE PURE  20 AUT 5P':'RANGE REVOQUE PURE  20 AUT 5P',\n",
    " 'HATCH LT 10 12V TB FLEX 5P MEC':'ONIX HATCH LT 10 12V TB FLEX 5P MEC',\n",
    " 'HB20 SENSE 10 12V FLEX MEC':'HB20 SENSE 10 FLEX 12V MEC',\n",
    " '20 MPFI GLS 16V FLEX 4P AUTOMATICO':'IX35 GLS 20 16V 2WD FLEX AUT',\n",
    " 'GOL CITY 16 MI TOTAL FLEX 8V 4P':'GOL CITY (TREND) 16 MI TFLEX 8V 4P',\n",
    " 'SCENIC RXE/ PRIVILÈGE 16 16V MEC':'SCÉNIC RXE/ PRIVILÈGE 16 16V MEC',\n",
    " 'RANGE ROVER SPORT HSE 30 SDV6  DIESEL':'RANGE ROVER SPORT HSE 30 4X4 SDV6 DIES',\n",
    " 'KA+ SEDAN 15 16V FLEX 4P':'KA+ SEDAN 15 SEL 16V FLEX 4P',\n",
    " 'GLA-200 ADV 16/16 TB 16V FLEX  AUT':'GLA 200 ADVANCE 16/16 TB 16V FLEX AUT'}"
   ]
  },
  {
   "cell_type": "code",
   "execution_count": 39,
   "metadata": {},
   "outputs": [
    {
     "data": {
      "text/plain": [
       "'17118'"
      ]
     },
     "execution_count": 39,
     "metadata": {},
     "output_type": "execute_result"
    }
   ],
   "source": [
    "r = np.random.randint(0, 10000)\n",
    "carro = df[['versao','regdate','price']].iloc[r]\n",
    "versao = carro['versao'].replace('/', '\\/')\n",
    "ano = carro['regdate']\n",
    "\n",
    "fipe['Valor'].loc[(fipe.Modelo == versao)&(fipe.AnoModelo == int(ano))].values.any()\n"
   ]
  },
  {
   "cell_type": "code",
   "execution_count": 40,
   "metadata": {},
   "outputs": [
    {
     "data": {
      "text/plain": [
       "['024152-0',\n",
       " '017075-5',\n",
       " '001453-2',\n",
       " '025187-9',\n",
       " '004328-1',\n",
       " '001424-9',\n",
       " '015051-7',\n",
       " '025139-9',\n",
       " '015086-0',\n",
       " '003282-4',\n",
       " '011182-1',\n",
       " '011198-8',\n",
       " '015144-0',\n",
       " '015145-9',\n",
       " '015140-8',\n",
       " '015202-1',\n",
       " '003388-0',\n",
       " '017035-6',\n",
       " '001352-8',\n",
       " '017088-7',\n",
       " '003381-2',\n",
       " '020005-0',\n",
       " '001365-0',\n",
       " '005272-8',\n",
       " '001453-2',\n",
       " '004525-0',\n",
       " '073017-3',\n",
       " '005486-0',\n",
       " '015101-7',\n",
       " False,\n",
       " '022091-4',\n",
       " '002160-1',\n",
       " '025191-7',\n",
       " '004398-2',\n",
       " '015145-9',\n",
       " '014040-6',\n",
       " '005281-7',\n",
       " '004013-4',\n",
       " '003441-0',\n",
       " False,\n",
       " '002021-4',\n",
       " '004509-8',\n",
       " '018083-1',\n",
       " '021458-2',\n",
       " '004329-0',\n",
       " '001453-2',\n",
       " '005259-0',\n",
       " '001461-3',\n",
       " '005027-0',\n",
       " '005190-0',\n",
       " '017035-6',\n",
       " '015142-4',\n",
       " '014049-0',\n",
       " '014049-0',\n",
       " '002164-4',\n",
       " '025182-8',\n",
       " '001462-1',\n",
       " '023125-8',\n",
       " '004370-2',\n",
       " '003359-6',\n",
       " '004011-8',\n",
       " '014040-6',\n",
       " '014065-1',\n",
       " '005027-0',\n",
       " '001361-7',\n",
       " '011163-5',\n",
       " '004434-2',\n",
       " '004421-0',\n",
       " '022162-7',\n",
       " '004431-8',\n",
       " '021202-4',\n",
       " '005325-2',\n",
       " '025290-5',\n",
       " '011071-0',\n",
       " '004281-1',\n",
       " '015050-9',\n",
       " '015079-7',\n",
       " '004490-3',\n",
       " '005094-6',\n",
       " '025182-8',\n",
       " '015071-1',\n",
       " '003463-0',\n",
       " '025126-7',\n",
       " '004349-4',\n",
       " '024148-2',\n",
       " '073025-4',\n",
       " '015101-7',\n",
       " '001520-2',\n",
       " '002107-5',\n",
       " '005483-6',\n",
       " '001092-8',\n",
       " '023144-4',\n",
       " '004484-9',\n",
       " '004304-4',\n",
       " '003421-5',\n",
       " '073002-5',\n",
       " '001176-2',\n",
       " '018085-8',\n",
       " '002111-3',\n",
       " '015095-9',\n",
       " '002113-0',\n",
       " '001266-1',\n",
       " '023064-2',\n",
       " '002112-1',\n",
       " '022139-2',\n",
       " '001262-9',\n",
       " '003409-6',\n",
       " '077004-3',\n",
       " '002144-0',\n",
       " '001451-6',\n",
       " '005145-4',\n",
       " '025143-7',\n",
       " '004332-0',\n",
       " '071028-8',\n",
       " '003283-2',\n",
       " '004334-6',\n",
       " '022075-2',\n",
       " '005328-7',\n",
       " '015159-9',\n",
       " '003168-2',\n",
       " '003362-6',\n",
       " '021377-2',\n",
       " '003281-6',\n",
       " '023109-6',\n",
       " '018064-5',\n",
       " '002182-2',\n",
       " '002107-5',\n",
       " '004326-5',\n",
       " '015086-0',\n",
       " '021397-7',\n",
       " '003340-5',\n",
       " '004173-4',\n",
       " '002168-7',\n",
       " '005505-0',\n",
       " '011144-9',\n",
       " '003373-1',\n",
       " '014083-0',\n",
       " '003438-0',\n",
       " '015088-6',\n",
       " '003374-0',\n",
       " '004469-5',\n",
       " '004160-2',\n",
       " '015088-6',\n",
       " '005482-8',\n",
       " '017046-1',\n",
       " '002115-6',\n",
       " '025173-9',\n",
       " '004202-1',\n",
       " '025306-5',\n",
       " '003281-6',\n",
       " '001484-2',\n",
       " '001307-2',\n",
       " '001424-9',\n",
       " '005094-6',\n",
       " '004439-3',\n",
       " '003282-4',\n",
       " '001281-5',\n",
       " '025228-0',\n",
       " '015164-5',\n",
       " '015100-9',\n",
       " '025143-7',\n",
       " '003451-7',\n",
       " '003390-1',\n",
       " '021005-6',\n",
       " '005020-2',\n",
       " '023102-9',\n",
       " '009078-6',\n",
       " '003254-9',\n",
       " '005485-2',\n",
       " '015165-3',\n",
       " '004128-9',\n",
       " '015089-4',\n",
       " '003318-9',\n",
       " '003140-2',\n",
       " '028012-7',\n",
       " '009180-4',\n",
       " '001449-4',\n",
       " '025262-0',\n",
       " '005509-3',\n",
       " '024102-4',\n",
       " '025099-6',\n",
       " '002112-1',\n",
       " '004517-9',\n",
       " '017035-6',\n",
       " '018085-8',\n",
       " '003408-8',\n",
       " '005094-6',\n",
       " '015150-5',\n",
       " '016052-0',\n",
       " '016051-2',\n",
       " '005408-9',\n",
       " '071016-4',\n",
       " '003266-2',\n",
       " '014050-3',\n",
       " '025289-1',\n",
       " '003421-5',\n",
       " '001176-2',\n",
       " '003225-5',\n",
       " '003282-4',\n",
       " '001494-0',\n",
       " '001542-3',\n",
       " '017051-8',\n",
       " '005280-9',\n",
       " '014044-9',\n",
       " '014057-0',\n",
       " '015174-2',\n",
       " '003269-7',\n",
       " '014089-9',\n",
       " '008245-7',\n",
       " '003367-7',\n",
       " '005526-3',\n",
       " '015126-2',\n",
       " '001505-9',\n",
       " '004444-0',\n",
       " '014049-0',\n",
       " '015138-6',\n",
       " '021321-7',\n",
       " '017045-3',\n",
       " '001379-0',\n",
       " '004421-0',\n",
       " '002157-1',\n",
       " '001380-3',\n",
       " '015171-8',\n",
       " '004370-2',\n",
       " '008126-4',\n",
       " '003282-4',\n",
       " '004121-1',\n",
       " '004469-5',\n",
       " '004502-0',\n",
       " '023108-8',\n",
       " '015156-4',\n",
       " '002052-4',\n",
       " '023129-0',\n",
       " '004502-0',\n",
       " '015086-0',\n",
       " '001248-3',\n",
       " '025281-6',\n",
       " '005481-0',\n",
       " '004302-8',\n",
       " '022077-9',\n",
       " '004457-1',\n",
       " '001048-0',\n",
       " '025159-3',\n",
       " '024103-2',\n",
       " '015101-7',\n",
       " False,\n",
       " '008159-0',\n",
       " '001365-0',\n",
       " '015103-3',\n",
       " '005078-4',\n",
       " '014045-7',\n",
       " '001449-4',\n",
       " '002124-5',\n",
       " '073022-0',\n",
       " '004417-2',\n",
       " '025266-2',\n",
       " '015138-6',\n",
       " '013027-3',\n",
       " '003281-6',\n",
       " '024224-1',\n",
       " '001378-1',\n",
       " '005059-8',\n",
       " '004173-4',\n",
       " '014059-7',\n",
       " '017022-4',\n",
       " '004321-4',\n",
       " '022115-5',\n",
       " '001322-6',\n",
       " '003198-4',\n",
       " '015071-1',\n",
       " '005074-1',\n",
       " '024090-7',\n",
       " '023149-5',\n",
       " '015156-4',\n",
       " '005493-3',\n",
       " '002111-3',\n",
       " '025241-7',\n",
       " '002142-3',\n",
       " False,\n",
       " '004321-4',\n",
       " '004426-1',\n",
       " '001372-2',\n",
       " '005298-1',\n",
       " '002142-3',\n",
       " '003272-7',\n",
       " '025057-0',\n",
       " '015175-0',\n",
       " '005349-0',\n",
       " '023131-2',\n",
       " '015144-0',\n",
       " '022075-2',\n",
       " '024119-9',\n",
       " '015123-8',\n",
       " '003429-0',\n",
       " '025173-9',\n",
       " False,\n",
       " '004425-3',\n",
       " '003148-8',\n",
       " '005508-5',\n",
       " '023142-8',\n",
       " '002123-7',\n",
       " '005040-7',\n",
       " '004321-4',\n",
       " '001370-6',\n",
       " '005340-6',\n",
       " '028047-0',\n",
       " '001484-2',\n",
       " '005313-9',\n",
       " '001111-8',\n",
       " '013032-0',\n",
       " '028015-1',\n",
       " '004434-2',\n",
       " '025197-6',\n",
       " '004338-9',\n",
       " '002161-0',\n",
       " '017036-4',\n",
       " '004473-3',\n",
       " '014074-0',\n",
       " '003340-5',\n",
       " '014090-2',\n",
       " '004342-7',\n",
       " '073014-9',\n",
       " '015086-0',\n",
       " '004425-3',\n",
       " '001027-8',\n",
       " '024148-2',\n",
       " '005320-1',\n",
       " '015079-7',\n",
       " '005355-4',\n",
       " '005147-0',\n",
       " '004473-3',\n",
       " '018065-3',\n",
       " '025228-0',\n",
       " '004484-9',\n",
       " '023180-0',\n",
       " '001461-3',\n",
       " '015088-6',\n",
       " '023064-2',\n",
       " '025306-5',\n",
       " '025266-2',\n",
       " '021239-3',\n",
       " '001315-3',\n",
       " '024215-2',\n",
       " '004503-9',\n",
       " '003465-7',\n",
       " '071029-6',\n",
       " '025216-6',\n",
       " '033056-6',\n",
       " '017035-6',\n",
       " '004363-0',\n",
       " '003310-3',\n",
       " '002135-0',\n",
       " '023160-6',\n",
       " '004343-5',\n",
       " '001263-7',\n",
       " '001378-1',\n",
       " '004473-3',\n",
       " '017035-6',\n",
       " '005228-0',\n",
       " '022119-8',\n",
       " '008201-5',\n",
       " '001228-9',\n",
       " '001494-0',\n",
       " '002111-3',\n",
       " '004500-4',\n",
       " '022106-6',\n",
       " '015189-0',\n",
       " '005490-9',\n",
       " '021458-2',\n",
       " '003408-8',\n",
       " '005328-7',\n",
       " '001453-2',\n",
       " '011092-2',\n",
       " '004519-5',\n",
       " '001483-4',\n",
       " '024186-5',\n",
       " '023063-4',\n",
       " '002096-6',\n",
       " '056007-3',\n",
       " '014089-9',\n",
       " '017077-1',\n",
       " '022101-5',\n",
       " '001516-4',\n",
       " '004196-3',\n",
       " '001225-4',\n",
       " '014053-8',\n",
       " '071007-5',\n",
       " '025129-1',\n",
       " '005164-0',\n",
       " '004502-0',\n",
       " '005449-6',\n",
       " '024129-6',\n",
       " '001380-3',\n",
       " '004092-4',\n",
       " '003224-7',\n",
       " '009038-7',\n",
       " '004439-3',\n",
       " '004433-4',\n",
       " False,\n",
       " '003384-7',\n",
       " '003311-1',\n",
       " '003364-2',\n",
       " '004432-6',\n",
       " '024146-6',\n",
       " '021307-1',\n",
       " '004470-9',\n",
       " False,\n",
       " '014040-6',\n",
       " '002096-6',\n",
       " '001461-3',\n",
       " '003441-0',\n",
       " '005466-6',\n",
       " '004401-6',\n",
       " '002111-3',\n",
       " '003228-0',\n",
       " '001500-8',\n",
       " '003408-8',\n",
       " '004370-2',\n",
       " '056012-0',\n",
       " '029141-2',\n",
       " '003478-9',\n",
       " '009228-2',\n",
       " '025185-2',\n",
       " '015166-1',\n",
       " '025288-3',\n",
       " '004378-8',\n",
       " '005283-3',\n",
       " '004043-6',\n",
       " '015106-8',\n",
       " '025143-7',\n",
       " '004469-5',\n",
       " '017047-0',\n",
       " '003466-5',\n",
       " '017053-4',\n",
       " '005225-6',\n",
       " '015090-8',\n",
       " '024197-0',\n",
       " '005401-1',\n",
       " '014091-0',\n",
       " '005228-0',\n",
       " '003351-0',\n",
       " '004273-0',\n",
       " '001204-1',\n",
       " '018061-0',\n",
       " '005327-9',\n",
       " '029078-5',\n",
       " '015151-3',\n",
       " '004433-4',\n",
       " '005094-6',\n",
       " '004395-8',\n",
       " '001380-3',\n",
       " '004268-4',\n",
       " '002093-1',\n",
       " '023108-8',\n",
       " '005366-0',\n",
       " '009228-2',\n",
       " '015126-2',\n",
       " '002164-4',\n",
       " '005345-7',\n",
       " '057049-4',\n",
       " '025144-5',\n",
       " '002174-1',\n",
       " '024124-5',\n",
       " '003310-3',\n",
       " '024214-4',\n",
       " '004404-0',\n",
       " '004525-0',\n",
       " '004395-8',\n",
       " '025279-4',\n",
       " '005164-0',\n",
       " '005477-1',\n",
       " '022101-5',\n",
       " '022123-6',\n",
       " '014074-0',\n",
       " '004470-9',\n",
       " '005251-5',\n",
       " '008248-1',\n",
       " '001508-3',\n",
       " '004121-1',\n",
       " '004053-3',\n",
       " '011109-0',\n",
       " '015072-0',\n",
       " '025246-8',\n",
       " '028025-9',\n",
       " '008197-3',\n",
       " '005283-3',\n",
       " '005164-0',\n",
       " '004414-8',\n",
       " False,\n",
       " '001313-7',\n",
       " '022130-9',\n",
       " '017048-8',\n",
       " '004425-3',\n",
       " '004469-5',\n",
       " '073029-7',\n",
       " '083001-1',\n",
       " '024194-6',\n",
       " '004470-9',\n",
       " '004425-3',\n",
       " '024215-2',\n",
       " '011092-2',\n",
       " '002111-3',\n",
       " '022091-4',\n",
       " '001161-4',\n",
       " '002146-6',\n",
       " '015071-1',\n",
       " '014045-7',\n",
       " False,\n",
       " '024197-0',\n",
       " '022170-8',\n",
       " '015147-5',\n",
       " '023067-7',\n",
       " '017046-1',\n",
       " '003408-8',\n",
       " '004433-4',\n",
       " '005275-2',\n",
       " '002125-3',\n",
       " '024213-6',\n",
       " '028026-7',\n",
       " '029141-2',\n",
       " '005485-2',\n",
       " '001151-7',\n",
       " '005510-7',\n",
       " '005257-4',\n",
       " '022178-3',\n",
       " '005509-3',\n",
       " '024234-9',\n",
       " '005320-1',\n",
       " '015088-6',\n",
       " '025240-9',\n",
       " '014040-6',\n",
       " '004370-2',\n",
       " '004416-4',\n",
       " '001433-8',\n",
       " '004370-2',\n",
       " '004477-6',\n",
       " '005510-7',\n",
       " '001477-0',\n",
       " '009149-9',\n",
       " '004229-3',\n",
       " '001378-1',\n",
       " '015092-4',\n",
       " '025139-9',\n",
       " '001433-8',\n",
       " '005166-7',\n",
       " '014053-8',\n",
       " '014089-9',\n",
       " '025120-8',\n",
       " '003310-3',\n",
       " '003367-7',\n",
       " '002151-2',\n",
       " '014049-0',\n",
       " '005027-0',\n",
       " '005435-6',\n",
       " '003286-7',\n",
       " '003473-8',\n",
       " '017034-8',\n",
       " '004322-2',\n",
       " '004424-5',\n",
       " '004470-9',\n",
       " '015088-6',\n",
       " '002143-1',\n",
       " '004330-3',\n",
       " '004007-0',\n",
       " '024195-4',\n",
       " '014054-6',\n",
       " '015142-4',\n",
       " '025216-6',\n",
       " '003309-0',\n",
       " '009038-7',\n",
       " '005094-6',\n",
       " '004360-5',\n",
       " '004444-0',\n",
       " '001379-0',\n",
       " '005192-6',\n",
       " '004432-6',\n",
       " '018088-2',\n",
       " '015074-6',\n",
       " '002125-3',\n",
       " '003374-0',\n",
       " '004127-0',\n",
       " '003310-3',\n",
       " '003408-8',\n",
       " '005001-6',\n",
       " '005079-2',\n",
       " '015138-6',\n",
       " '021397-7',\n",
       " '004469-5',\n",
       " '005275-2',\n",
       " '005323-6',\n",
       " '025288-3',\n",
       " '003419-3',\n",
       " '004494-6',\n",
       " '004478-4',\n",
       " '011072-8',\n",
       " '024106-7',\n",
       " '015086-0',\n",
       " '015093-2',\n",
       " '014074-0',\n",
       " '004066-5',\n",
       " '025132-1',\n",
       " '003485-1',\n",
       " '004335-4',\n",
       " '004532-2',\n",
       " '002060-5',\n",
       " '003408-8',\n",
       " '003367-7',\n",
       " '002123-7',\n",
       " False,\n",
       " '017035-6',\n",
       " '018071-8',\n",
       " '023149-5',\n",
       " '004470-9',\n",
       " '013031-1',\n",
       " '015090-8',\n",
       " '001242-4',\n",
       " '025145-3',\n",
       " '025139-9',\n",
       " '002143-1',\n",
       " '004176-9',\n",
       " '004380-0',\n",
       " '025129-1',\n",
       " '009164-2',\n",
       " '002174-1',\n",
       " '005307-4',\n",
       " '018073-4',\n",
       " '004472-5',\n",
       " '004381-8',\n",
       " '005013-0',\n",
       " '028002-0',\n",
       " '003225-5',\n",
       " '005477-1',\n",
       " '023066-9',\n",
       " '014048-1',\n",
       " '023104-5',\n",
       " '005478-0',\n",
       " '005274-4',\n",
       " '022014-0',\n",
       " '014048-1',\n",
       " '004423-7',\n",
       " '004471-7',\n",
       " '005010-5',\n",
       " '005416-0',\n",
       " '077003-5',\n",
       " '004433-4',\n",
       " '025143-7',\n",
       " False,\n",
       " '004412-1',\n",
       " '004444-0',\n",
       " '025141-0',\n",
       " '005194-2',\n",
       " '001268-8',\n",
       " '004439-3',\n",
       " False,\n",
       " '015083-5',\n",
       " '003325-1',\n",
       " '001207-6',\n",
       " '002136-9',\n",
       " '005294-9',\n",
       " '005319-8',\n",
       " '004357-5',\n",
       " '004319-2',\n",
       " '005386-4',\n",
       " '005406-2',\n",
       " '005320-1',\n",
       " '021239-3',\n",
       " '022118-0',\n",
       " '014074-0',\n",
       " '080005-8',\n",
       " '005315-5',\n",
       " '002093-1',\n",
       " '002174-1',\n",
       " '004380-0',\n",
       " '025266-2',\n",
       " '001505-9',\n",
       " '003374-0',\n",
       " '008126-4',\n",
       " '025129-1',\n",
       " '005190-0',\n",
       " '018054-8',\n",
       " '024157-1',\n",
       " '001043-0',\n",
       " '004365-6',\n",
       " '013029-0',\n",
       " '004267-6',\n",
       " '009185-5',\n",
       " '073019-0',\n",
       " '015145-9',\n",
       " '004477-6',\n",
       " '004319-2',\n",
       " '001161-4',\n",
       " False,\n",
       " '024190-3',\n",
       " '024176-8',\n",
       " '015138-6',\n",
       " '001328-5',\n",
       " '002146-6',\n",
       " '024213-6',\n",
       " '023109-6',\n",
       " '001162-2',\n",
       " '017046-1',\n",
       " '003408-8',\n",
       " '005276-0',\n",
       " '001414-1',\n",
       " '014048-1',\n",
       " '004054-1',\n",
       " '011054-0',\n",
       " '005509-3',\n",
       " '073022-0',\n",
       " '005509-3',\n",
       " '015088-6',\n",
       " '024213-6',\n",
       " '021310-1',\n",
       " '001530-0',\n",
       " '001231-9',\n",
       " '002111-3',\n",
       " '025240-9',\n",
       " '004110-6',\n",
       " '004322-2',\n",
       " '005334-1',\n",
       " '014053-8',\n",
       " '005284-1',\n",
       " '014081-3',\n",
       " '003448-7',\n",
       " False,\n",
       " '017047-0',\n",
       " '001449-4',\n",
       " '001239-4',\n",
       " '003276-0',\n",
       " '005259-0',\n",
       " '073002-5',\n",
       " '021346-2',\n",
       " '011111-2',\n",
       " '004229-3',\n",
       " '001338-2',\n",
       " False,\n",
       " '004234-0',\n",
       " '080001-5',\n",
       " '015088-6',\n",
       " '001432-0',\n",
       " '017034-8',\n",
       " '023155-0',\n",
       " '025245-0',\n",
       " '003408-8',\n",
       " '025266-2',\n",
       " '080016-3',\n",
       " '005228-0',\n",
       " '003195-0',\n",
       " '025243-3',\n",
       " '005228-0',\n",
       " '003225-5',\n",
       " '004437-7',\n",
       " '004426-1',\n",
       " '015094-0',\n",
       " '001177-0',\n",
       " '005508-5',\n",
       " '017040-2',\n",
       " '001313-7',\n",
       " '001314-5',\n",
       " '005317-1',\n",
       " '005514-0',\n",
       " '023118-5',\n",
       " '025264-6',\n",
       " '001329-3',\n",
       " '004423-7',\n",
       " '015088-6',\n",
       " '011063-9',\n",
       " '005479-8',\n",
       " '015093-2',\n",
       " '005142-0',\n",
       " '005073-3',\n",
       " '025175-5',\n",
       " '025292-1',\n",
       " False,\n",
       " '009004-2',\n",
       " '003364-2',\n",
       " '005238-8',\n",
       " '003038-4',\n",
       " '028074-7',\n",
       " '004380-0',\n",
       " '004458-0',\n",
       " '029121-8',\n",
       " '005036-9',\n",
       " '005480-1',\n",
       " '004044-4',\n",
       " '004370-2',\n",
       " '003008-2',\n",
       " '005194-2',\n",
       " '004206-4',\n",
       " '005250-7',\n",
       " '011166-0',\n",
       " '004240-4',\n",
       " '015068-1',\n",
       " '011092-2',\n",
       " '001365-0',\n",
       " '004433-4',\n",
       " '004049-5',\n",
       " '001319-6',\n",
       " '015089-4',\n",
       " '018079-3',\n",
       " '023145-2',\n",
       " '023141-0',\n",
       " '017045-3',\n",
       " '023154-1',\n",
       " '005205-1',\n",
       " '023132-0',\n",
       " '005306-6',\n",
       " '009039-5',\n",
       " '001249-1',\n",
       " '005365-1',\n",
       " '005142-0',\n",
       " '005501-8',\n",
       " '015156-4',\n",
       " '014094-5',\n",
       " False,\n",
       " '015100-9',\n",
       " '005479-8',\n",
       " '017030-5',\n",
       " '002092-3',\n",
       " '005325-2',\n",
       " '005308-2',\n",
       " '014086-4',\n",
       " '002015-0',\n",
       " '001409-5',\n",
       " '015145-9',\n",
       " '014088-0',\n",
       " '005485-2',\n",
       " '004490-3',\n",
       " '022103-1',\n",
       " '001267-0',\n",
       " '004503-9',\n",
       " '009213-4',\n",
       " '003325-1',\n",
       " '033058-2',\n",
       " '018077-7',\n",
       " '014048-1',\n",
       " '005207-8',\n",
       " '005227-2',\n",
       " '011145-7',\n",
       " '003269-7',\n",
       " '004470-9',\n",
       " '005291-4',\n",
       " '025258-1',\n",
       " '004357-5',\n",
       " '014006-6',\n",
       " '002093-1',\n",
       " '002109-1',\n",
       " '005485-2',\n",
       " '015144-0',\n",
       " '003282-4',\n",
       " '001481-8',\n",
       " '001464-8',\n",
       " '005510-7',\n",
       " '023156-8',\n",
       " '025144-5',\n",
       " '003359-6',\n",
       " '004231-5',\n",
       " '015091-6',\n",
       " '017035-6',\n",
       " '018073-4',\n",
       " '003364-2',\n",
       " '017046-1',\n",
       " '022139-2',\n",
       " '011083-3',\n",
       " '001494-0',\n",
       " '004433-4',\n",
       " '003296-4',\n",
       " '025267-0',\n",
       " '011072-8',\n",
       " '002111-3',\n",
       " '003386-3',\n",
       " '001449-4',\n",
       " '022092-2',\n",
       " '003411-8',\n",
       " '023149-5',\n",
       " '014065-1',\n",
       " '001027-8',\n",
       " '004471-7',\n",
       " '002141-5',\n",
       " '022032-9',\n",
       " '015072-0',\n",
       " '004339-7',\n",
       " '023133-9',\n",
       " '005444-5',\n",
       " '025245-0',\n",
       " '021295-4',\n",
       " '004416-4',\n",
       " '017088-7',\n",
       " '005444-5',\n",
       " '004433-4',\n",
       " '004481-4',\n",
       " '014040-6',\n",
       " '001466-4',\n",
       " '004255-2',\n",
       " '001352-8',\n",
       " '005315-5',\n",
       " '005509-3',\n",
       " '001266-1',\n",
       " '005408-9',\n",
       " '015138-6',\n",
       " '005094-6',\n",
       " '002015-0',\n",
       " '016056-3',\n",
       " '014096-1',\n",
       " '004460-1',\n",
       " '017034-8',\n",
       " False,\n",
       " '005206-0',\n",
       " '004212-9',\n",
       " '001262-9',\n",
       " '003358-8',\n",
       " '001431-1',\n",
       " '003405-3',\n",
       " '004341-9',\n",
       " '002093-1',\n",
       " '025240-9',\n",
       " '003460-6',\n",
       " '005478-0',\n",
       " '001453-2',\n",
       " '001144-4',\n",
       " '001509-1',\n",
       " '024186-5',\n",
       " '023080-4',\n",
       " '024211-0',\n",
       " '004486-5',\n",
       " '015126-2',\n",
       " '004381-8',\n",
       " False,\n",
       " '005509-3',\n",
       " '002174-1',\n",
       " '001228-9',\n",
       " '003387-1',\n",
       " '004478-4',\n",
       " '015153-0',\n",
       " '005280-9',\n",
       " '025183-6',\n",
       " '023092-8',\n",
       " '004370-2',\n",
       " '005435-6',\n",
       " '024211-0',\n",
       " '002111-3',\n",
       " '025262-0',\n",
       " '003438-0',\n",
       " '002143-1',\n",
       " '022164-3',\n",
       " '014066-0',\n",
       " '005510-7',\n",
       " '003412-6',\n",
       " '005240-0',\n",
       " '001424-9',\n",
       " '005479-8',\n",
       " '005230-2',\n",
       " '003454-1',\n",
       " '003461-4',\n",
       " '008192-2',\n",
       " '003145-3',\n",
       " '004020-7',\n",
       " '001525-3',\n",
       " '015088-6',\n",
       " '015100-9',\n",
       " '005526-3',\n",
       " '005459-3',\n",
       " '004343-5',\n",
       " '021162-1',\n",
       " '003363-4',\n",
       " '001266-1',\n",
       " '004486-5',\n",
       " '009145-6',\n",
       " '004369-9',\n",
       " '022121-0',\n",
       " '005410-0',\n",
       " '022075-2',\n",
       " '003408-8',\n",
       " '004424-5',\n",
       " '005230-2',\n",
       " '005384-8',\n",
       " '025160-7',\n",
       " '014075-9',\n",
       " '005225-6',\n",
       " '003325-1',\n",
       " '002112-1',\n",
       " '025246-8',\n",
       " '025082-1',\n",
       " '023155-0',\n",
       " '025144-5',\n",
       " '015072-0',\n",
       " '005348-1',\n",
       " '003408-8',\n",
       " '022126-0',\n",
       " '011130-9',\n",
       " '003413-4',\n",
       " '003421-5',\n",
       " '014086-4',\n",
       " '004516-0',\n",
       " '004333-8',\n",
       " '017046-1',\n",
       " '025300-6',\n",
       " '005477-1',\n",
       " '004321-4',\n",
       " '003270-0',\n",
       " ...]"
      ]
     },
     "execution_count": 40,
     "metadata": {},
     "output_type": "execute_result"
    }
   ],
   "source": [
    "lista = [fipe['CodigoFipe'].loc[fipe.Modelo == x.replace('/', '\\/')].values.any() for x in df['versao'].replace(convert_list3)]\n",
    "lista"
   ]
  },
  {
   "cell_type": "code",
   "execution_count": 41,
   "metadata": {},
   "outputs": [
    {
     "data": {
      "text/plain": [
       "356"
      ]
     },
     "execution_count": 41,
     "metadata": {},
     "output_type": "execute_result"
    }
   ],
   "source": [
    "df['versao'].loc[list(pd.Series(lista) == False)].replace(convert_list3).value_counts().sum()"
   ]
  },
  {
   "cell_type": "code",
   "execution_count": 42,
   "metadata": {},
   "outputs": [],
   "source": [
    "df['fipe'] = lista"
   ]
  },
  {
   "cell_type": "code",
   "execution_count": 43,
   "metadata": {},
   "outputs": [
    {
     "data": {
      "text/html": [
       "<div>\n",
       "<style scoped>\n",
       "    .dataframe tbody tr th:only-of-type {\n",
       "        vertical-align: middle;\n",
       "    }\n",
       "\n",
       "    .dataframe tbody tr th {\n",
       "        vertical-align: top;\n",
       "    }\n",
       "\n",
       "    .dataframe thead th {\n",
       "        text-align: right;\n",
       "    }\n",
       "</style>\n",
       "<table border=\"1\" class=\"dataframe\">\n",
       "  <thead>\n",
       "    <tr style=\"text-align: right;\">\n",
       "      <th></th>\n",
       "      <th>versao</th>\n",
       "      <th>price</th>\n",
       "      <th>fipe</th>\n",
       "    </tr>\n",
       "    <tr>\n",
       "      <th>Id</th>\n",
       "      <th></th>\n",
       "      <th></th>\n",
       "      <th></th>\n",
       "    </tr>\n",
       "  </thead>\n",
       "  <tbody>\n",
       "    <tr>\n",
       "      <th>1</th>\n",
       "      <td>207 SW XR 14 FLEX 8V 5P</td>\n",
       "      <td>23900</td>\n",
       "      <td>024152-0</td>\n",
       "    </tr>\n",
       "    <tr>\n",
       "      <th>2</th>\n",
       "      <td>COMPASS LONG TD 350 20 4X4 DIESEL AUT</td>\n",
       "      <td>212990</td>\n",
       "      <td>017075-5</td>\n",
       "    </tr>\n",
       "    <tr>\n",
       "      <th>3</th>\n",
       "      <td>TORO VOLCANO 20 16V 4X4 TB DIESEL AUT</td>\n",
       "      <td>137990</td>\n",
       "      <td>001453-2</td>\n",
       "    </tr>\n",
       "    <tr>\n",
       "      <th>4</th>\n",
       "      <td>SANDERO STEPWAY HI-FLEX 16 16V 5P AUT</td>\n",
       "      <td>37000</td>\n",
       "      <td>025187-9</td>\n",
       "    </tr>\n",
       "    <tr>\n",
       "      <th>5</th>\n",
       "      <td>ASTRA ADVANTAGE 20 MPFI 8V FLEXPOWER 5P</td>\n",
       "      <td>24990</td>\n",
       "      <td>004328-1</td>\n",
       "    </tr>\n",
       "    <tr>\n",
       "      <th>...</th>\n",
       "      <td>...</td>\n",
       "      <td>...</td>\n",
       "      <td>...</td>\n",
       "    </tr>\n",
       "    <tr>\n",
       "      <th>14752</th>\n",
       "      <td>ECOSPORT SE 15 12V FLEX 5P AUT</td>\n",
       "      <td>84900</td>\n",
       "      <td>003440-1</td>\n",
       "    </tr>\n",
       "    <tr>\n",
       "      <th>14753</th>\n",
       "      <td>SAMURAI JX CANVAS 13</td>\n",
       "      <td>48000</td>\n",
       "      <td>028001-1</td>\n",
       "    </tr>\n",
       "    <tr>\n",
       "      <th>14754</th>\n",
       "      <td>SLK-250 CGI 18 16V 204CV AUT</td>\n",
       "      <td>190000</td>\n",
       "      <td>021254-7</td>\n",
       "    </tr>\n",
       "    <tr>\n",
       "      <th>14755</th>\n",
       "      <td>CLASSIC LIFE/LS 10 VHC FLEXP 4P</td>\n",
       "      <td>27000</td>\n",
       "      <td>004360-5</td>\n",
       "    </tr>\n",
       "    <tr>\n",
       "      <th>14756</th>\n",
       "      <td>UP! TAKE 10 TOTAL FLEX 12V 5P</td>\n",
       "      <td>39000</td>\n",
       "      <td>005365-1</td>\n",
       "    </tr>\n",
       "  </tbody>\n",
       "</table>\n",
       "<p>13378 rows × 3 columns</p>\n",
       "</div>"
      ],
      "text/plain": [
       "                                        versao   price      fipe\n",
       "Id                                                              \n",
       "1                      207 SW XR 14 FLEX 8V 5P   23900  024152-0\n",
       "2        COMPASS LONG TD 350 20 4X4 DIESEL AUT  212990  017075-5\n",
       "3        TORO VOLCANO 20 16V 4X4 TB DIESEL AUT  137990  001453-2\n",
       "4        SANDERO STEPWAY HI-FLEX 16 16V 5P AUT   37000  025187-9\n",
       "5      ASTRA ADVANTAGE 20 MPFI 8V FLEXPOWER 5P   24990  004328-1\n",
       "...                                        ...     ...       ...\n",
       "14752           ECOSPORT SE 15 12V FLEX 5P AUT   84900  003440-1\n",
       "14753                     SAMURAI JX CANVAS 13   48000  028001-1\n",
       "14754             SLK-250 CGI 18 16V 204CV AUT  190000  021254-7\n",
       "14755          CLASSIC LIFE/LS 10 VHC FLEXP 4P   27000  004360-5\n",
       "14756            UP! TAKE 10 TOTAL FLEX 12V 5P   39000  005365-1\n",
       "\n",
       "[13378 rows x 3 columns]"
      ]
     },
     "execution_count": 43,
     "metadata": {},
     "output_type": "execute_result"
    }
   ],
   "source": [
    "df[['versao', 'price', 'fipe']]"
   ]
  },
  {
   "cell_type": "code",
   "execution_count": 44,
   "metadata": {},
   "outputs": [],
   "source": [
    "def valorFipe(row):\n",
    "    cod = row[0]\n",
    "    ano = int(row[1][:4])\n",
    "    anos = np.sort(fipe.AnoModelo.loc[fipe.CodigoFipe == cod])\n",
    "    if anos.size == 0:\n",
    "        return None\n",
    "    \n",
    "    #ano = anos[np.abs(anos - ano).argmin()]\n",
    "    return fipe.Valor.loc[(fipe.CodigoFipe == cod)&(fipe.AnoModelo == ano)].values.any()"
   ]
  },
  {
   "cell_type": "code",
   "execution_count": 45,
   "metadata": {},
   "outputs": [],
   "source": [
    "df['valorFipe'] = df[['fipe', 'regdate']].apply(valorFipe, axis=1)"
   ]
  },
  {
   "cell_type": "code",
   "execution_count": 46,
   "metadata": {},
   "outputs": [
    {
     "data": {
      "text/plain": [
       "Id\n",
       "1         23577\n",
       "2        214298\n",
       "3        136474\n",
       "4         38502\n",
       "5         33836\n",
       "          ...  \n",
       "14752     78462\n",
       "14753     17937\n",
       "14754    182218\n",
       "14755     28869\n",
       "14756     38985\n",
       "Name: valorFipe, Length: 13378, dtype: object"
      ]
     },
     "execution_count": 46,
     "metadata": {},
     "output_type": "execute_result"
    }
   ],
   "source": [
    "df['valorFipe']"
   ]
  },
  {
   "cell_type": "code",
   "execution_count": 47,
   "metadata": {},
   "outputs": [],
   "source": [
    "#remover versoes não encontradas no Fipe\n",
    "df = df.loc[df.valorFipe.notna()]\n",
    "df.loc[:,'valorFipe'] = df['valorFipe'].astype(int)\n",
    "df = df.loc[df.valorFipe >100]"
   ]
  },
  {
   "cell_type": "code",
   "execution_count": 48,
   "metadata": {},
   "outputs": [
    {
     "data": {
      "text/plain": [
       "<AxesSubplot:>"
      ]
     },
     "execution_count": 48,
     "metadata": {},
     "output_type": "execute_result"
    },
    {
     "data": {
      "image/png": "[encoded data removed]",
      "text/plain": [
       "<Figure size 1080x648 with 1 Axes>"
      ]
     },
     "metadata": {},
     "output_type": "display_data"
    }
   ],
   "source": [
    "#Valor do Fipe comparado ao preço do anuncio\n",
    "sns.distplot((df.price - df.valorFipe), bins=100)"
   ]
  },
  {
   "cell_type": "code",
   "execution_count": 49,
   "metadata": {},
   "outputs": [
    {
     "data": {
      "text/plain": [
       "Id\n",
       "1        \"CARRO EM EXCELENTE ESTADO TUDO FUNCIONANDO.&l...\n",
       "2        \"JEEP COMPASS LONGITUDE TD350 DIESEL!&lt;br&gt...\n",
       "3        \"FIAT TORO VOLCANO DIESEL 4X4 !&lt;br&gt;COMPL...\n",
       "4                         \"Carro em ótimo estado, 2 dono.\"\n",
       "5        \"Whatsapp - (51) 99359.1000&lt;br&gt;&lt;br&gt...\n",
       "                               ...                        \n",
       "14752    \"Procedência, confiança e qualidade é na Pinho...\n",
       "14753    \"Gaiola a venda&lt;br&gt;Carroceria samurai 92...\n",
       "14754    \"MERCEDES SLK 250 2012, 60 MIL KM, REVISÃO FEI...\n",
       "14755    \"Aceito propostas por carro ano mais novo mais...\n",
       "14756    \"VW Up take 1.0 total flex &lt;br&gt;2014/2015...\n",
       "Name: addesc, Length: 11863, dtype: object"
      ]
     },
     "execution_count": 49,
     "metadata": {},
     "output_type": "execute_result"
    }
   ],
   "source": [
    "df.addesc"
   ]
  },
  {
   "cell_type": "code",
   "execution_count": 50,
   "metadata": {},
   "outputs": [
    {
     "name": "stderr",
     "output_type": "stream",
     "text": [
      "[nltk_data] Downloading package stopwords to\n",
      "[nltk_data]     /home/lorenzovaralo/nltk_data...\n",
      "[nltk_data]   Package stopwords is already up-to-date!\n"
     ]
    }
   ],
   "source": [
    "nltk.download('stopwords')\n",
    "sw = nltk.corpus.stopwords.words('portuguese')"
   ]
  },
  {
   "cell_type": "code",
   "execution_count": 51,
   "metadata": {},
   "outputs": [
    {
     "data": {
      "text/plain": [
       "ar             5949\n",
       "carro          5604\n",
       "troca          4231\n",
       "direção        3952\n",
       "x              3808\n",
       "               ... \n",
       "inclusa          11\n",
       "ilustrativa      11\n",
       "zf               11\n",
       "pinhais          11\n",
       "all              11\n",
       "Length: 3089, dtype: int64"
      ]
     },
     "execution_count": 51,
     "metadata": {},
     "output_type": "execute_result"
    }
   ],
   "source": [
    "words = []\n",
    "\n",
    "#data = df.loc[(df.price/df.valorFipe)> 1.4]\n",
    "data = df.iloc[:,:]\n",
    "\n",
    "for i in range(0,data.__len__()):\n",
    "    txt = data.addesc.iloc[i]\n",
    "    pattern = regex.compile(r'[^\\p{L}]+', re.UNICODE)\n",
    "    txt = pattern.sub(' ', txt).strip().lower()\n",
    "    tokens = nltk.tokenize.word_tokenize(txt, language='portuguese')\n",
    "    tokens = [x for x in tokens if x not in sw + ['br', 'gt', 'lt']]\n",
    "    words.extend(tokens)\n",
    "    \n",
    "words = pd.Series(words)\n",
    "word_list = words.value_counts().loc[words.value_counts() >10].index.to_list()\n",
    "words.value_counts().loc[words.value_counts() >10]"
   ]
  },
  {
   "cell_type": "code",
   "execution_count": 52,
   "metadata": {},
   "outputs": [
    {
     "name": "stdout",
     "output_type": "stream",
     "text": [
      "9137 \n",
      "\n",
      "False\n"
     ]
    }
   ],
   "source": [
    "rand = np.random.randint(0, 11500)\n",
    "\n",
    "txt = df.addesc.iloc[rand]\n",
    "\n",
    "pattern = regex.compile(r'[^\\p{L}]+', re.UNICODE)\n",
    "\n",
    "txt = pattern.sub(' ', txt).strip().lower()\n",
    "\n",
    "tokens = nltk.tokenize.word_tokenize(txt, language='portuguese')\n",
    "\n",
    "tokens = [x for x in tokens if x not in sw + ['br', 'gt', 'lt']]\n",
    "print(rand, '\\n')\n",
    "print('ar' in tokens)"
   ]
  },
  {
   "cell_type": "code",
   "execution_count": 53,
   "metadata": {},
   "outputs": [
    {
     "data": {
      "text/plain": [
       "'\"2003&lt;br&gt;2.0&lt;br&gt;Muito inteira!&lt;br&gt;Motor precisa retificar e está removido.\"'"
      ]
     },
     "execution_count": 53,
     "metadata": {},
     "output_type": "execute_result"
    }
   ],
   "source": [
    "df.addesc.iloc[rand]"
   ]
  },
  {
   "cell_type": "code",
   "execution_count": 54,
   "metadata": {},
   "outputs": [
    {
     "data": {
      "text/plain": [
       "Id\n",
       "11841    0.101810\n",
       "14084    0.216357\n",
       "10785    0.233028\n",
       "14685    0.237361\n",
       "8295     0.238221\n",
       "           ...   \n",
       "14714    0.439928\n",
       "5012     0.442321\n",
       "7353     0.444620\n",
       "9700     0.461042\n",
       "10863    0.461924\n",
       "Length: 50, dtype: float64"
      ]
     },
     "execution_count": 54,
     "metadata": {},
     "output_type": "execute_result"
    }
   ],
   "source": [
    "(df.price / df.valorFipe).sort_values().iloc[:50:1]"
   ]
  },
  {
   "cell_type": "code",
   "execution_count": 55,
   "metadata": {},
   "outputs": [
    {
     "data": {
      "text/html": [
       "<div>\n",
       "<style scoped>\n",
       "    .dataframe tbody tr th:only-of-type {\n",
       "        vertical-align: middle;\n",
       "    }\n",
       "\n",
       "    .dataframe tbody tr th {\n",
       "        vertical-align: top;\n",
       "    }\n",
       "\n",
       "    .dataframe thead th {\n",
       "        text-align: right;\n",
       "    }\n",
       "</style>\n",
       "<table border=\"1\" class=\"dataframe\">\n",
       "  <thead>\n",
       "    <tr style=\"text-align: right;\">\n",
       "      <th></th>\n",
       "      <th>vehicle_model</th>\n",
       "      <th>regdate</th>\n",
       "      <th>price</th>\n",
       "      <th>valorFipe</th>\n",
       "      <th>pro_vendor</th>\n",
       "    </tr>\n",
       "    <tr>\n",
       "      <th>Id</th>\n",
       "      <th></th>\n",
       "      <th></th>\n",
       "      <th></th>\n",
       "      <th></th>\n",
       "      <th></th>\n",
       "    </tr>\n",
       "  </thead>\n",
       "  <tbody>\n",
       "    <tr>\n",
       "      <th>3575</th>\n",
       "      <td>MERCEDES-BENZ CLASSE A 160 CLASSIC/ SPIRIT MEC.</td>\n",
       "      <td>2003</td>\n",
       "      <td>7500</td>\n",
       "      <td>15052</td>\n",
       "      <td>1</td>\n",
       "    </tr>\n",
       "  </tbody>\n",
       "</table>\n",
       "</div>"
      ],
      "text/plain": [
       "                                        vehicle_model regdate  price  valorFipe  pro_vendor\n",
       "Id                                                                                         \n",
       "3575  MERCEDES-BENZ CLASSE A 160 CLASSIC/ SPIRIT MEC.    2003   7500      15052           1"
      ]
     },
     "execution_count": 55,
     "metadata": {},
     "output_type": "execute_result"
    }
   ],
   "source": [
    "ind = 3575\n",
    "df[['vehicle_model', 'regdate', 'price', 'valorFipe', 'pro_vendor']].loc[df.index == ind]"
   ]
  },
  {
   "cell_type": "code",
   "execution_count": 56,
   "metadata": {},
   "outputs": [
    {
     "data": {
      "text/plain": [
       "'\"Mercedes Classe A 160 2003 - REPASSE - BARBADA&lt;br&gt;&lt;br&gt;&lt;br&gt;-documentação em dia, placa nova&lt;br&gt;-direção hidráulica&lt;br&gt;-ar condicionao a revisar&lt;br&gt;-vidros elétricos&lt;br&gt;-alarme&lt;br&gt;-travas elétricas&lt;br&gt;&lt;br&gt;Veículo de repasse no estado que se encontra, esta funciando, bate chave e sai andando! Documentação em dia, dut em branco, transfere na hora.&lt;br&gt;&lt;br&gt;VENDO BEM BEM ABAIXO DA FIPE QUE ESTA 15 MIL.&lt;br&gt;&lt;br&gt;Veículo com detalhes a fazer se quiser e quando puder!&lt;br&gt;&lt;br&gt;Entre em contato e saiba os detalhes&lt;br&gt;51-99133.4000&lt;br&gt;51-99395.7993&lt;br&gt;&lt;br&gt;Fins de pesquisa:&lt;br&gt;peugeot cc 307 308 206 207 208 408 3008 sw xr xrs allure griffe feline citroen c3 c4 c5 c4 pallas c4 vtr lounge picasso aircross ds3 exclusive honda new civic city fit crv corolla fielder rav4 etios hyundai azera i30 tucson santa fé sonata ix35 hb20 elantra veloster i30 sw kia sportage cadenza soul sorento picanto cerato renault clio duster fluence logan mégane scénic sandero symbol clio audi ford focus fiesta ecosport fusion ka bmw sentra tiida livina versa frontier march gol polo parati fox crossfox jetta golf saveiro spacefox voyage spacecross polo sedan gol palio punto idea stilo strada 500 doblo siena palio weekend linea uno adventure sporting vivace grand siena absolute essence hlx t-jet, celta cruze astra vectra captiva corsa cobalt classic agile zafira meriva spin lt ltz sonic onix maxx . s10 cherry face tiggo locker cbr 600 900 1000 r1 r6 a1 a3 a4 a6 a5 q5 q3 cayenne x6 x5 x1 x3 porsche ix35 montana xt660 camaro titan cg150 honda yamaha s1000rr bmw 320 530 323 330 mercedes ml falcon fazer cruze mustang pajero full jetta jetski jet ski moto barbada torro sandero clio s10 ranger amarok suv frontier,308 206 207 208 408 3008 sw xr xrs allure griffe feline citroen c3 c4 c5 c4 pallas c4 vtr lounge picasso aircross ds3 exclusive honda new civic city fit crv corolla fielder rav4 etios hyundai azera i30 tucson santa fé sonata ix35 hb20 elantra veloster i30 sw kia sportage cadenza soul sorento picanto cerato renault clio duster fluence logan mégane scénic sandero symbol clio audi ford focus fiesta ecosport fusion ka bmw sentra tiida livina versa frontier march gol polo parati fox crossfox jetta golf saveiro spacefox voyage spacecross polo sedan gol palio punto idea stilo strada 500 doblo siena palio weekend linea uno adventure sporting vivace grand siena absolute essence hlx t-jet, celta cruze astra vectra captiva corsa cobalt classic agile zafira meriva spin lt ltz sonic onix maxx . s10 cherry ranger uber app aplicativo 99 pop strada j6 j3 j5 j7 j2 j1 j4 troller trilha utilitario terra agua mar barro\"'"
      ]
     },
     "execution_count": 56,
     "metadata": {},
     "output_type": "execute_result"
    }
   ],
   "source": [
    "df['addesc'].loc[df.index == ind].iloc[0]"
   ]
  },
  {
   "cell_type": "code",
   "execution_count": 57,
   "metadata": {},
   "outputs": [
    {
     "name": "stdout",
     "output_type": "stream",
     "text": [
      "Mercedes Classe A 160 2003, cambio manual, documento em dia, bem baixo da fipe, Barbada \n"
     ]
    }
   ],
   "source": [
    "print(df.titulo.loc[df.index == ind].iloc[0])"
   ]
  },
  {
   "cell_type": "code",
   "execution_count": 58,
   "metadata": {},
   "outputs": [
    {
     "data": {
      "text/plain": [
       "Id\n",
       "3575    994870044\n",
       "Name: listId, dtype: int64"
      ]
     },
     "execution_count": 58,
     "metadata": {},
     "output_type": "execute_result"
    }
   ],
   "source": [
    "df.listId.loc[df.index == ind]"
   ]
  },
  {
   "cell_type": "code",
   "execution_count": 59,
   "metadata": {},
   "outputs": [
    {
     "data": {
      "text/plain": [
       "'\"Raro exemplar, mecânica impecável, pegar e andar, ótimo para projeto, passeios e coleção.&lt;br&gt;&lt;br&gt;Só estou vendendo porque comprei um MX3 V6 para projeto.&lt;br&gt;&lt;br&gt;Dispenso curiosos e aceito propostas &lt;br&gt;&lt;br&gt;Carro econômico e com peças novas  amplamente disponíveis no ML ( salvo lataria )&lt;br&gt;&lt;br&gt;#Mazda #JDM #PocketRocket #gearhead\"'"
      ]
     },
     "execution_count": 59,
     "metadata": {},
     "output_type": "execute_result"
    }
   ],
   "source": [
    "df.addesc.loc[(df.addesc.str.lower().str.find('peça')>-1)].iloc[0]"
   ]
  },
  {
   "cell_type": "code",
   "execution_count": 60,
   "metadata": {},
   "outputs": [
    {
     "data": {
      "text/html": [
       "<div>\n",
       "<style scoped>\n",
       "    .dataframe tbody tr th:only-of-type {\n",
       "        vertical-align: middle;\n",
       "    }\n",
       "\n",
       "    .dataframe tbody tr th {\n",
       "        vertical-align: top;\n",
       "    }\n",
       "\n",
       "    .dataframe thead th {\n",
       "        text-align: right;\n",
       "    }\n",
       "</style>\n",
       "<table border=\"1\" class=\"dataframe\">\n",
       "  <thead>\n",
       "    <tr style=\"text-align: right;\">\n",
       "      <th></th>\n",
       "      <th>listId</th>\n",
       "      <th>sellerName</th>\n",
       "      <th>adDate</th>\n",
       "      <th>price</th>\n",
       "      <th>ddd</th>\n",
       "      <th>brand</th>\n",
       "      <th>model</th>\n",
       "      <th>versao</th>\n",
       "      <th>gearbox</th>\n",
       "      <th>titulo</th>\n",
       "      <th>region</th>\n",
       "      <th>vehicle_model</th>\n",
       "      <th>cartype</th>\n",
       "      <th>regdate</th>\n",
       "      <th>mileage</th>\n",
       "      <th>motorpower</th>\n",
       "      <th>fuel</th>\n",
       "      <th>car_steering</th>\n",
       "      <th>carcolor</th>\n",
       "      <th>doors</th>\n",
       "      <th>end_tag</th>\n",
       "      <th>extra</th>\n",
       "      <th>addesc</th>\n",
       "      <th>pro_vendor</th>\n",
       "      <th>fipe</th>\n",
       "      <th>valorFipe</th>\n",
       "    </tr>\n",
       "    <tr>\n",
       "      <th>Id</th>\n",
       "      <th></th>\n",
       "      <th></th>\n",
       "      <th></th>\n",
       "      <th></th>\n",
       "      <th></th>\n",
       "      <th></th>\n",
       "      <th></th>\n",
       "      <th></th>\n",
       "      <th></th>\n",
       "      <th></th>\n",
       "      <th></th>\n",
       "      <th></th>\n",
       "      <th></th>\n",
       "      <th></th>\n",
       "      <th></th>\n",
       "      <th></th>\n",
       "      <th></th>\n",
       "      <th></th>\n",
       "      <th></th>\n",
       "      <th></th>\n",
       "      <th></th>\n",
       "      <th></th>\n",
       "      <th></th>\n",
       "      <th></th>\n",
       "      <th></th>\n",
       "      <th></th>\n",
       "    </tr>\n",
       "  </thead>\n",
       "  <tbody>\n",
       "    <tr>\n",
       "      <th>8295</th>\n",
       "      <td>989427730</td>\n",
       "      <td>Dudu</td>\n",
       "      <td>1970-01-19 23:30:59</td>\n",
       "      <td>19900</td>\n",
       "      <td>51</td>\n",
       "      <td>PORSCHE</td>\n",
       "      <td>CAYENNE</td>\n",
       "      <td>CAYENNE S 45/48</td>\n",
       "      <td>Automático</td>\n",
       "      <td>PORSCHE CAYENNE | VENDER EM PEÇAS</td>\n",
       "      <td>Porto Alegre e região</td>\n",
       "      <td>PORSCHE CAYENNE S 4.5/4.8</td>\n",
       "      <td>SUV</td>\n",
       "      <td>2006</td>\n",
       "      <td>1000</td>\n",
       "      <td>4.0 ou mais</td>\n",
       "      <td>Gasolina</td>\n",
       "      <td>None</td>\n",
       "      <td>Preto</td>\n",
       "      <td>4 portas</td>\n",
       "      <td>3</td>\n",
       "      <td>None</td>\n",
       "      <td>\"Cayenne S&amp;lt;br&amp;gt;&amp;lt;br&amp;gt;Ela está sem mot...</td>\n",
       "      <td>1</td>\n",
       "      <td>035024-9</td>\n",
       "      <td>83536</td>\n",
       "    </tr>\n",
       "    <tr>\n",
       "      <th>8776</th>\n",
       "      <td>1023565683</td>\n",
       "      <td>Rogerio Schneider</td>\n",
       "      <td>1970-01-19 23:30:49</td>\n",
       "      <td>3000</td>\n",
       "      <td>51</td>\n",
       "      <td>VW - VOLKSWAGEN</td>\n",
       "      <td>GOL</td>\n",
       "      <td>GOL 1000 (MODELO ANTIGO)</td>\n",
       "      <td>None</td>\n",
       "      <td>Troca gol 1.0 93 CHT por caiaque de pesca ou M...</td>\n",
       "      <td>Porto Alegre e região</td>\n",
       "      <td>VW - VOLKSWAGEN GOL 1000 (MODELO ANTIGO)</td>\n",
       "      <td>None</td>\n",
       "      <td>1993</td>\n",
       "      <td>7777</td>\n",
       "      <td>1.0</td>\n",
       "      <td>Gasolina</td>\n",
       "      <td>None</td>\n",
       "      <td>None</td>\n",
       "      <td>2 portas</td>\n",
       "      <td>7</td>\n",
       "      <td>None</td>\n",
       "      <td>\"Troco gol 1.0 93 doc em dia dut em branco por...</td>\n",
       "      <td>0</td>\n",
       "      <td>005028-8</td>\n",
       "      <td>10510</td>\n",
       "    </tr>\n",
       "    <tr>\n",
       "      <th>10785</th>\n",
       "      <td>1024103895</td>\n",
       "      <td>Raila</td>\n",
       "      <td>1970-01-19 23:33:10</td>\n",
       "      <td>3000</td>\n",
       "      <td>51</td>\n",
       "      <td>VW - VOLKSWAGEN</td>\n",
       "      <td>PARATI</td>\n",
       "      <td>PARATI CLI / CL/ ATLANTA 18</td>\n",
       "      <td>Manual</td>\n",
       "      <td>Carro Parati</td>\n",
       "      <td>Porto Alegre e região</td>\n",
       "      <td>VW - VOLKSWAGEN PARATI CLI / CL/ ATLANTA 1.8</td>\n",
       "      <td>None</td>\n",
       "      <td>1992</td>\n",
       "      <td>200000</td>\n",
       "      <td>1.8</td>\n",
       "      <td>Álcool</td>\n",
       "      <td>Hidráulica</td>\n",
       "      <td>Vermelho</td>\n",
       "      <td>4 portas</td>\n",
       "      <td>4</td>\n",
       "      <td>None</td>\n",
       "      <td>\"Vendo Parati Cl ano 1992&amp;lt;br&amp;gt;Carro usand...</td>\n",
       "      <td>0</td>\n",
       "      <td>005049-0</td>\n",
       "      <td>12874</td>\n",
       "    </tr>\n",
       "    <tr>\n",
       "      <th>11841</th>\n",
       "      <td>1026018982</td>\n",
       "      <td>momoveiculos</td>\n",
       "      <td>1970-01-19 23:39:25</td>\n",
       "      <td>5490</td>\n",
       "      <td>51</td>\n",
       "      <td>FORD</td>\n",
       "      <td>ECOSPORT</td>\n",
       "      <td>ECOSPORT FREESTYLE 16 16V FLEX 5P</td>\n",
       "      <td>Manual</td>\n",
       "      <td>Ford Ecosport Freestyle 1.6 16v</td>\n",
       "      <td>Porto Alegre e região</td>\n",
       "      <td>FORD ECOSPORT FREESTYLE 1.6 16V FLEX 5P</td>\n",
       "      <td>SUV</td>\n",
       "      <td>2013</td>\n",
       "      <td>140000</td>\n",
       "      <td>1.6</td>\n",
       "      <td>Gás Natural</td>\n",
       "      <td>Elétrica</td>\n",
       "      <td>Vermelho</td>\n",
       "      <td>4 portas</td>\n",
       "      <td>None</td>\n",
       "      <td>vidro elétrico, air bag, trava elétrica, ar co...</td>\n",
       "      <td>\"Estou à venda !!!&amp;lt;br&amp;gt;?&amp;lt;br&amp;gt;Entrada...</td>\n",
       "      <td>1</td>\n",
       "      <td>003367-7</td>\n",
       "      <td>53924</td>\n",
       "    </tr>\n",
       "    <tr>\n",
       "      <th>14084</th>\n",
       "      <td>1027670381</td>\n",
       "      <td>gutopthomas</td>\n",
       "      <td>1970-01-19 23:45:25</td>\n",
       "      <td>12000</td>\n",
       "      <td>54</td>\n",
       "      <td>HYUNDAI</td>\n",
       "      <td>HB20X</td>\n",
       "      <td>HB20X STYLE 16 FLEX 16V MEC</td>\n",
       "      <td>Manual</td>\n",
       "      <td>Hb20x</td>\n",
       "      <td>Caxias do Sul e região</td>\n",
       "      <td>HYUNDAI HB20X STYLE 1.6 FLEX 16V MEC.</td>\n",
       "      <td>Sedã</td>\n",
       "      <td>2015</td>\n",
       "      <td>147000</td>\n",
       "      <td>1.6</td>\n",
       "      <td>Flex</td>\n",
       "      <td>Hidráulica</td>\n",
       "      <td>Branco</td>\n",
       "      <td>4 portas</td>\n",
       "      <td>6</td>\n",
       "      <td>vidro elétrico, air bag, trava elétrica, ar co...</td>\n",
       "      <td>\"HB 20 X Style ano 2015 motor 1.6 cambio mecân...</td>\n",
       "      <td>0</td>\n",
       "      <td>015094-0</td>\n",
       "      <td>55464</td>\n",
       "    </tr>\n",
       "    <tr>\n",
       "      <th>14685</th>\n",
       "      <td>1028579869</td>\n",
       "      <td>sadi galvao</td>\n",
       "      <td>1970-01-19 23:48:18</td>\n",
       "      <td>8000</td>\n",
       "      <td>51</td>\n",
       "      <td>RENAULT</td>\n",
       "      <td>SANDERO</td>\n",
       "      <td>SANDERO AUTHENTIQUE HI-POWER 10 16V 5P</td>\n",
       "      <td>Manual</td>\n",
       "      <td>Sucata Sandero 2015  aceito proposta .</td>\n",
       "      <td>Porto Alegre e região</td>\n",
       "      <td>RENAULT SANDERO AUTHENTIQUE HI-POWER 1.0 16V 5P</td>\n",
       "      <td>Hatch</td>\n",
       "      <td>2015</td>\n",
       "      <td>120000</td>\n",
       "      <td>1.0</td>\n",
       "      <td>Flex</td>\n",
       "      <td>Hidráulica</td>\n",
       "      <td>Branco</td>\n",
       "      <td>4 portas</td>\n",
       "      <td>7</td>\n",
       "      <td>None</td>\n",
       "      <td>\"Vende=se sucata  Sandero Ano 2015 Branco .&amp;lt...</td>\n",
       "      <td>1</td>\n",
       "      <td>025216-6</td>\n",
       "      <td>33704</td>\n",
       "    </tr>\n",
       "  </tbody>\n",
       "</table>\n",
       "</div>"
      ],
      "text/plain": [
       "           listId         sellerName               adDate  price ddd            brand     model                                  versao     gearbox                                             titulo                  region                                    vehicle_model cartype regdate  mileage   motorpower         fuel car_steering  carcolor     doors end_tag                                              extra                                             addesc  pro_vendor      fipe  valorFipe\n",
       "Id                                                                                                                                                                                                                                                                                                                                                                                                                                                                                                                \n",
       "8295    989427730               Dudu  1970-01-19 23:30:59  19900  51          PORSCHE   CAYENNE                         CAYENNE S 45/48  Automático                  PORSCHE CAYENNE | VENDER EM PEÇAS   Porto Alegre e região                        PORSCHE CAYENNE S 4.5/4.8     SUV    2006     1000  4.0 ou mais     Gasolina         None     Preto  4 portas       3                                               None  \"Cayenne S&lt;br&gt;&lt;br&gt;Ela está sem mot...           1  035024-9      83536\n",
       "8776   1023565683  Rogerio Schneider  1970-01-19 23:30:49   3000  51  VW - VOLKSWAGEN       GOL                GOL 1000 (MODELO ANTIGO)        None  Troca gol 1.0 93 CHT por caiaque de pesca ou M...   Porto Alegre e região         VW - VOLKSWAGEN GOL 1000 (MODELO ANTIGO)    None    1993     7777          1.0     Gasolina         None      None  2 portas       7                                               None  \"Troco gol 1.0 93 doc em dia dut em branco por...           0  005028-8      10510\n",
       "10785  1024103895              Raila  1970-01-19 23:33:10   3000  51  VW - VOLKSWAGEN    PARATI             PARATI CLI / CL/ ATLANTA 18      Manual                                       Carro Parati   Porto Alegre e região     VW - VOLKSWAGEN PARATI CLI / CL/ ATLANTA 1.8    None    1992   200000          1.8       Álcool   Hidráulica  Vermelho  4 portas       4                                               None  \"Vendo Parati Cl ano 1992&lt;br&gt;Carro usand...           0  005049-0      12874\n",
       "11841  1026018982       momoveiculos  1970-01-19 23:39:25   5490  51             FORD  ECOSPORT       ECOSPORT FREESTYLE 16 16V FLEX 5P      Manual                   Ford Ecosport Freestyle 1.6 16v    Porto Alegre e região          FORD ECOSPORT FREESTYLE 1.6 16V FLEX 5P     SUV    2013   140000          1.6  Gás Natural     Elétrica  Vermelho  4 portas    None  vidro elétrico, air bag, trava elétrica, ar co...  \"Estou à venda !!!&lt;br&gt;?&lt;br&gt;Entrada...           1  003367-7      53924\n",
       "14084  1027670381        gutopthomas  1970-01-19 23:45:25  12000  54          HYUNDAI     HB20X             HB20X STYLE 16 FLEX 16V MEC      Manual                                             Hb20x   Caxias do Sul e região            HYUNDAI HB20X STYLE 1.6 FLEX 16V MEC.    Sedã    2015   147000          1.6         Flex   Hidráulica    Branco  4 portas       6  vidro elétrico, air bag, trava elétrica, ar co...  \"HB 20 X Style ano 2015 motor 1.6 cambio mecân...           0  015094-0      55464\n",
       "14685  1028579869        sadi galvao  1970-01-19 23:48:18   8000  51          RENAULT   SANDERO  SANDERO AUTHENTIQUE HI-POWER 10 16V 5P      Manual            Sucata Sandero 2015  aceito proposta .    Porto Alegre e região  RENAULT SANDERO AUTHENTIQUE HI-POWER 1.0 16V 5P   Hatch    2015   120000          1.0         Flex   Hidráulica    Branco  4 portas       7                                               None  \"Vende=se sucata  Sandero Ano 2015 Branco .&lt...           1  025216-6      33704"
      ]
     },
     "execution_count": 60,
     "metadata": {},
     "output_type": "execute_result"
    }
   ],
   "source": [
    "df.loc[(df.price/df.valorFipe)< 0.3]"
   ]
  },
  {
   "cell_type": "code",
   "execution_count": 61,
   "metadata": {},
   "outputs": [
    {
     "name": "stdout",
     "output_type": "stream",
     "text": [
      "restaurado     1.691528\n",
      "virabrequim    1.270033\n",
      "chevette       1.155906\n",
      "coletor        1.117881\n",
      "cabeçote       0.961138\n",
      "                 ...   \n",
      "procuração    -0.230150\n",
      "arrumar       -0.295211\n",
      "prestações    -0.330240\n",
      "assume        -0.333923\n",
      "assumir       -0.400892\n",
      "Length: 3089, dtype: float64\n"
     ]
    }
   ],
   "source": [
    "\"\"\"words = ['carro',\n",
    "'motor',\n",
    "'valor',\n",
    "'ok',\n",
    "'vendo',\n",
    "'fazer',\n",
    "'hora',\n",
    "'troca',\n",
    "'caixa',\n",
    "'fipe',\n",
    "'manual',\n",
    "'transfere',\n",
    "'branco',\n",
    "'bom',\n",
    "'entrada',\n",
    "'pneus',\n",
    "'ótimo',\n",
    "'pago',\n",
    "'abaixo',\n",
    "'peça',\n",
    "'por moto',\n",
    "'em moto',\n",
    "'precis',\n",
    "'docum',\n",
    "'troco',\n",
    "'bateria',\n",
    "'porém',\n",
    "'multa',\n",
    "'rodar',\n",
    "'acima',\n",
    "'reparo',\n",
    "' feito',\n",
    "'parad',\n",
    "'estado',\n",
    "'segundo',\n",
    "'barbada',\n",
    "'perfeito',\n",
    "'retirada',\n",
    "'queim',\n",
    "'sucata',\n",
    "'ofertas',\n",
    "'arrum',\n",
    "'coisa',\n",
    "'veículo',\n",
    "'ruim',\n",
    "'arranh',\n",
    "'ipva',\n",
    "'dinheiro',\n",
    "'novo',\n",
    "'nova',\n",
    "'vista',\n",
    "'rodas',\n",
    "'impec',\n",
    "'quero',\n",
    "'manual',\n",
    "'pneus',\n",
    "'bancos',\n",
    "'chave']\"\"\"\n",
    "\n",
    "words = word_list\n",
    "\n",
    "a = {}\n",
    "b = {}\n",
    "\n",
    "for w in words:\n",
    "    data = df.loc[df.addesc.str.lower().str.find(w)>-1]\n",
    "    a[w] = (data.price/data.valorFipe).mean() - 1.0409034276258113\n",
    "    b[w] = data.__len__()\n",
    "print(pd.Series(a).sort_values(ascending=False))"
   ]
  },
  {
   "cell_type": "code",
   "execution_count": 62,
   "metadata": {},
   "outputs": [],
   "source": [
    "c = pd.Series(a).sort_values().copy()"
   ]
  },
  {
   "cell_type": "code",
   "execution_count": 63,
   "metadata": {},
   "outputs": [
    {
     "data": {
      "text/plain": [
       "assumir       -0.400892\n",
       "assume        -0.333923\n",
       "prestações    -0.330240\n",
       "arrumar       -0.295211\n",
       "procuração    -0.230150\n",
       "                 ...   \n",
       "cabeçote       0.961138\n",
       "coletor        1.117881\n",
       "chevette       1.155906\n",
       "virabrequim    1.270033\n",
       "restaurado     1.691528\n",
       "Length: 3089, dtype: float64"
      ]
     },
     "execution_count": 63,
     "metadata": {},
     "output_type": "execute_result"
    }
   ],
   "source": [
    "c.loc[pd.Series(b).loc[c.index]>1]"
   ]
  },
  {
   "cell_type": "code",
   "execution_count": 64,
   "metadata": {},
   "outputs": [
    {
     "data": {
      "text/plain": [
       "assume          -0.333923\n",
       "desconto        -0.161210\n",
       "básico          -0.148154\n",
       "dívida          -0.146482\n",
       "repasse         -0.136914\n",
       "                   ...   \n",
       "funcionamento    0.538100\n",
       "opala            0.583314\n",
       "antigo           0.676970\n",
       "escort           0.697569\n",
       "verdade          0.722377\n",
       "Length: 557, dtype: float64"
      ]
     },
     "execution_count": 64,
     "metadata": {},
     "output_type": "execute_result"
    }
   ],
   "source": [
    "c = c.loc[((c<-0.05)|(c>0.05))&(pd.Series(b).loc[c.index]>20)]\n",
    "c"
   ]
  },
  {
   "cell_type": "code",
   "execution_count": 65,
   "metadata": {},
   "outputs": [
    {
     "name": "stdout",
     "output_type": "stream",
     "text": [
      "Index(['listId', 'sellerName', 'adDate', 'price', 'ddd', 'brand', 'model', 'versao', 'gearbox', 'titulo', 'region', 'vehicle_model', 'cartype', 'regdate', 'mileage', 'motorpower', 'fuel', 'car_steering', 'carcolor', 'doors', 'end_tag', 'extra', 'addesc', 'pro_vendor', 'fipe', 'valorFipe'], dtype='object')\n"
     ]
    },
    {
     "data": {
      "text/plain": [
       "Id\n",
       "1               None\n",
       "2                SUV\n",
       "3            Pick-up\n",
       "4              Hatch\n",
       "5               None\n",
       "            ...     \n",
       "14752            SUV\n",
       "14753        Passeio\n",
       "14754    Conversível\n",
       "14755           Sedã\n",
       "14756          Hatch\n",
       "Name: cartype, Length: 11863, dtype: object"
      ]
     },
     "execution_count": 65,
     "metadata": {},
     "output_type": "execute_result"
    }
   ],
   "source": [
    "print(df.columns)\n",
    "df.cartype"
   ]
  },
  {
   "cell_type": "code",
   "execution_count": 66,
   "metadata": {},
   "outputs": [
    {
     "data": {
      "text/plain": [
       "[<matplotlib.lines.Line2D at 0x7f2ca197d490>]"
      ]
     },
     "execution_count": 66,
     "metadata": {},
     "output_type": "execute_result"
    },
    {
     "data": {
      "image/png": "[encoded data removed]",
      "text/plain": [
       "<Figure size 1080x648 with 1 Axes>"
      ]
     },
     "metadata": {},
     "output_type": "display_data"
    }
   ],
   "source": [
    "# Quantidade de caractéres na descrição é relacionado com o preço/fipe,\n",
    "# Descrições menores = melhores ofertas , em boa parte dos casos\n",
    "x = np.arange(0.3,1.9, 0.01)\n",
    "relacao = (df.price/df.valorFipe)\n",
    "y = np.array([])\n",
    "for i in x:\n",
    "    y = np.append(y, df.addesc.str.len().loc[(relacao < i)&(relacao >(i-0.1))].mean())\n",
    "\n",
    "plt.plot(x,y)"
   ]
  },
  {
   "cell_type": "code",
   "execution_count": 67,
   "metadata": {},
   "outputs": [],
   "source": [
    "mldf = df.loc[:, ['brand', 'gearbox', 'regdate', 'mileage', 'motorpower', 'fuel', 'car_steering', 'doors', 'valorFipe', 'addesc']]"
   ]
  },
  {
   "cell_type": "code",
   "execution_count": 68,
   "metadata": {},
   "outputs": [
    {
     "data": {
      "text/plain": [
       "brand              0\n",
       "gearbox           73\n",
       "regdate            0\n",
       "mileage            0\n",
       "motorpower         0\n",
       "fuel             159\n",
       "car_steering    1606\n",
       "doors            525\n",
       "valorFipe          0\n",
       "addesc             0\n",
       "dtype: int64"
      ]
     },
     "execution_count": 68,
     "metadata": {},
     "output_type": "execute_result"
    }
   ],
   "source": [
    "mldf.isna().sum()"
   ]
  },
  {
   "cell_type": "code",
   "execution_count": 69,
   "metadata": {},
   "outputs": [
    {
     "data": {
      "text/plain": [
       "Id\n",
       "187                         SUZUKI GRAND VITARA 2.0 16V 3P\n",
       "261                           FIAT UNO MILLE  ELX  2P E 4P\n",
       "402      VW - VOLKSWAGEN JETTA HIGHLINE 2.0 TSI 16V 4P ...\n",
       "602                 HYUNDAI HB20 PREMIUM 1.6 FLEX 16V AUT.\n",
       "656      VW - VOLKSWAGEN GOL (NOVO) 1.0 MI TOTAL FLEX 8...\n",
       "                               ...                        \n",
       "13455                 FORD KA 1.0 SE/SE PLUS TIVCT FLEX 5P\n",
       "13457          FIAT UNO MILLE 1.0 FIRE/ F.FLEX/ ECONOMY 2P\n",
       "14200    VW - VOLKSWAGEN PASSAT HIGHLINE 2.0 TSI 220CV ...\n",
       "14292    GM - CHEVROLET AGILE LTZ 1.4 MPFI 8V FLEXPOWER 5P\n",
       "14635          FIAT UNO VIVACE CELEB. 1.0 EVO F.FLEX 8V 5P\n",
       "Name: vehicle_model, Length: 73, dtype: object"
      ]
     },
     "execution_count": 69,
     "metadata": {},
     "output_type": "execute_result"
    }
   ],
   "source": [
    "pd.options.display.width = 0\n",
    "df.vehicle_model.loc[df.gearbox.isna()]"
   ]
  },
  {
   "cell_type": "code",
   "execution_count": 70,
   "metadata": {},
   "outputs": [],
   "source": [
    "auto = ['AUT','AUT.','AUTOMATICO']\n",
    "\n",
    "for automatico in auto:\n",
    "    df.loc[(df.vehicle_model.str.endswith(automatico))&(df.gearbox != 'Automático'), 'gearbox'] = 'Automático'"
   ]
  },
  {
   "cell_type": "code",
   "execution_count": 71,
   "metadata": {},
   "outputs": [
    {
     "name": "stderr",
     "output_type": "stream",
     "text": [
      "/home/lorenzovaralo/anaconda3/envs/ML/lib/python3.7/site-packages/pandas/core/indexing.py:1637: SettingWithCopyWarning: \n",
      "A value is trying to be set on a copy of a slice from a DataFrame\n",
      "\n",
      "See the caveats in the documentation: https://pandas.pydata.org/pandas-docs/stable/user_guide/indexing.html#returning-a-view-versus-a-copy\n",
      "  self._setitem_single_block(indexer, value, name)\n"
     ]
    }
   ],
   "source": [
    "mec = ['MEC', 'MEC.']\n",
    "\n",
    "for manual in mec:\n",
    "    df.gearbox.loc[(df.vehicle_model.str.endswith(manual))&(df.gearbox != 'Manual')] = 'Manual'"
   ]
  },
  {
   "cell_type": "code",
   "execution_count": 72,
   "metadata": {},
   "outputs": [
    {
     "data": {
      "text/plain": [
       "Id\n",
       "35       GM - CHEVROLET CRUZE HB SPORT LT 1.8 16V FLEXP...\n",
       "78        CITROEN C3 EXCLUS./EXCL.SOLARIS 1.6 FLEX 16V MEC\n",
       "169                HYUNDAI HB20 EVOLUTION 1.0 FLEX 12V MEC\n",
       "197            GM - CHEVROLET HATCH LT 1.0 12V FLEX 5P MEC\n",
       "221                  HYUNDAI HB20S VISION 1.0 FLEX 12V MEC\n",
       "                               ...                        \n",
       "14260    GM - CHEVROLET VECTRA ELEGAN. 2.0 MPFI 8V FLEX...\n",
       "14338    GM - CHEVROLET CRUZE HB SPORT LT 1.8 16V FLEXP...\n",
       "14505     RENAULT DUSTER DYNAMIQUE 4X4 2.0 HI-FLEX 16V MEC\n",
       "14689    GM - CHEVROLET VECTRA EXPRESSION 2.0 MPFI FLEX...\n",
       "14720     CITROEN C3 PICASSO EXCLUSIVE 1.6 FLEX 16V 5P MEC\n",
       "Name: vehicle_model, Length: 123, dtype: object"
      ]
     },
     "execution_count": 72,
     "metadata": {},
     "output_type": "execute_result"
    }
   ],
   "source": [
    "df.vehicle_model.loc[df.vehicle_model.str.endswith('MEC')]"
   ]
  },
  {
   "cell_type": "code",
   "execution_count": 73,
   "metadata": {},
   "outputs": [],
   "source": [
    "gear_by_version = df.groupby('vehicle_model')['gearbox']\n",
    "\n",
    "gear_by_version = gear_by_version.agg(pd.Series.mode).apply(lambda x: x if isinstance(x, str) else 'Manual')"
   ]
  },
  {
   "cell_type": "code",
   "execution_count": null,
   "metadata": {},
   "outputs": [],
   "source": []
  },
  {
   "cell_type": "code",
   "execution_count": 74,
   "metadata": {},
   "outputs": [
    {
     "data": {
      "text/plain": [
       "vehicle_model\n",
       "ALFA ROMEO 147 2.0 16V 148CV 4P SEMI-AUT.                   Automático\n",
       "ALFA ROMEO 156 TS/SPORT/ELEGANT 2.0 16V                         Manual\n",
       "ALFA ROMEO 164 3.0 V6                                           Manual\n",
       "ASIA MOTORS TOPIC CARGA 2.7 DIESEL (FURGÃO)                     Manual\n",
       "AUDI A1 1.4 TFSI 122CV S-TRONIC 3P                          Automático\n",
       "                                                               ...    \n",
       "VW - VOLKSWAGEN VOYAGE I MOTION TREND 1.6 MI T. FLEX 8V         Manual\n",
       "VW - VOLKSWAGEN VOYAGE L/LS/PLUS/GLS/S/SPORT/SUPER L.ANG        Manual\n",
       "VW - VOLKSWAGEN VOYAGE TREND 1.6 MI TOTAL FLEX 8V 4P            Manual\n",
       "VW - VOLKSWAGEN VOYAGE TRENDLINE 1.0 T.FLEX 12V 4P              Manual\n",
       "VW - VOLKSWAGEN VOYAGE TRENDLINE 1.6 T.FLEX 8V 4P               Manual\n",
       "Name: gearbox, Length: 2165, dtype: object"
      ]
     },
     "execution_count": 74,
     "metadata": {},
     "output_type": "execute_result"
    }
   ],
   "source": [
    "gear_by_version"
   ]
  },
  {
   "cell_type": "code",
   "execution_count": 75,
   "metadata": {},
   "outputs": [],
   "source": [
    "df.loc[:, 'gearbox'] = df.vehicle_model.map(gear_by_version)"
   ]
  },
  {
   "cell_type": "code",
   "execution_count": 76,
   "metadata": {},
   "outputs": [],
   "source": [
    "df.loc[df.gearbox.str.find('Semi-Automático')>-1, 'gearbox'] = 'Automático'"
   ]
  },
  {
   "cell_type": "code",
   "execution_count": 77,
   "metadata": {},
   "outputs": [
    {
     "data": {
      "text/plain": [
       "listId              0\n",
       "sellerName          0\n",
       "adDate              0\n",
       "price               0\n",
       "ddd                 0\n",
       "brand               0\n",
       "model               0\n",
       "versao              0\n",
       "gearbox             0\n",
       "titulo              0\n",
       "region              0\n",
       "vehicle_model       0\n",
       "cartype          1722\n",
       "regdate             0\n",
       "mileage             0\n",
       "motorpower          0\n",
       "fuel              159\n",
       "car_steering     1606\n",
       "carcolor         1217\n",
       "doors             525\n",
       "end_tag          1834\n",
       "extra             936\n",
       "addesc              0\n",
       "pro_vendor          0\n",
       "fipe                0\n",
       "valorFipe           0\n",
       "dtype: int64"
      ]
     },
     "execution_count": 77,
     "metadata": {},
     "output_type": "execute_result"
    }
   ],
   "source": [
    "df.isna().sum()"
   ]
  },
  {
   "cell_type": "code",
   "execution_count": 78,
   "metadata": {},
   "outputs": [],
   "source": [
    "df.car_steering = df.vehicle_model.map(df.groupby('vehicle_model')['car_steering'].agg(pd.Series.mode)).apply(lambda x: x if isinstance(x, str) else x.any())"
   ]
  },
  {
   "cell_type": "code",
   "execution_count": 79,
   "metadata": {},
   "outputs": [],
   "source": [
    "df.loc[df.car_steering == False, 'car_steering'] = 'Hidráulica'"
   ]
  },
  {
   "cell_type": "code",
   "execution_count": 80,
   "metadata": {},
   "outputs": [
    {
     "name": "stderr",
     "output_type": "stream",
     "text": [
      "/home/lorenzovaralo/anaconda3/envs/ML/lib/python3.7/site-packages/pandas/core/indexing.py:1637: SettingWithCopyWarning: \n",
      "A value is trying to be set on a copy of a slice from a DataFrame\n",
      "\n",
      "See the caveats in the documentation: https://pandas.pydata.org/pandas-docs/stable/user_guide/indexing.html#returning-a-view-versus-a-copy\n",
      "  self._setitem_single_block(indexer, value, name)\n"
     ]
    }
   ],
   "source": [
    "doors_by_vm = df.groupby('vehicle_model')['doors'].agg(pd.Series.mode)\n",
    "df.doors.loc[df.doors.isna()] = df.vehicle_model.loc[df.doors.isna()].map(doors_by_vm.apply(lambda x: x if isinstance(x, str) else x.any()))"
   ]
  },
  {
   "cell_type": "code",
   "execution_count": 81,
   "metadata": {},
   "outputs": [],
   "source": [
    "df.loc[df.doors == False, 'doors'] = '4 portas'"
   ]
  },
  {
   "cell_type": "code",
   "execution_count": 82,
   "metadata": {},
   "outputs": [],
   "source": [
    "df.doors = df.doors.apply(lambda x: 1 if x == '4 portas' else 0)"
   ]
  },
  {
   "cell_type": "code",
   "execution_count": 83,
   "metadata": {},
   "outputs": [
    {
     "data": {
      "text/plain": [
       "listId              0\n",
       "sellerName          0\n",
       "adDate              0\n",
       "price               0\n",
       "ddd                 0\n",
       "brand               0\n",
       "model               0\n",
       "versao              0\n",
       "gearbox             0\n",
       "titulo              0\n",
       "region              0\n",
       "vehicle_model       0\n",
       "cartype          1722\n",
       "regdate             0\n",
       "mileage             0\n",
       "motorpower          0\n",
       "fuel              159\n",
       "car_steering        0\n",
       "carcolor         1217\n",
       "doors               0\n",
       "end_tag          1834\n",
       "extra             936\n",
       "addesc              0\n",
       "pro_vendor          0\n",
       "fipe                0\n",
       "valorFipe           0\n",
       "dtype: int64"
      ]
     },
     "execution_count": 83,
     "metadata": {},
     "output_type": "execute_result"
    }
   ],
   "source": [
    "df.isna().sum()"
   ]
  },
  {
   "cell_type": "code",
   "execution_count": 84,
   "metadata": {},
   "outputs": [
    {
     "name": "stdout",
     "output_type": "stream",
     "text": [
      "listId Falses= 0\n",
      "listId Nones= 0\n",
      "sellerName Falses= 0\n",
      "sellerName Nones= 0\n",
      "adDate Falses= 0\n",
      "adDate Nones= 0\n",
      "price Falses= 0\n",
      "price Nones= 0\n",
      "ddd Falses= 0\n",
      "ddd Nones= 0\n",
      "brand Falses= 0\n",
      "brand Nones= 0\n",
      "model Falses= 0\n",
      "model Nones= 0\n",
      "versao Falses= 0\n",
      "versao Nones= 0\n",
      "gearbox Falses= 0\n",
      "gearbox Nones= 0\n",
      "titulo Falses= 0\n",
      "titulo Nones= 0\n",
      "region Falses= 0\n",
      "region Nones= 0\n",
      "vehicle_model Falses= 0\n",
      "vehicle_model Nones= 0\n",
      "cartype Falses= 0\n",
      "cartype Nones= 0\n",
      "regdate Falses= 0\n",
      "regdate Nones= 0\n",
      "mileage Falses= 740\n",
      "mileage Nones= 0\n",
      "motorpower Falses= 121\n",
      "motorpower Nones= 0\n",
      "fuel Falses= 0\n",
      "fuel Nones= 0\n",
      "car_steering Falses= 0\n",
      "car_steering Nones= 0\n",
      "carcolor Falses= 0\n",
      "carcolor Nones= 0\n",
      "doors Falses= 1136\n",
      "doors Nones= 0\n",
      "end_tag Falses= 0\n",
      "end_tag Nones= 0\n",
      "extra Falses= 0\n",
      "extra Nones= 0\n",
      "addesc Falses= 0\n",
      "addesc Nones= 0\n",
      "pro_vendor Falses= 4207\n",
      "pro_vendor Nones= 0\n",
      "fipe Falses= 0\n",
      "fipe Nones= 0\n",
      "valorFipe Falses= 0\n",
      "valorFipe Nones= 0\n"
     ]
    }
   ],
   "source": [
    "for i in df.columns:\n",
    "    print(f'{i} Falses=', (df.loc[:, i] == False).sum())\n",
    "    print(f'{i} Nones=', (df.loc[:, i] == None).sum())"
   ]
  },
  {
   "cell_type": "code",
   "execution_count": 85,
   "metadata": {},
   "outputs": [],
   "source": [
    "df.loc[df.fuel.isna(), 'fuel'] = df.loc[df.fuel.isna(), 'vehicle_model'].map(df.groupby('vehicle_model').fuel.agg(pd.Series.mode)).apply(lambda x: x if isinstance(x, str) else x.any())\n",
    "df.loc[df.fuel == False, 'fuel'] = df.loc[df.fuel == False, 'brand'].map(df.groupby('brand').fuel.agg(pd.Series.mode)).apply(lambda x: x if isinstance(x, str) else x.any())"
   ]
  },
  {
   "cell_type": "code",
   "execution_count": 86,
   "metadata": {},
   "outputs": [],
   "source": [
    "ind = df.loc[df.fuel.isna()].index"
   ]
  },
  {
   "cell_type": "code",
   "execution_count": 87,
   "metadata": {},
   "outputs": [
    {
     "data": {
      "text/plain": [
       "Series([], Name: fuel, dtype: int64)"
      ]
     },
     "execution_count": 87,
     "metadata": {},
     "output_type": "execute_result"
    }
   ],
   "source": [
    "df.fuel.loc[df.index.isin(ind)].value_counts()"
   ]
  },
  {
   "cell_type": "code",
   "execution_count": 88,
   "metadata": {},
   "outputs": [],
   "source": [
    "df.loc[(df.vehicle_model.str.find('DIE') > -1)&(df.fuel != 'Diesel'), 'fuel'] = 'Diesel'"
   ]
  },
  {
   "cell_type": "code",
   "execution_count": 89,
   "metadata": {},
   "outputs": [],
   "source": [
    "df.loc[(df.vehicle_model.str.find('FLEX') > -1)&(df.fuel != 'Flex'), 'fuel'] = 'Flex'"
   ]
  },
  {
   "cell_type": "code",
   "execution_count": 91,
   "metadata": {},
   "outputs": [
    {
     "data": {
      "text/plain": [
       "listId              0\n",
       "sellerName          0\n",
       "adDate              0\n",
       "price               0\n",
       "ddd                 0\n",
       "brand               0\n",
       "model               0\n",
       "versao              0\n",
       "gearbox             0\n",
       "titulo              0\n",
       "region              0\n",
       "vehicle_model       0\n",
       "cartype          1722\n",
       "regdate             0\n",
       "mileage             0\n",
       "motorpower          0\n",
       "fuel                0\n",
       "car_steering        0\n",
       "carcolor         1217\n",
       "doors               0\n",
       "end_tag          1834\n",
       "extra             936\n",
       "addesc              0\n",
       "pro_vendor          0\n",
       "fipe                0\n",
       "valorFipe           0\n",
       "dtype: int64"
      ]
     },
     "execution_count": 91,
     "metadata": {},
     "output_type": "execute_result"
    }
   ],
   "source": [
    "df.isna().sum()"
   ]
  },
  {
   "cell_type": "code",
   "execution_count": 103,
   "metadata": {},
   "outputs": [],
   "source": [
    "df.loc[(df.fuel != 'Flex')&(df.fuel != 'Gasolina')&(df.fuel != 'Diesel'), 'fuel'] = 'Outro'"
   ]
  },
  {
   "cell_type": "code",
   "execution_count": 104,
   "metadata": {},
   "outputs": [
    {
     "data": {
      "text/plain": [
       "Flex        8546\n",
       "Gasolina    1899\n",
       "Diesel      1367\n",
       "Outro         51\n",
       "Name: fuel, dtype: int64"
      ]
     },
     "execution_count": 104,
     "metadata": {},
     "output_type": "execute_result"
    }
   ],
   "source": [
    "df.fuel.value_counts()"
   ]
  },
  {
   "cell_type": "code",
   "execution_count": 106,
   "metadata": {},
   "outputs": [
    {
     "data": {
      "text/plain": [
       "11863"
      ]
     },
     "execution_count": 106,
     "metadata": {},
     "output_type": "execute_result"
    }
   ],
   "source": [
    "df"
   ]
  },
  {
   "cell_type": "code",
   "execution_count": 110,
   "metadata": {},
   "outputs": [],
   "source": [
    "a = pd.DataFrame([['a',1],['b',2],['c',3], [False,4]])"
   ]
  },
  {
   "cell_type": "code",
   "execution_count": 117,
   "metadata": {},
   "outputs": [
    {
     "data": {
      "text/plain": [
       "0    False\n",
       "1    False\n",
       "2    False\n",
       "3     True\n",
       "Name: 0, dtype: bool"
      ]
     },
     "execution_count": 117,
     "metadata": {},
     "output_type": "execute_result"
    }
   ],
   "source": [
    "~a[0].astype(bool)"
   ]
  },
  {
   "cell_type": "code",
   "execution_count": null,
   "metadata": {},
   "outputs": [],
   "source": []
  },
  {
   "cell_type": "code",
   "execution_count": null,
   "metadata": {},
   "outputs": [],
   "source": [
    "df.dropna(,)"
   ]
  }
 ],
 "metadata": {
  "interpreter": {
   "hash": "12989127fc9eea451cc056eaccf32cd26bbc7865e73ddcf9409d9c2184a0fb81"
  },
  "kernelspec": {
   "display_name": "Python 3.7.10 ('ML')",
   "language": "python",
   "name": "python3"
  },
  "language_info": {
   "codemirror_mode": {
    "name": "ipython",
    "version": 3
   },
   "file_extension": ".py",
   "mimetype": "text/x-python",
   "name": "python",
   "nbconvert_exporter": "python",
   "pygments_lexer": "ipython3",
   "version": "3.7.12"
  },
  "orig_nbformat": 4
 },
 "nbformat": 4,
 "nbformat_minor": 2
}
